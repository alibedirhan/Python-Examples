{
 "cells": [
  {
   "cell_type": "markdown",
   "metadata": {},
   "source": [
    "### Exercise 61: Average\n",
    "\n",
    "In this exercise you will create a program that computes the average of a collection\n",
    "of values entered by the user. The user will enter 0 as a sentinel value to indicate\n",
    "that no further values will be provided. Your program should display an appropriate\n",
    "error message if the first value entered by the user is 0.\n",
    "Hint: Because the 0 marks the end of the input it should not be included in the\n",
    "average."
   ]
  },
  {
   "cell_type": "code",
   "execution_count": null,
   "metadata": {},
   "outputs": [],
   "source": [
    "print(\"Input some integers to calculate their sum and average. Input 0 to exit.\")\n",
    "\n",
    "count = 0\n",
    "sum = 0.0\n",
    "number = 1\n",
    "\n",
    "while number != 0:\n",
    "    number = int(input(\"\"))\n",
    "    sum = sum + number\n",
    "    count = count + 1\n",
    "\n",
    "if count == 0:\n",
    "    print(\"Input some numbers\")\n",
    "else:\n",
    "    print(\"Average and Sum of the above numbers are: \", sum / (count-1), sum)"
   ]
  },
  {
   "cell_type": "markdown",
   "metadata": {},
   "source": [
    "#### Exercise 62: Discount Table\n",
    "\n",
    "A particular retailer is having a 60 percent off sale on a variety of discontinued\n",
    "products. The retailer would like to help its customers determine the reduced price\n",
    "of the merchandise by having a printed discount table on the shelf that shows the original prices and the prices after the discount has been applied. Write a program that\n",
    "uses a loop to generate this table, showing the original price, the discount amount,\n",
    "and the new price for purchases of dollar 4.95, dollar 9.95, dollar 14.95, dollar 19.95 and dollar 24.95. Ensure\n",
    "that the discount amounts and the new prices are rounded to 2 decimal places when\n",
    "they are displayed."
   ]
  },
  {
   "cell_type": "code",
   "execution_count": null,
   "metadata": {},
   "outputs": [],
   "source": [
    "item = [4.95, 9.95, 14.95, 19.95, 24.95]\n",
    "discount = [0.60, 0.60, 0.60, 0.60]\n",
    "\n",
    "for items, discounts in zip(item, discount):#The zip() function returns a zip object, which is an iterator of tuples where the first item in each passed iterator is paired together, and then the second item in each passed iterator are paired together etc.\n",
    "    total = items * discounts\n",
    "    sale = items - discounts\n",
    "    print(f\"\\nThe regular price is: ${items}\")\n",
    "    print(\"A savings of 60 percent is: $%.2f\" % total)\n",
    "    print(\"Your total per item is: $%.2f\" % sale)"
   ]
  },
  {
   "cell_type": "markdown",
   "metadata": {},
   "source": [
    "#### Exercise 63: Temperature Conversion Table\n",
    "\n",
    "Write a program that displays a temperature conversion table for degrees Celsius and\n",
    "degrees Fahrenheit. The table should include rows for all temperatures between 0\n",
    "and 100 degrees Celsius that are multiples of 10 degrees Celsius. Include appropriate\n",
    "headings on your columns. The formula for converting between degrees Celsius and\n",
    "degrees Fahrenheit can be found on the internet."
   ]
  },
  {
   "cell_type": "code",
   "execution_count": null,
   "metadata": {},
   "outputs": [],
   "source": [
    "degrees = [0,1,2,3,4,5,6,7,8,9,10]\n",
    "\n",
    "for i in degrees:\n",
    "    celsius = i * 10\n",
    "    fahrenheit = celsius * 1.8 + 32\n",
    "    print(\"Celsius :\",celsius, \"Fahrenheit :\", fahrenheit)"
   ]
  },
  {
   "cell_type": "markdown",
   "metadata": {},
   "source": [
    "#### Exercise 64: No More Pennies\n",
    "\n",
    "February 4, 2013 was the last day that pennies were distributed by the Royal Canadian\n",
    "Mint. Now that pennies have been phased out retailers must adjust totals so that they\n",
    "are multiples of 5 cents when they are paid for with cash (credit card and debit card\n",
    "transactions continue to be charged to the penny). While retailers have some freedom\n",
    "in how they do this, most choose to round to the closest nickel.\n",
    "Write a program that reads prices from the user until a blank line is entered.\n",
    "Display the total cost of all the entered items on one line, followed by the amount\n",
    "due if the customer pays with cash on a second line. The amount due for a cash\n",
    "payment should be rounded to the nearest nickel. One way to compute the cash\n",
    "payment amount is to begin by determining how many pennies would be needed to\n",
    "pay the total. Then compute the remainder when this number of pennies is divided\n",
    "by 5. Finally, adjust the total down if the remainder is less than 2.5. Otherwise adjust\n",
    "the total up."
   ]
  },
  {
   "cell_type": "code",
   "execution_count": null,
   "metadata": {},
   "outputs": [],
   "source": [
    "print (\"*****The Of Pennies Problems*****\")\n",
    "print (\"*\" * 33)\n",
    "\n",
    "pennies_per_nickel = 5\n",
    "nickel = 0.05\n",
    "total = 0\n",
    "line = input(\"Enter the price of the item(blank to qiut):\")\n",
    "\n",
    "while line != \"\":\n",
    "    total = total + float(line)\n",
    "    \n",
    "    line = input(\"Enter the price of the item(blank to qiut):\")\n",
    "    print(\"The exact amount payable is %.02f\" %total)\n",
    "    \n",
    "    \n",
    "rounding_indicator = total * 100 %pennies_per_nickel\n",
    "if rounding_indicator < pennies_per_nickel / 2:\n",
    "    cash_total - rounding_indicator / 100\n",
    "else:\n",
    "    cash_total = total + nickel - rounding_indicator / 100\n",
    "\n",
    "print(\"The cash amount payable is %.02f\" % cash_total)    \n"
   ]
  },
  {
   "cell_type": "markdown",
   "metadata": {},
   "source": [
    "#### Exercise 65: Compute the Perimeter of a Polygon\n",
    "\n",
    "Write a program that computes the perimeter of a polygon. Begin by reading the x\n",
    "and y values for the first point on the perimeter of the polygon from the user. Then\n",
    "continue reading pairs of x and y values until the user enters a blank line for the x-coordinate. Each time you read an additional coordinate you should compute the\n",
    "distance to the previous point and add it to the perimeter. When a blank line is entered\n",
    "for the x-coordinate your program should add the distance from the last point back\n",
    "to the first point to the perimeter. Then it should display the total perimeter. Sample\n",
    "input and output is shown below, with user input shown in bold:\n",
    "Enter the x part of the coordinate: 0\n",
    "Enter the y part of the coordinate: 0\n",
    "Enter the x part of the coordinate: (blank to quit): 1\n",
    "Enter the y part of the coordinate: 0\n",
    "Enter the x part of the coordinate: (blank to quit): 0\n",
    "Enter the y part of the coordinate: 1\n",
    "Enter the x part of the coordinate: (blank to quit):\n",
    "The perimeter of that polygon is 3.414213562373095"
   ]
  },
  {
   "cell_type": "code",
   "execution_count": null,
   "metadata": {},
   "outputs": [],
   "source": [
    "from math import sqrt\n",
    "\n",
    "x1 = int(input(\"Please enter an x-coordinate: \"))\n",
    "y1 = int(input(\"Please enter a y-coordinate: \"))\n",
    "\n",
    "perimeter = 0\n",
    "while x1 != \"\":\n",
    "    x2 = input(\"Enter the x part of the coordinate (blank to quit): \")\n",
    "    y2 = input(\"Enter the y part of the coordinate (blank to quit): \")\n",
    "    \n",
    "    if x2 != \"\" or y2 != \"\":\n",
    "        x2 = int(x2)\n",
    "        y2 = int(y2)\n",
    "    else:\n",
    "        break\n",
    "        \n",
    "    distance = sqrt((x2 - x1) ** 2 + (y2 - y1) ** 2) \n",
    "    perimeter = distance + perimeter\n",
    "    \n",
    "x1 = x2 \n",
    "y1 = y2 \n",
    "print(\"The perimeter of this polygon is {}.\".format(perimeter))"
   ]
  },
  {
   "cell_type": "markdown",
   "metadata": {},
   "source": [
    "### Exercise 66: Compute a Grade Point Average\n",
    "\n",
    "Exercise 51 included a table that shows the conversion from letter grades to grade\n",
    "points at a particular academic institution. In this exercise you will compute the\n",
    "grade point average of an arbitrary number of letter grades entered by the user. The\n",
    "user will enter a blank line to indicate that all of the grades have been provided. For\n",
    "example, if the user enters A, followed by C+, followed by B, followed by a blank\n",
    "line then your program should report a grade point average of 3.1.\n",
    "You may find your solution to Exercise 51 helpful when completing this exercise.\n",
    "Your program does not need to do any error checking. It can assume that each value\n",
    "entered by the user will always be a valid letter grade or a blank line."
   ]
  },
  {
   "cell_type": "code",
   "execution_count": null,
   "metadata": {},
   "outputs": [],
   "source": [
    "letter = ()\n",
    "count = 0\n",
    "grade = 0\n",
    "\n",
    "while letter != \"\":\n",
    "    letter = input(\"Please enter your letter grade: \").upper()\n",
    "    count += 1\n",
    "    \n",
    "    if (letter == \"A+\") or (letter == \"A\"):\n",
    "        grade = 4.0 + grade\n",
    "    elif letter == \"A-\":\n",
    "        grade = 3.7 + grade\n",
    "    elif letter == \"B+\":\n",
    "        grade = 3.3 + grade\n",
    "    elif letter == \"B\":\n",
    "        grade = 3.0 + grade\n",
    "    elif letter == \"B-\":\n",
    "        grade = 2.7 + grade\n",
    "    elif letter == \"C+\":\n",
    "        grade = 2.3 + grade\n",
    "    elif letter == \"C\":\n",
    "        grade = 2.0 + grade\n",
    "    elif letter == \"C-\":\n",
    "        grade = 1.7 + grade\n",
    "    elif letter == \"D+\":\n",
    "        grade = 1.3 + grade\n",
    "    elif letter == \"D\":\n",
    "        grade = 1.0 + grade\n",
    "    elif letter == \"F\":\n",
    "        grade = 0 + grade\n",
    "    elif grade_letter == \"\":\n",
    "        gpa = grade / (count - 1)  \n",
    "        count = count - 1\n",
    "\n",
    "    \n",
    "print(\"The Grade point average is: %.1f\" % gpa)\n",
    "print(\"Total Grades calculated: %.1f \"% count)    "
   ]
  },
  {
   "cell_type": "markdown",
   "metadata": {},
   "source": [
    "### Exercise 67: Admission Price\n",
    "\n",
    "A particular zoo determines the price of admission based on the age of the guest.\n",
    "Guests 2 years of age and less are admitted without charge. Children between 3 and\n",
    "12 years of age cost dollar 14.00. Seniors aged 65 years and over cost dollar 18.00. Admission\n",
    "for all other guests is dollar 23.00.\n",
    "Create a program that begins by reading the ages of all of the guests in a group\n",
    "from the user, with one age entered on each line. The user will enter a blank line to\n",
    "indicate that there are no more guests in the group. Then your program should display\n",
    "the admission cost for the group with an appropriate message. The cost should be\n",
    "displayed using two decimal places."
   ]
  },
  {
   "cell_type": "code",
   "execution_count": null,
   "metadata": {},
   "outputs": [],
   "source": [
    "age = ()\n",
    "cost = 0\n",
    "age_int = 0\n",
    "age = input(\"Please enter your age: \")\n",
    "\n",
    "while age != \"\":\n",
    "    age_int = int(age)\n",
    "    if age_int <= 2:\n",
    "        cost = 0 + cost\n",
    "    elif age_int >= 3 and age_int < 12:\n",
    "        cost = 14 + cost\n",
    "    elif age_int <= 65:\n",
    "        cost = 18 + cost\n",
    "    else:\n",
    "        cost = 23 + cost\n",
    "    age = input(\"Enter the next age (push enter for the quit): \")\n",
    "if age == \"\":\n",
    "    print(\"Total Cost of Guests: $%.02f\" % cost)"
   ]
  },
  {
   "cell_type": "markdown",
   "metadata": {},
   "source": [
    "### Exercise 68: Parity Bits\n",
    "\n",
    "A parity bit is a simple mechanism for detecting errors in data transmitted over an\n",
    "unreliable connection such as a telephone line. The basic idea is that an additional bit\n",
    "is transmitted after each group of 8 bits so that a single bit error in the transmission\n",
    "can be detected.\n",
    "Parity bits can be computed for either even parity or odd parity. If even parity\n",
    "is selected then the parity bit that is transmitted is chosen so that the total number\n",
    "of one bits transmitted (8 bits of data plus the parity bit) is even. When odd parity\n",
    "is selected the parity bit is chosen so that the total number of one bits transmitted\n",
    "is odd.\n",
    "Write a program that computes the parity bit for groups of 8 bits entered by the\n",
    "user using even parity. Your program should read strings containing 8 bits until the\n",
    "user enters a blank line. After each string is entered by the user your program should\n",
    "display a clear message indicating whether the parity bit should be 0 or 1. Display\n",
    "an appropriate error message if the user enters something other than 8 bits.\n",
    "Hint: You should read the input from the user as a string. Then you can use\n",
    "the count method to help you determine the number of zeros and ones in the\n",
    "string. Information about the count method is available online."
   ]
  },
  {
   "cell_type": "code",
   "execution_count": null,
   "metadata": {},
   "outputs": [],
   "source": [
    "line = input(\"Please enter 8 bits: \")\n",
    "\n",
    "while line !=\"\": \n",
    "    if line.count(\"0\") + line.count(\"1\") != 8 or len(line) != 8: #The count() method returns the number of elements with the specified value. list.count(value)\n",
    "        print(\"That wasn't 8 bits. Try again.\")\n",
    "    else:\n",
    "        ones = line.count(\"1\")\n",
    "        \n",
    "        if ones % 2 == 0:\n",
    "            print(\"The parity bit should be 0.\")\n",
    "            \n",
    "        else:\n",
    "            print(\"The parity bit should be 1.\")\n",
    "            \n",
    "    \n",
    "    line = input(\"Enter 8 bits: \")\n",
    "    "
   ]
  },
  {
   "cell_type": "markdown",
   "metadata": {},
   "source": [
    "### Exercise 69: Approximate π\n",
    "\n",
    "The value of π can be approximated by the following infinite series:\n",
    "\n",
    "$$\\pi \\approx 3 + \\frac{4}{2x3x4}-\\frac{4}{4x5x6}+\\frac{4}{6x7x8}-\\frac{4}{8x9x10}+\\frac{4}{10x11x12}- ...$$\n",
    "\n",
    "Write a program that displays 15 approximations of π. The first approximation\n",
    "should make use of only the first term from the infinite series. Each additional approximation displayed by your program should include one more term in the series, making\n",
    "it a better approximation of π than any of the approximations displayed previously"
   ]
  },
  {
   "cell_type": "code",
   "execution_count": null,
   "metadata": {},
   "outputs": [],
   "source": [
    "print(\"Nilakantha Series Pi\")\n",
    "print(\"*\" * 17)\n",
    "\n",
    "the_pi = 0.0\n",
    "the_num = 2.0\n",
    "\n",
    "for each in range(500000):\n",
    "      the_pi = the_pi + 4.0/(the_num*(the_num+1.0)*(the_num+2.0)) - 4.0/((the_num+2.0)*(the_num+3.0)*(the_num+4.0))\n",
    "      the_num += 4.0\n",
    "print (the_pi + 3)"
   ]
  },
  {
   "cell_type": "markdown",
   "metadata": {},
   "source": [
    "### Exercise 70: Caesar Cipher\n",
    "\n",
    "One of the first known examples of encryption was used by Julius Caesar. Caesar\n",
    "needed to provide written instructions to his generals, but he didn’t want his enemies to learn his plans if the message slipped into their hands. As result, he developed\n",
    "what later became known as the Caesar Cipher.\n",
    "The idea behind this cipher is simple (and as a result, it provides no protection\n",
    "against modern code breaking techniques). Each letter in the original message is\n",
    "shifted by 3 places. As a result, A becomes D, B becomes E, C becomes F, D\n",
    "becomes G, etc. The last three letters in the alphabet are wrapped around to the\n",
    "beginning: X becomes A, Y becomes B and Z becomes C. Non-letter characters are\n",
    "not modified by the cipher.\n",
    "Write a program that implements a Caesar cipher. Allow the user to supply the\n",
    "message and the shift amount, and then display the shifted message. Ensure that\n",
    "your program encodes both uppercase and lowercase letters. Your program should\n",
    "also support negative shift values so that it can be used both to encode messages and\n",
    "decode messages."
   ]
  },
  {
   "cell_type": "code",
   "execution_count": null,
   "metadata": {},
   "outputs": [],
   "source": [
    "message = input(\"Enter the message: \")\n",
    "shift = int(input(\"Enter the shift value: \"))\n",
    "            \n",
    "new_message = \"\"\n",
    "for ch in message:\n",
    "    if ch >= \"a\" and ch <= \"z\":\n",
    "            pos = ord(ch) - ord(\"a\") #The ord() function returns the number representing the unicode code of a specified character. x = ord(\"h\")\n",
    "            pos = (pos + shift) % 26\n",
    "            new_char = chr(pos + ord(\"a\")) # The chr() function returns the character that represents the specified unicode. chr(number)\n",
    "            new_message = new_message + new_char\n",
    "    elif ch >= \"A\" and ch <= \"Z\":\n",
    "            pos = ord(ch) - ord(\"A\")\n",
    "            pos = (pos + shift) % 26\n",
    "            new_char = chr(pos + ord(\"A\"))\n",
    "            new_message = new_message + new_char\n",
    "    else:\n",
    "            new_message = new_message + ch\n",
    "\n",
    "print(\"The shifted message is\",new_message)\n",
    "                "
   ]
  },
  {
   "cell_type": "markdown",
   "metadata": {},
   "source": [
    "### Exercise 71: Square Root\n",
    "\n",
    "Write a program that implements Newton’s method to compute and display the square\n",
    "root of a number entered by the user. The algorithm for Newton’s method follows:\n",
    "\n",
    "<img src=\"image/71.png\">\n",
    "\n",
    "When this algorithm completes, guess contains an approximation of the square\n",
    "root. The quality of the approximation depends on how you define “good enough”.\n",
    "In the author’s solution, guess was considered good enough when the absolute value\n",
    "of the difference between guess ∗ guess and x was less than or equal to 10^12."
   ]
  },
  {
   "cell_type": "code",
   "execution_count": null,
   "metadata": {},
   "outputs": [],
   "source": [
    "n = float(input('What number would you like to squareroot?'))\n",
    "x = float(input('Estimate your answer'))\n",
    "final = (0.5*(x+(n/x)))\n",
    "print (final)\n",
    "for i in range(0,11):\n",
    "    final = (0.5*(final+(n/final)))\n",
    "    print (final)"
   ]
  },
  {
   "cell_type": "markdown",
   "metadata": {},
   "source": [
    "### Exercise 72: Is a String a Palindrome?\n",
    "\n",
    "A string is a palindrome if it is identical forward and backward. For example “anna”,\n",
    "“civic”, “level” and “hannah” are all examples of palindromic words.Write a program\n",
    "that reads a string from the user and uses a loop to determines whether or not it is a\n",
    "palindrome. Display the result, including a meaningful output message."
   ]
  },
  {
   "cell_type": "code",
   "execution_count": null,
   "metadata": {},
   "outputs": [],
   "source": [
    "word = input(\"Please enter word: \")\n",
    " \n",
    "palindrome = \"\"\n",
    "for rev_palindrome in word:\n",
    "    palindrome = rev_palindrome + palindrome\n",
    " \n",
    "if (word == palindrome):\n",
    "    print(palindrome, \"is Palindrome\")\n",
    "else:\n",
    "    print(palindrome,\"is not Palindrome\")"
   ]
  },
  {
   "cell_type": "markdown",
   "metadata": {},
   "source": [
    "### Exercise 73: Multiple Word Palindromes\n",
    "\n",
    "There are numerous phrases that are palindromes when spacing is ignored. Examples\n",
    "include “go dog”, “flee to me remote elf” and “some men interpret nine memos”,\n",
    "among many others. Extend your solution to Exercise 72 so that it ignores spacing\n",
    "while determining whether or not a string is a palindrome. For an additional challenge,\n",
    "extend your solution so that is also ignores punctuation marks and treats uppercase\n",
    "and lowercase letters as equivalent."
   ]
  },
  {
   "cell_type": "code",
   "execution_count": null,
   "metadata": {},
   "outputs": [],
   "source": [
    "word = input(\"Please enter word: \")\n",
    "word1 = word.replace(\" \", \"\") #remove space\n",
    "word1 = word1.lower() #remove upper case\n",
    "for char in \"1234567890@#$_&-+()/?!;:\\\"'£¢€¥^°={}][✓™®©%~`|•√π÷×¶∆><\": # remove all characters\n",
    "    word1 = word1.replace(char, \"\")\n",
    "\n",
    "palindrome = \"\"\n",
    "for rev_palindrome in word:\n",
    "    palindrome = rev_palindrome + palindrome\n",
    " \n",
    "if (word == palindrome):\n",
    "    print(palindrome, \"is Palindrome\")\n",
    "else:\n",
    "    print(palindrome,\"is not Palindrome\")"
   ]
  },
  {
   "cell_type": "markdown",
   "metadata": {},
   "source": [
    "### Exercise 74: Multiplication Table\n",
    "\n",
    "In this exercise you will create a program that displays a multiplication table that\n",
    "shows the products of all combinations of integers from 1 times 1 up to and including\n",
    "10 times 10. Your multiplication table should include a row of labels across the top\n",
    "of it containing the numbers 1 through 10. It should also include labels down the left\n",
    "side consisting of the numbers 1 through 10. The expected output from the program\n",
    "is shown below:\n",
    "\n",
    "\n",
    "<img src=\"image/74.png\">\n",
    "\n",
    "When completing this exercise you will probably find it helpful to be able to\n",
    "print out a value without moving down to the next line. This can be accomplished\n",
    "by added end=\"\" as the last parameter to your print statement. For example,\n",
    "print(\"A\") will display the letter A and then move down to the next line. The\n",
    "statement print(\"A\", end=\"\") will display the letter A without moving down\n",
    "to the next line, causing the next print statement to display its result on the same line\n",
    "as the letter A."
   ]
  },
  {
   "cell_type": "code",
   "execution_count": null,
   "metadata": {},
   "outputs": [],
   "source": [
    "n=int(input('Please enter a positive integer between 1 and 10: '))\n",
    "for row in range(1,n+1):\n",
    "    for col in range(1,n+1):\n",
    "        print(row*col, end=\"\\t\")\n",
    "    print()"
   ]
  },
  {
   "cell_type": "markdown",
   "metadata": {},
   "source": [
    "### Exercise 75: Greatest Common Divisor\n",
    "\n",
    "The greatest common divisor of two positive integers, n and m, is the largest number,\n",
    "d, which divides evenly into both n and m. There are several algorithms that can be\n",
    "used to solve this problem, including:\n",
    "<img src=\"image/75.png\">\n",
    "\n",
    "Write a program that reads two positive integers from the user and uses this algorithm\n",
    "to determine and report their greatest common divisor."
   ]
  },
  {
   "cell_type": "code",
   "execution_count": null,
   "metadata": {},
   "outputs": [],
   "source": [
    "n = int(input(\"Enter a Positive Integer: \"))\n",
    "m = int(input(\"Enter a Positive Integer: \"))\n",
    "\n",
    "d = min(n, m)\n",
    "\n",
    "while n % d != 0 or m % d != 0:\n",
    "    d = d - 1\n",
    "\n",
    "print(f\"\\nThe greatest common divisor of {n} and {m} is: {d}\")"
   ]
  },
  {
   "cell_type": "markdown",
   "metadata": {},
   "source": [
    "### Exercise 76: Prime Factors\n",
    "\n",
    "The prime factorization of an integer, n, can be determined using the following steps:\n",
    "<img src=\"image/76.png\">\n",
    "\n",
    "Write a program that reads an integer from the user. If the value entered by the\n",
    "user is less than 2 then your program should display an appropriate error message.\n",
    "Otherwise your program should display the prime numbers that can be multiplied\n",
    "together to compute n, with one factor appearing on each line"
   ]
  },
  {
   "cell_type": "code",
   "execution_count": null,
   "metadata": {},
   "outputs": [],
   "source": [
    "n=int(input(\"Enter an integer:\"))\n",
    "print(\"Factors are:\")\n",
    "i=1\n",
    "while(i<=n):\n",
    "    k=0\n",
    "    if(n%i==0):\n",
    "        j=1\n",
    "        while(j<=i):\n",
    "            if(i%j==0):\n",
    "                k=k+1\n",
    "            j=j+1\n",
    "        if(k==2):\n",
    "            print(i)\n",
    "    i=i+1"
   ]
  },
  {
   "cell_type": "markdown",
   "metadata": {},
   "source": [
    "### Exercise 77: Binary to Decimal\n",
    "\n",
    "Write a program that converts a binary (base 2) number to decimal (base 10). Your\n",
    "program should begin by reading the binary number from the user as a string. Then\n",
    "it should compute the equivalent decimal number by processing each digit in the\n",
    "binary number. Finally, your program should display the equivalent decimal number\n",
    "with an appropriate message."
   ]
  },
  {
   "cell_type": "code",
   "execution_count": null,
   "metadata": {},
   "outputs": [],
   "source": [
    "b_num = list(input(\"Input a binary number: \"))\n",
    "value = 0\n",
    "\n",
    "for i in range(len(b_num)):\n",
    "    digit = b_num.pop()\n",
    "    if digit == '1':\n",
    "        value = value + pow(2, i)\n",
    "print(\"The decimal value of the number is\", value)"
   ]
  },
  {
   "cell_type": "markdown",
   "metadata": {},
   "source": [
    "### Exercise 78: Decimal to Binary\n",
    "\n",
    "Write a program that converts a decimal (base 10) number to binary (base 2). Read the\n",
    "decimal number from the user as an integer and then use the division algorithm shown\n",
    "below to perform the conversion. When the algorithm completes, result contains the\n",
    "binary representation of the number. Display the result, along with an appropriate\n",
    "message."
   ]
  },
  {
   "cell_type": "code",
   "execution_count": null,
   "metadata": {},
   "outputs": [],
   "source": [
    "number = int(input(\"Enter a decimal to convert: \"))\n",
    "\n",
    "base = 2\n",
    "result = \"\"\n",
    "q = number\n",
    "\n",
    "r = q % base\n",
    "result = str(r) + result\n",
    "q = q // base\n",
    "\n",
    "while q > 0:\n",
    "    r = q % base\n",
    "    result = str(r) + result\n",
    "    q = q // base\n",
    "\n",
    "print(\"\\nThe decimal is:\", number, \"\\nThe binary is:\", result)"
   ]
  },
  {
   "cell_type": "markdown",
   "metadata": {},
   "source": [
    "### Exercise 79: Maximum Integer\n",
    "\n",
    "This exercise examines the process of identifying the maximum value in a collection\n",
    "of integers. Each of the integers will be randomly selected from the numbers between\n",
    "1 and 100. The collection of integers may contain duplicate values, and some of the\n",
    "integers between 1 and 100 may not be present.\n",
    "Take a moment and think about how you would handle this problem on paper.\n",
    "Many people would check each integer in sequence and ask themself if the number\n",
    "that they are currently considering is larger than the largest number that they have seen\n",
    "previously. If it is, then they forget the previous maximum number and remember\n",
    "the current number as the new maximum number. This is a reasonable approach,\n",
    "and will result in the correct answer when the process is performed carefully. If you\n",
    "were performing this task, how many times would you expect to need to update the\n",
    "maximum value and remember a new number?\n",
    "While we can answer the question posed at the end of the previous paragraph using\n",
    "probability theory, we are going to explore it by simulating the situation. Create a\n",
    "program that begins by selecting a random integer between 1 and 100. Save this\n",
    "integer as the maximum number encountered so far. After the initial integer has been\n",
    "selected, generate 99 additional random integers between 1 and 100. Check each\n",
    "integer as it is generated to see if it is larger than the maximum number encountered\n",
    "so far. If it is then your program should update the maximum number encountered\n",
    "and count the fact that you performed an update. Display each integer after you\n",
    "generate it. Include a notation with those integers which represent a new maximum.\n",
    "After you have displayed 100 integers your program should display the maximum value encountered, along with the number of times the maximum value\n",
    "was updated during the process. Partial output for the program is shown below,\n",
    "with… representing the remaining integers that your program will display. Run your\n",
    "program several times. Is the number of updates performed on the maximum value\n",
    "what you expected?"
   ]
  },
  {
   "cell_type": "code",
   "execution_count": null,
   "metadata": {},
   "outputs": [],
   "source": []
  },
  {
   "cell_type": "markdown",
   "metadata": {},
   "source": [
    "### Exercise 80: Coin Flip Simulation\n",
    "\n",
    "What’s the minimum number of times you have to flip a coin before you can have\n",
    "three consecutive flips that result in the same outcome (either all three are heads or\n",
    "all three are tails)? What’s the maximum number of flips that might be needed? How many flips are needed on average? In this exercise we will explore these questions\n",
    "by creating a program that simulates several series of coin flips.\n",
    "Create a program that uses Python’s random number generator to simulate flipping\n",
    "a coin several times. The simulated coin should be fair, meaning that the probability\n",
    "of heads is equal to the probability of tails. Your program should flip simulated\n",
    "coins until either 3 consecutive heads of 3 consecutive tails occur. Display an H each\n",
    "time the outcome is heads, and a T each time the outcome is tails, with all of the\n",
    "outcomes shown on the same line. Then display the number of flips needed to reach\n",
    "3 consecutive flips with the same outcome. When your program is run it should\n",
    "perform the simulation 10 times and report the average number of flips needed.\n",
    "Sample output is shown below:\n",
    "<img src=\"image/80.png\">\n",
    "    "
   ]
  },
  {
   "cell_type": "code",
   "execution_count": null,
   "metadata": {},
   "outputs": [],
   "source": []
  }
 ],
 "metadata": {
  "kernelspec": {
   "display_name": "Python 3",
   "language": "python",
   "name": "python3"
  },
  "language_info": {
   "codemirror_mode": {
    "name": "ipython",
    "version": 3
   },
   "file_extension": ".py",
   "mimetype": "text/x-python",
   "name": "python",
   "nbconvert_exporter": "python",
   "pygments_lexer": "ipython3",
   "version": "3.7.7"
  }
 },
 "nbformat": 4,
 "nbformat_minor": 4
}
