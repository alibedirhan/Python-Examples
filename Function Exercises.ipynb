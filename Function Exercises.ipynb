{
 "cells": [
  {
   "cell_type": "markdown",
   "metadata": {},
   "source": [
    "### Exercise 81: Compute the Hypotenuse\n",
    "\n",
    "Write a function that takes the lengths of the two shorter sides of a right triangle as\n",
    "its parameters. Return the hypotenuse of the triangle, computed using Pythagorean\n",
    "theorem, as the function’s result. Include a main program that reads the lengths of\n",
    "the shorter sides of a right triangle from the user, uses your function to compute the\n",
    "length of the hypotenuse, and displays the result."
   ]
  },
  {
   "cell_type": "code",
   "execution_count": null,
   "metadata": {},
   "outputs": [],
   "source": []
  },
  {
   "cell_type": "markdown",
   "metadata": {},
   "source": [
    "### Exercise 82: Taxi Fare\n",
    "\n",
    "In a particular jurisdiction, taxi fares consist of a base fare of \\$ 4.00, plus \\\\$ 0.25\n",
    "for every 140 meters traveled. Write a function that takes the distance traveled (in\n",
    "kilometers) as its only parameter and returns the total fare as its only result. Write a\n",
    "main program that demonstrates the function.\n",
    "\n",
    "<div class=\"alert alert-block alert-info\"><b>Hint: Taxi fares change over time. Use constants to represent the base fare and\n",
    "the variable portion of the fare so that the program can be updated easily when\n",
    "the rates increase. </b>"
   ]
  },
  {
   "cell_type": "markdown",
   "metadata": {},
   "source": []
  },
  {
   "cell_type": "markdown",
   "metadata": {},
   "source": [
    "### Exercise 83: Shipping Calculator\n",
    "\n",
    "An online retailer provides express shipping for many of its items at a rate of \\$ 10.95\n",
    "for the first item, and \\\\$ 2.95 for each subsequent item. Write a function that takes the\n",
    "number of items in the order as its only parameter. Return the shipping charge for\n",
    "the order as the function’s result. Include a main program that reads the number of\n",
    "items purchased from the user and displays the shipping charge."
   ]
  },
  {
   "cell_type": "code",
   "execution_count": null,
   "metadata": {},
   "outputs": [],
   "source": []
  },
  {
   "cell_type": "markdown",
   "metadata": {},
   "source": [
    "### Exercise 84: Median of Three Values\n",
    "\n",
    "Write a function that takes three numbers as parameters, and returns the median value\n",
    "of those parameters as its result. Include a main program that reads three values from\n",
    "the user and displays their median.\n",
    "\n",
    "<div class=\"alert alert-block alert-info\"><b>Hint: The median value is the middle of the three values when they are sorted\n",
    "into ascending order. It can be found using if statements, or with a little bit of\n",
    "mathematical creativity.</b>"
   ]
  },
  {
   "cell_type": "code",
   "execution_count": null,
   "metadata": {},
   "outputs": [],
   "source": []
  },
  {
   "cell_type": "markdown",
   "metadata": {},
   "source": [
    "### Exercise 85: Convert an Integer to its Ordinal Number\n",
    "\n",
    "Words like first, second and third are referred to as ordinal numbers. In this exercise,\n",
    "you will write a function that takes an integer as its only parameter and returns a\n",
    "string containing the appropriate English ordinal number as its only result. Your\n",
    "function must handle the integers between 1 and 12 (inclusive). It should return an\n",
    "empty string if a value outside of this range is provided as a parameter. Include a\n",
    "main program that demonstrates your function by displaying each integer from 1 to\n",
    "12 and its ordinal number. Your main program should only run when your file has\n",
    "not been imported into another program."
   ]
  },
  {
   "cell_type": "code",
   "execution_count": null,
   "metadata": {},
   "outputs": [],
   "source": []
  },
  {
   "cell_type": "code",
   "execution_count": null,
   "metadata": {},
   "outputs": [],
   "source": []
  },
  {
   "cell_type": "code",
   "execution_count": null,
   "metadata": {},
   "outputs": [],
   "source": []
  },
  {
   "cell_type": "code",
   "execution_count": null,
   "metadata": {},
   "outputs": [],
   "source": []
  },
  {
   "cell_type": "code",
   "execution_count": null,
   "metadata": {},
   "outputs": [],
   "source": []
  },
  {
   "cell_type": "code",
   "execution_count": null,
   "metadata": {},
   "outputs": [],
   "source": []
  },
  {
   "cell_type": "code",
   "execution_count": null,
   "metadata": {},
   "outputs": [],
   "source": []
  },
  {
   "cell_type": "code",
   "execution_count": null,
   "metadata": {},
   "outputs": [],
   "source": []
  },
  {
   "cell_type": "code",
   "execution_count": null,
   "metadata": {},
   "outputs": [],
   "source": []
  },
  {
   "cell_type": "code",
   "execution_count": null,
   "metadata": {},
   "outputs": [],
   "source": []
  }
 ],
 "metadata": {
  "kernelspec": {
   "display_name": "Python 3",
   "language": "python",
   "name": "python3"
  },
  "language_info": {
   "codemirror_mode": {
    "name": "ipython",
    "version": 3
   },
   "file_extension": ".py",
   "mimetype": "text/x-python",
   "name": "python",
   "nbconvert_exporter": "python",
   "pygments_lexer": "ipython3",
   "version": "3.7.7"
  }
 },
 "nbformat": 4,
 "nbformat_minor": 4
}
