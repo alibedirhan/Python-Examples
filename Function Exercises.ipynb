{
 "cells": [
  {
   "cell_type": "markdown",
   "metadata": {},
   "source": [
    "### Exercise 81: Compute the Hypotenuse\n",
    "\n",
    "Write a function that takes the lengths of the two shorter sides of a right triangle as\n",
    "its parameters. Return the hypotenuse of the triangle, computed using Pythagorean\n",
    "theorem, as the function’s result. Include a main program that reads the lengths of\n",
    "the shorter sides of a right triangle from the user, uses your function to compute the\n",
    "length of the hypotenuse, and displays the result."
   ]
  },
  {
   "cell_type": "code",
   "execution_count": null,
   "metadata": {},
   "outputs": [],
   "source": [
    "import math\n",
    "\n",
    "\n",
    "def squarefunction(length):\n",
    "    square = length * length\n",
    "    print (\"The square of a side is: \", square)\n",
    "    return square\n",
    "\n",
    "def pythagorean(aside, bside):\n",
    "    HypotenuseSquared  = aside + bside\n",
    "    hypotenuse = math.sqrt(HypotenuseSquared)\n",
    "    print (\"The hypotenuse of the 2 sides is: \", hypotenuse)\n",
    "\n",
    "firstside = int(input(\"Enter the first side: \"))\n",
    "secondside = int(input(\"Enter the second side: \"))\n",
    "\n",
    "\n",
    "firstsidesquared = squarefunction(firstside)\n",
    "secondsidesquared = squarefunction(secondside)\n",
    "pythagorean(firstsidesquared, secondsidesquared)"
   ]
  },
  {
   "cell_type": "markdown",
   "metadata": {},
   "source": [
    "### Exercise 82: Taxi Fare\n",
    "\n",
    "In a particular jurisdiction, taxi fares consist of a base fare of \\$ 4.00, plus \\\\$ 0.25\n",
    "for every 140 meters traveled. Write a function that takes the distance traveled (in\n",
    "kilometers) as its only parameter and returns the total fare as its only result. Write a\n",
    "main program that demonstrates the function.\n",
    "Hint: Taxi fares change over time. Use constants to represent the base fare and\n",
    "the variable portion of the fare so that the program can be updated easily when\n",
    "the rates increase."
   ]
  },
  {
   "cell_type": "code",
   "execution_count": null,
   "metadata": {},
   "outputs": [],
   "source": [
    "def main():\n",
    "\n",
    "    km = float(input(\"Enter distance travelled in KM: \"))\n",
    "    \n",
    "    taxi_fare(km)\n",
    "    \n",
    "def taxi_fare(km):\n",
    "    distance = 7.1428571428571 # 1km ÷ 140 m (7.14...... km)\n",
    "    set_fee = 4.00\n",
    "    fee = .25 # per 140 m\n",
    "\n",
    "    fare = ((distance * km) * fee) + set_fee\n",
    "    if fare % 5 == 0:\n",
    "        print(\"Total: $%.2f\" % fare)\n",
    "    elif fare % 5 != 0:\n",
    "        fare = round(fare, 1)\n",
    "        print(\"Total: $%.2f\" % fare)\n",
    "    print(\"\\nYou Travelled: %.2f KM\" % km)\n",
    "\n",
    "main()"
   ]
  },
  {
   "cell_type": "markdown",
   "metadata": {},
   "source": [
    "### Exercise 83: Shipping Calculator\n",
    "\n",
    "An online retailer provides express shipping for many of its items at a rate of \\$ 10.95\n",
    "for the first item, and \\\\$ 2.95 for each subsequent item. Write a function that takes the\n",
    "number of items in the order as its only parameter. Return the shipping charge for\n",
    "the order as the function’s result. Include a main program that reads the number of\n",
    "items purchased from the user and displays the shipping charge."
   ]
  },
  {
   "cell_type": "code",
   "execution_count": null,
   "metadata": {},
   "outputs": [],
   "source": [
    "def main():\n",
    "    quantity = int(input(\"Enter the number of items to be shipped: \"))\n",
    "    \n",
    "    ship_calc(quantity)\n",
    "\n",
    "def ship_calc(quantity):\n",
    "    item = 10.95\n",
    "    additional_item = 2.95\n",
    "    cost = 0\n",
    "  \n",
    "    if quantity == 1:\n",
    "        cost = 10.95\n",
    "        print(f\"\\nYour Total For Shipping {quantity} Item Is: $%.2f\" % cost)\n",
    "    elif quantity >=2:\n",
    "        cost = 10.95 + ((quantity - 1) * 2.95)\n",
    "        print(f\"\\nYour Total Shipping For {quantity} Items Is: $%.2f\" % cost)\n",
    "    else:\n",
    "        print(\"INVALID, Please Try Again\")  \n",
    "        \n",
    "main()"
   ]
  },
  {
   "cell_type": "markdown",
   "metadata": {},
   "source": [
    "### Exercise 84: Median of Three Values\n",
    "\n",
    "Write a function that takes three numbers as parameters, and returns the median value\n",
    "of those parameters as its result. Include a main program that reads three values from\n",
    "the user and displays their median.\n",
    "\n",
    "Hint: The median value is the middle of the three values when they are sorted\n",
    "into ascending order. It can be found using if statements, or with a little bit of\n",
    "mathematical creativity."
   ]
  },
  {
   "cell_type": "code",
   "execution_count": null,
   "metadata": {},
   "outputs": [],
   "source": [
    "def median(a, b, c):\n",
    "    if a < b and b < c or a > b and b > c:\n",
    "        return b\n",
    "    if b < a and a < c or b > a and a > c:\n",
    "        return a\n",
    "    if c < a and b < c or c > a and b > c:\n",
    "        return c\n",
    "    \n",
    "def alternateMedian(a, b, c):\n",
    "    return a + b + c - min(a, b, c) - max(a, b, c)\n",
    "\n",
    "def main():\n",
    "    x = float(input(\"Enter the first value: \"))\n",
    "    y = float(input(\"Enter the first value: \"))\n",
    "    z = float(input(\"Enter the first value: \"))\n",
    "    \n",
    "    print(\"The median value is: \", median(x, y, z))\n",
    "    print(\"Using the alternative method, it is: \", alternateMedian(x, y, z))\n",
    "    \n",
    "main()"
   ]
  },
  {
   "cell_type": "markdown",
   "metadata": {},
   "source": [
    "### Exercise 85: Convert an Integer to its Ordinal Number\n",
    "\n",
    "Words like first, second and third are referred to as ordinal numbers. In this exercise,\n",
    "you will write a function that takes an integer as its only parameter and returns a\n",
    "string containing the appropriate English ordinal number as its only result. Your\n",
    "function must handle the integers between 1 and 12 (inclusive). It should return an\n",
    "empty string if a value outside of this range is provided as a parameter. Include a\n",
    "main program that demonstrates your function by displaying each integer from 1 to\n",
    "12 and its ordinal number. Your main program should only run when your file has\n",
    "not been imported into another program."
   ]
  },
  {
   "cell_type": "code",
   "execution_count": null,
   "metadata": {},
   "outputs": [],
   "source": [
    "def make_ordinal(n):\n",
    "    '''\n",
    "    Convert an integer into its ordinal representation::\n",
    "\n",
    "        make_ordinal(0)   => '0th'\n",
    "        make_ordinal(3)   => '3rd'\n",
    "        make_ordinal(122) => '122nd'\n",
    "        make_ordinal(213) => '213th'\n",
    "    '''\n",
    "    n = int(n)\n",
    "    suffix = ['th', 'st', 'nd', 'rd', 'th'][min(n % 10, 4)]\n",
    "    if 11 <= (n % 100) <= 13:\n",
    "        suffix = 'th'\n",
    "    return str(n) + suffix"
   ]
  },
  {
   "cell_type": "markdown",
   "metadata": {},
   "source": [
    "### Exercise 86: The Twelve Days of Christmas\n",
    "\n",
    "The Twelve Days of Christmas is a repetitive song that describes an increasingly\n",
    "long list of gifts sent to one’s true love on each of 12 days. A single gift is sent on\n",
    "the first day. A new gift is added to the collection on each additional day, and then\n",
    "the complete collection is sent. The first three verses of the song are shown below.\n",
    "The complete lyrics are available on the internet.\n",
    "\n",
    "<img src=\"image/86.png\">\n",
    "\n",
    "Your task is to write a program that displays the complete lyrics for The Twelve\n",
    "Days of Christmas. Write a function that takes the verse number as its only parameter\n",
    "and displays the specified verse of the song. Then call that function 12 times with\n",
    "integers that increase from 1 to 12.\n",
    "Each item that is sent to the recipient in the song should only appear once in your\n",
    "program, with the possible exception of the partridge. It may appear twice if that\n",
    "helps you handle the difference between “A partridge in a pear tree” in the first verse\n",
    "and “And a partridge in a pear tree” in the subsequent verses. Import your solution\n",
    "to Exercise 85 to help you complete this exercise."
   ]
  },
  {
   "cell_type": "markdown",
   "metadata": {},
   "source": [
    "not-solved this exercise"
   ]
  },
  {
   "cell_type": "markdown",
   "metadata": {},
   "source": [
    "### Exercise 87: Center a String in the Terminal\n",
    "\n",
    "Write a function that takes a string of characters as its first parameter, and the width of\n",
    "the terminal in characters as its second parameter. Your function should return a new\n",
    "string that consists of the original string and the correct number of leading spaces\n",
    "so that the original string will appear centered within the provided width when it is\n",
    "printed. Do not add any characters to the end of the string. Include a main program\n",
    "that demonstrates your function."
   ]
  },
  {
   "cell_type": "code",
   "execution_count": null,
   "metadata": {},
   "outputs": [],
   "source": [
    "string = input(\"Please enter a string: \")\n",
    "\n",
    "def center(string):\n",
    "    new_string = string.center(24)\n",
    "    print(\"Centered String: \", new_string)\n",
    "center(string)"
   ]
  },
  {
   "cell_type": "markdown",
   "metadata": {},
   "source": [
    "### Exercise 88: Is it a Valid Triangle?\n",
    "\n",
    "If you have 3 straws, possibly of differing lengths, it may or may not be possible\n",
    "to lay them down so that they form a triangle when their ends are touching. For\n",
    "example, if all of the straws have a length of 6 inches. then one can easily construct\n",
    "an equilateral triangle using them. However, if one straw is 6 inches. long, while the\n",
    "other two are each only 2 inches. long, then a triangle cannot be formed. In general,\n",
    "if any one length is greater than or equal to the sum of the other two then the lengths\n",
    "cannot be used to form a triangle. Otherwise they can form a triangle.\n",
    "Write a function that determines whether or not three lengths can form a triangle.\n",
    "The function will take 3 parameters and return a Boolean result. In addition, write a\n",
    "program that reads 3 lengths from the user and demonstrates the behaviour of this\n",
    "function."
   ]
  },
  {
   "cell_type": "code",
   "execution_count": null,
   "metadata": {},
   "outputs": [],
   "source": [
    "def checkValidity(a, b, c):  \n",
    "      \n",
    "    # check condition  \n",
    "    if (a + b <= c) or (a + c <= b) or (b + c <= a) : \n",
    "        return False\n",
    "    else: \n",
    "        return True        \n",
    "    \n",
    "a = int(input(\"Please enter a triangle long: \"))\n",
    "b = int(input(\"Please enter a triangle long\"))\n",
    "c = int(input(\"Please enter a triangle long\"))\n",
    "if checkValidity(a, b, c): \n",
    "    print(\"Valid\")  \n",
    "else: \n",
    "    print(\"Invalid\") "
   ]
  },
  {
   "cell_type": "markdown",
   "metadata": {},
   "source": [
    "### Exercise 89: Capitalize It\n",
    "\n",
    "Many people do not use capital letters correctly, especially when typing on small\n",
    "devices like smart phones. In this exercise, you will write a function that capitalizes\n",
    "the appropriate characters in a string. A lowercase “i” should be replaced with an\n",
    "uppercase “I” if it is both preceded and followed by a space. The first character in\n",
    "the string should also be capitalized, as well as the first non-space character after a\n",
    "“.”, “!” or “?”. For example, if the function is provided with the string “what time\n",
    "do i have to be there? what’s the address?” then it should return the string “What\n",
    "time do I have to be there? What’s the address?”. Include a main program that reads\n",
    "a string from the user, capitalizes it using your function, and displays the result."
   ]
  },
  {
   "cell_type": "code",
   "execution_count": null,
   "metadata": {},
   "outputs": [],
   "source": [
    "def capitalize(phrase):\n",
    "    result = phrase.replace(\" i \", \" I \")\n",
    "    \n",
    "    if len(phrase) > 0:\n",
    "        result = result[0].upper() + \\\n",
    "        result[1 : len(result)]\n",
    "        \n",
    "    pos = 0\n",
    "    \n",
    "    while pos < len(phrase):\n",
    "        if result[pos] == \".\" or result[pos] == \"!\" or result[pos] == \"?\":\n",
    "            pos = pos + 1\n",
    "            \n",
    "            while pos < len(phrase) and result[pos] == \" \":\n",
    "                pos = pos + 1\n",
    "                \n",
    "            if pos < len(phrase):\n",
    "                result = result[0 : pos] + \\\n",
    "                result[pos].upper() + \\\n",
    "                result[pos + 1 : len(result)]\n",
    "            \n",
    "        pos = pos + 1\n",
    "        \n",
    "    return result\n",
    "\n",
    "def main():\n",
    "    phrase = input(\"Enter A Phrase: \")\n",
    "    capitalized = capitalize(phrase)\n",
    "    print(\"Your Phrase Capitalized Is: \"+ capitalized)\n",
    "\n",
    "main()"
   ]
  },
  {
   "cell_type": "markdown",
   "metadata": {},
   "source": [
    "### Exercise 90: Does a String Represent an Integer?\n",
    "\n",
    "In this exercise you will write a function named isInteger that determines\n",
    "whether or not the characters in a string represent a valid integer. When determining\n",
    "if a string represents an integer you should ignore any leading or trailing white space.\n",
    "Once this white space is ignored, a string represents an integer if its length is at least\n",
    "1 and it only contains digits, or if its first character is either + or - and the first\n",
    "character is followed by one or more characters, all of which are digits.\n",
    "Write a main program that reads a string from the user and reports whether or\n",
    "not it represents an integer. Ensure that the main program will not run if the file\n",
    "containing your solution is imported into another program.\n",
    "\n",
    "Hint: You may find the lstrip, rstrip and/or strip methods for strings\n",
    "helpful when completing this exercise. Documentation for these methods is\n",
    "available online."
   ]
  },
  {
   "cell_type": "code",
   "execution_count": 6,
   "metadata": {},
   "outputs": [
    {
     "name": "stdout",
     "output_type": "stream",
     "text": [
      "Input a string: ++--*-+\n",
      "The string is not an integer.\n"
     ]
    }
   ],
   "source": [
    "text = input(\"Input a string: \")\n",
    "text = text.strip() #The strip() method removes any leading (spaces at the beginning) and trailing (spaces at the end) characters (space is the default leading character to remove)\n",
    "def string(text):\n",
    "    if len(text) < 1:\n",
    "        print(\"Input a valid text\")\n",
    "    else:\n",
    "        if all(text[i] in \"0123456789\" for i in range(len(text))):\n",
    "            print(\"The string is an integer.\")\n",
    "        elif (text[0] in \"+-\") and \\\n",
    "             all(text[i] in \"0123456789\" for i in range(1,len(text))):\n",
    "             print(\"The string is an integer.\")\n",
    "        else:\n",
    "            print(\"The string is not an integer.\") \n",
    "string(text)"
   ]
  },
  {
   "cell_type": "markdown",
   "metadata": {},
   "source": [
    "### Exercise 91: Operator Precedence\n",
    "\n",
    "Write a function named precedence that returns an integer representing the precedence of a mathematical operator. A string containing the operator will be passed to\n",
    "the function as its only parameter. Your function should return 1 for + and -, 2 for *\n",
    "and /, and 3 for ˆ. If the string passed to the function is not one of these operators\n",
    "then the function should return -1. Include a main program that reads an operator\n",
    "from the user and either displays the operator’s precedence or an error message indicating that the input was not an operator. Your main program should only run when\n",
    "the file containing your solution has not been imported into another program\n",
    "\n",
    "In this exercise, along with others that appear later in the book, we will use ˆ to\n",
    "represent exponentiation. Using ˆ instead of Python’s choice of ** will make\n",
    "these exercises easier because an operator will always be a single character."
   ]
  },
  {
   "cell_type": "code",
   "execution_count": null,
   "metadata": {},
   "outputs": [],
   "source": [
    "def precedence(string):\n",
    "    if (string == \"+\" or string == \"-\"):\n",
    "        return 1\n",
    "    elif string == \"*\" or string == \"/\":\n",
    "        return 2\n",
    "    elif string == \"^\":\n",
    "        return 3\n",
    "    else:\n",
    "        return -1\n",
    "    \n",
    "if __name__ == \"__main__\":\n",
    "   \n",
    "    print(\"Smooth Operator Of Precedence\")\n",
    "\n",
    "def main():\n",
    "    string = input(\"Enter A Operator: \")    \n",
    "    \n",
    "    precedence(string)\n",
    "    \n",
    "    if precedence(string) > 0:\n",
    "        print(string, \"Is A Operator:\",precedence(string))\n",
    "    elif precedence(string) < 0:\n",
    "        print(string, \"Is NOT A Operator:\",precedence(string))\n",
    "main()"
   ]
  },
  {
   "cell_type": "markdown",
   "metadata": {},
   "source": [
    "### Exercise 92: Is a Number Prime?\n",
    "\n",
    "A prime number is an integer greater than 1 that is only divisible by one and itself.\n",
    "Write a function that determines whether or not its parameter is prime, returning\n",
    "True if it is, and False otherwise. Write a main program that reads an integer\n",
    "from the user and displays a message indicating whether or not it is prime. Ensure\n",
    "that the main program will not run if the file containing your solution is imported\n",
    "into another program."
   ]
  },
  {
   "cell_type": "code",
   "execution_count": 12,
   "metadata": {},
   "outputs": [
    {
     "name": "stdout",
     "output_type": "stream",
     "text": [
      "Please Enter an integer13\n",
      "A prime\n"
     ]
    }
   ],
   "source": [
    "n = int(input(\"Please Enter an integer\"))\n",
    "def prime(n):\n",
    "    count = 0\n",
    "    for i in range(1, (n+1)): \n",
    "         if n % i == 0: \n",
    "             count += 1\n",
    "    if count > 2:\n",
    "        print (\"Not a prime\")\n",
    "    else:\n",
    "        print (\"A prime\")\n",
    "prime(n)"
   ]
  },
  {
   "cell_type": "markdown",
   "metadata": {},
   "source": [
    "### Exercise 93: Next Prime\n",
    "\n",
    "In this exercise you will create a function named nextPrime that finds and returns\n",
    "the first prime number larger than some integer, n. The value of n will be passed to the function as its only parameter. Include a main program that reads an integer from\n",
    "the user and displays the first prime number larger than the entered value. Import\n",
    "and use your solution to Exercise 92 while completing this exercise."
   ]
  },
  {
   "cell_type": "code",
   "execution_count": 15,
   "metadata": {},
   "outputs": [
    {
     "name": "stdout",
     "output_type": "stream",
     "text": [
      "Please Enter an integer13\n"
     ]
    },
    {
     "data": {
      "text/plain": [
       "17"
      ]
     },
     "execution_count": 15,
     "metadata": {},
     "output_type": "execute_result"
    }
   ],
   "source": [
    "n = int(input(\"Please Enter an integer: \"))\n",
    "def prime(n):\n",
    "    np=[]\n",
    "    isprime=[]\n",
    "    for i in range (n+1,n+200):\n",
    "        np.append(i)\n",
    "    for j in np:\n",
    "        val_is_prime = True\n",
    "        for x in range(2,j-1):\n",
    "            if j % x == 0:\n",
    "                val_is_prime = False\n",
    "                break\n",
    "        if val_is_prime:\n",
    "            isprime.append(j)\n",
    "    return min(isprime)\n",
    "prime(n)"
   ]
  },
  {
   "cell_type": "markdown",
   "metadata": {},
   "source": [
    "### Exercise 94: Random Password\n",
    "\n",
    "Write a function that generates a random password. The password should have a\n",
    "random length of between 7 and 10 characters. Each character should be randomly\n",
    "selected from positions 33 to 126 in the ASCII table. Your function will not take\n",
    "any parameters. It will return the randomly generated password as its only result.\n",
    "Display the randomly generated password in your file’s main program. Your main\n",
    "program should only run when your solution has not been imported into another file.\n",
    "Hint: You will probably find the chr function helpful when completing this\n",
    "exercise. Detailed information about this function is available online."
   ]
  },
  {
   "cell_type": "code",
   "execution_count": 16,
   "metadata": {},
   "outputs": [
    {
     "name": "stdout",
     "output_type": "stream",
     "text": [
      "Random string of length 7 is: gmglsaj\n",
      "Random string of length 8 is: frhzafpm\n",
      "Random string of length 9 is: khjsxzqdt\n",
      "Random string of length 10 is: occtrvegpq\n"
     ]
    }
   ],
   "source": [
    "import random\n",
    "import string\n",
    "\n",
    "def get_random_string(length):\n",
    "    letters = string.ascii_lowercase\n",
    "    result_str = ''.join(random.choice(letters) for i in range(length))\n",
    "    print(\"Random string of length\", length, \"is:\", result_str)\n",
    "\n",
    "get_random_string(7)\n",
    "get_random_string(8)\n",
    "get_random_string(9)\n",
    "get_random_string(10)"
   ]
  },
  {
   "cell_type": "markdown",
   "metadata": {},
   "source": [
    "### Exercise 95: Random License Plate\n",
    "\n",
    "In a particular jurisdiction, older license plates consist of three letters followed by\n",
    "three numbers. When all of the license plates following that pattern had been used,\n",
    "the format was changed to four numbers followed by three letters.\n",
    "Write a function that generates a random license plate. Your function should have\n",
    "approximately equal odds of generating a sequence of characters for an old license\n",
    "plate or a new license plate. Write a main program that calls your function and\n",
    "displays the randomly generated license plate."
   ]
  },
  {
   "cell_type": "markdown",
   "metadata": {},
   "source": [
    "not-solved this exercises"
   ]
  },
  {
   "cell_type": "markdown",
   "metadata": {},
   "source": [
    "### Exercise 96: Check a Password\n",
    "\n",
    "In this exercise you will write a function that determines whether or not a password\n",
    "is good. We will define a good password to be a one that is at least 8 characters\n",
    "long and contains at least one uppercase letter, at least one lowercase letter, and at\n",
    "least one number. Your function should return true if the password passed to it as\n",
    "its only parameter is good. Otherwise it should return false. Include a main program\n",
    "that reads a password from the user and reports whether or not it is good. Ensure that your main program only runs when your solution has not been imported into\n",
    "another file."
   ]
  },
  {
   "cell_type": "code",
   "execution_count": 1,
   "metadata": {},
   "outputs": [
    {
     "name": "stdout",
     "output_type": "stream",
     "text": [
      "Enter a password: fadsasdasds7\n",
      "That isn't a good password.\n"
     ]
    }
   ],
   "source": [
    "def checkPassword(password):\n",
    "    has_upper = False\n",
    "    has_lower = False\n",
    "    has_num = False\n",
    "    \n",
    "    for ch in password:\n",
    "        if ch >= \"A\" and ch <= \"Z\":\n",
    "            has_upper = True\n",
    "        elif ch >= \"a\" and ch <= \"z\":\n",
    "            has_lower = True\n",
    "        elif ch >= \"0\" and ch <= \"9\":\n",
    "            has_num = True\n",
    "    \n",
    "    if len(password) >= 8 and has_upper and has_lower and has_num:\n",
    "        return True\n",
    "    return False\n",
    "\n",
    "def main():\n",
    "    p = input(\"Enter a password: \")\n",
    "    if checkPassword(p):\n",
    "        print(\"That's a good password.\")\n",
    "    else:\n",
    "        print(\"That isn't a good password.\")\n",
    "\n",
    "if __name__ == \"__main__\":\n",
    "    main()"
   ]
  },
  {
   "cell_type": "markdown",
   "metadata": {},
   "source": [
    "### Exercise 97: Random Good Password\n",
    "\n",
    "Using your solutions to Exercises 94 and 96, write a program that generates a random\n",
    "good password and displays it. Count and display the number of attempts that were\n",
    "needed before a good password was generated. Structure your solution so that it\n",
    "imports the functions you wrote previously and then calls them from a function\n",
    "named main in the file that you create for this exercise."
   ]
  },
  {
   "cell_type": "code",
   "execution_count": null,
   "metadata": {},
   "outputs": [],
   "source": []
  },
  {
   "cell_type": "markdown",
   "metadata": {},
   "source": [
    "### Exercise 98: Hexadecimal and Decimal Digits\n",
    "\n",
    "Write two functions, hex2int and int2hex, that convert between hexadecimal\n",
    "digits (0, 1, 2, 3, 4, 5, 6, 7, 8, 9, A, B, C, D, E and F) and base 10 integers. The\n",
    "hex2int function is responsible for converting a string containing a single hexadecimal digit to a base 10 integer, while the int2hex function is responsible for converting an integer between 0 and 15 to a single hexadecimal digit. Each function\n",
    "will take the value to convert as its only parameter and return the converted value\n",
    "as the function’s only result. Ensure that the hex2int function works correctly for\n",
    "both uppercase and lowercase letters. Your functions should end the program with a\n",
    "meaningful error message if an invalid parameter is provided."
   ]
  },
  {
   "cell_type": "code",
   "execution_count": null,
   "metadata": {},
   "outputs": [],
   "source": [
    "def hex2int(n):\n",
    "    \"\"\"Convert Hexadecimal To Integer\"\"\"\n",
    "    n = int(n, 16)\n",
    "    print(n)\n",
    "    \n",
    "def int2hex(n):\n",
    "    \"\"\"Convert Integer To Hexadecimal\"\"\"\n",
    "    n = hex(n)\n",
    "    print(n)\n",
    "\n",
    "\n",
    "def main():\n",
    "    print(\"The Hexadecimal Decimal Digits Converter\\n\")\n",
    "    print(\"1. Hexadecimal to Integer\\n2. Integer to Hexadecimal\\n\")\n",
    "    \n",
    "    choice = int(input(\"Enter Your Choice (0 to quit): \"))\n",
    "    \n",
    "    if choice == 1:\n",
    "        n = input(\"Enter A Hexadecimal: \")\n",
    "        hex2int(n)\n",
    "        \n",
    "    elif choice == 2:\n",
    "        n = int(input(\"Enter A Integer: \"))\n",
    "        int2hex(n)\n",
    "   \n",
    "    elif choice == 0:\n",
    "        print(\"BYE\")\n",
    "   \n",
    "    else:\n",
    "        print(\"Sorry That Is Not A Option\")\n",
    "\n",
    "if __name__ == \"__main__\":\n",
    "    main()"
   ]
  },
  {
   "cell_type": "markdown",
   "metadata": {},
   "source": [
    "### Exercise 99: Arbitrary Base Conversions\n",
    "\n",
    "Write a program that allows the user to convert a number from one base to another.\n",
    "Your program should support bases between 2 and 16 for both the input number and\n",
    "the result number. If the user chooses a base outside of this range then an appropriate\n",
    "error message should be displayed and the program should exit. Divide your program\n",
    "into several functions, including a function that converts from an arbitrary base to\n",
    "base 10, a function that converts from base 10 to an arbitrary base, and a main\n",
    "program that reads the bases and input number from the user. You may find your\n",
    "solutions to Exercises 77, 78 and 98 helpful when completing this exercise."
   ]
  },
  {
   "cell_type": "code",
   "execution_count": 3,
   "metadata": {},
   "outputs": [
    {
     "ename": "ModuleNotFoundError",
     "evalue": "No module named 'hex_digit'",
     "output_type": "error",
     "traceback": [
      "\u001b[0;31m---------------------------------------------------------------------------\u001b[0m",
      "\u001b[0;31mModuleNotFoundError\u001b[0m                       Traceback (most recent call last)",
      "\u001b[0;32m<ipython-input-3-fdc71f15b292>\u001b[0m in \u001b[0;36m<module>\u001b[0;34m\u001b[0m\n\u001b[0;32m----> 1\u001b[0;31m \u001b[0;32mfrom\u001b[0m \u001b[0mhex_digit\u001b[0m \u001b[0;32mimport\u001b[0m \u001b[0;34m*\u001b[0m\u001b[0;34m\u001b[0m\u001b[0;34m\u001b[0m\u001b[0m\n\u001b[0m\u001b[1;32m      2\u001b[0m \u001b[0;34m\u001b[0m\u001b[0m\n\u001b[1;32m      3\u001b[0m \u001b[0;32mdef\u001b[0m \u001b[0mdec2n\u001b[0m\u001b[0;34m(\u001b[0m\u001b[0mnum\u001b[0m\u001b[0;34m,\u001b[0m \u001b[0mnew_base\u001b[0m\u001b[0;34m)\u001b[0m\u001b[0;34m:\u001b[0m\u001b[0;34m\u001b[0m\u001b[0;34m\u001b[0m\u001b[0m\n\u001b[1;32m      4\u001b[0m     \u001b[0mresult\u001b[0m \u001b[0;34m=\u001b[0m \u001b[0;34m\"\"\u001b[0m\u001b[0;34m\u001b[0m\u001b[0;34m\u001b[0m\u001b[0m\n\u001b[1;32m      5\u001b[0m     \u001b[0mq\u001b[0m \u001b[0;34m=\u001b[0m \u001b[0mnum\u001b[0m\u001b[0;34m\u001b[0m\u001b[0;34m\u001b[0m\u001b[0m\n",
      "\u001b[0;31mModuleNotFoundError\u001b[0m: No module named 'hex_digit'"
     ]
    }
   ],
   "source": [
    "from hex_digit import * #the hex_digit module contains the function hex2int and int2hex which were developed while solving exercise 98.\n",
    "\n",
    "def dec2n(num, new_base):\n",
    "    result = \"\"\n",
    "    q = num\n",
    "    \n",
    "    r = q % new_base\n",
    "    result = int2hex(r) + result\n",
    "    q = q // new_base\n",
    "    \n",
    "    while q > 0:\n",
    "        r = q % new_base\n",
    "        result = int2hex(r) + result\n",
    "        q = q // new_base\n",
    "    return result\n",
    "\n",
    "def n2dec(num, b):\n",
    "    decimal = 0\n",
    "    power = 0\n",
    "    \n",
    "    for i in range(len(num)):\n",
    "        decimal = decimal * b\n",
    "        decimal = decimal + hex2int(num[i])\n",
    "    return decimal\n",
    "\n",
    "def main():\n",
    "    from_base = int(input(\"Enter the base to convert from: \"))\n",
    "    from_base = input(\"Enter a sequence of digits in that base: \")\n",
    "\n",
    "dec = n2dec(from_num, from_base)\n",
    "print(\"That's %d in base 10.\" % dec)\n",
    "\n",
    "to_base = int(input(\"Enter the base to convert to: \"))\n",
    "to_num = dec2n(dec, to_base)\n",
    "print(\"That's %s in base %d.\" %(to_num, to_base))"
   ]
  },
  {
   "cell_type": "markdown",
   "metadata": {},
   "source": [
    "### Exercise 100: Days in a Month\n",
    "\n",
    "Write a function that determines how many days there are in a particular month. Your\n",
    "function will take two parameters: The month as an integer between 1 and 12, and\n",
    "the year as a four digit integer. Ensure that your function reports the correct number\n",
    "of days in February for leap years. Include a main program that reads a month and\n",
    "year from the user and displays the number of days in that month. You may find your\n",
    "solution to Exercise 57 helpful when solving this problem."
   ]
  },
  {
   "cell_type": "code",
   "execution_count": null,
   "metadata": {},
   "outputs": [],
   "source": []
  },
  {
   "cell_type": "markdown",
   "metadata": {},
   "source": [
    "### Exercise 101: Reduce a Fraction to Lowest Terms\n",
    "\n",
    "Write a function that takes two positive integers that represent the numerator and\n",
    "denominator of a fraction as its only two parameters. The body of the function\n",
    "should reduce the fraction to lowest terms and then return both the numerator and\n",
    "denominator of the reduced fraction as its result. For example, if the parameters\n",
    "passed to the function are 6 and 63 then the function should return 2 and 21. Include\n",
    "a main program that allows the user to enter a numerator and denominator. Then\n",
    "your program should display the reduced fraction.\n",
    "Hint: In Exercise 75 you wrote a program for computing the greatest common\n",
    "divisor of two positive integers. You may find that code useful when completing\n",
    "this exercise."
   ]
  },
  {
   "cell_type": "code",
   "execution_count": null,
   "metadata": {},
   "outputs": [],
   "source": []
  },
  {
   "cell_type": "markdown",
   "metadata": {},
   "source": [
    "### Exercise 102: Reduce Measures\n",
    "\n",
    "Many recipe books still use cups, tablespoons and teaspoons to describe the volumes\n",
    "of ingredients used when cooking or baking. While such recipes are easy enough to\n",
    "follow if you have the appropriate measuring cups and spoons, they can be difficult\n",
    "to double, triple or quadruple when cooking Christmas dinner for the entire extended\n",
    "family. For example, a recipe that calls for 4 tablespoons of an ingredient requires 16\n",
    "tablespoons when quadrupled. However, 16 tablespoons would be better expressed\n",
    "(and easier to measure) as 1 cup.\n",
    "Write a function that expresses an imperial volume using the largest units possible. The function will take the number of units as its first parameter, and the unit\n",
    "of measure (cup, tablespoon or teaspoon) as its second parameter. Return a string\n",
    "representing the measure using the largest possible units as the function’s only result. For example, if the function is provided with parameters representing 59 teaspoons\n",
    "then it should return the string “1 cup, 3 tablespoons, 2 teaspoons”.\n",
    "Hint: One cup is equivalent to 16 tablespoons. One tablespoon is equivalent to\n",
    "3 teaspoons."
   ]
  },
  {
   "cell_type": "code",
   "execution_count": null,
   "metadata": {},
   "outputs": [],
   "source": []
  },
  {
   "cell_type": "markdown",
   "metadata": {},
   "source": [
    "### Exercise 103: Magic Dates\n",
    "\n",
    "A magic date is a date where the day multiplied by the month is equal to the two digit\n",
    "year. For example, June 10, 1960 is a magic date because June is the sixth month, and\n",
    "6 times 10 is 60, which is equal to the two digit year. Write a function that determines\n",
    "whether or not a date is a magic date. Use your function to create a main program\n",
    "that finds and displays all of the magic dates in the 20th century. You will probably\n",
    "find your solution to Exercise 100 helpful when completing this exercise."
   ]
  },
  {
   "cell_type": "code",
   "execution_count": null,
   "metadata": {},
   "outputs": [],
   "source": []
  }
 ],
 "metadata": {
  "kernelspec": {
   "display_name": "Python 3",
   "language": "python",
   "name": "python3"
  },
  "language_info": {
   "codemirror_mode": {
    "name": "ipython",
    "version": 3
   },
   "file_extension": ".py",
   "mimetype": "text/x-python",
   "name": "python",
   "nbconvert_exporter": "python",
   "pygments_lexer": "ipython3",
   "version": "3.7.7"
  }
 },
 "nbformat": 4,
 "nbformat_minor": 4
}
