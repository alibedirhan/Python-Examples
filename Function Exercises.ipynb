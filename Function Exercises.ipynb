{
 "cells": [
  {
   "cell_type": "markdown",
   "metadata": {},
   "source": [
    "### Exercise 81: Compute the Hypotenuse\n",
    "\n",
    "Write a function that takes the lengths of the two shorter sides of a right triangle as\n",
    "its parameters. Return the hypotenuse of the triangle, computed using Pythagorean\n",
    "theorem, as the function’s result. Include a main program that reads the lengths of\n",
    "the shorter sides of a right triangle from the user, uses your function to compute the\n",
    "length of the hypotenuse, and displays the result."
   ]
  },
  {
   "cell_type": "code",
   "execution_count": null,
   "metadata": {},
   "outputs": [],
   "source": [
    "import math\n",
    "\n",
    "\n",
    "def squarefunction(length):\n",
    "    square = length * length\n",
    "    print (\"The square of a side is: \", square)\n",
    "    return square\n",
    "\n",
    "def pythagorean(aside, bside):\n",
    "    HypotenuseSquared  = aside + bside\n",
    "    hypotenuse = math.sqrt(HypotenuseSquared)\n",
    "    print (\"The hypotenuse of the 2 sides is: \", hypotenuse)\n",
    "\n",
    "firstside = int(input(\"Enter the first side: \"))\n",
    "secondside = int(input(\"Enter the second side: \"))\n",
    "\n",
    "\n",
    "firstsidesquared = squarefunction(firstside)\n",
    "secondsidesquared = squarefunction(secondside)\n",
    "pythagorean(firstsidesquared, secondsidesquared)"
   ]
  },
  {
   "cell_type": "markdown",
   "metadata": {},
   "source": [
    "### Exercise 82: Taxi Fare\n",
    "\n",
    "In a particular jurisdiction, taxi fares consist of a base fare of \\$ 4.00, plus \\\\$ 0.25\n",
    "for every 140 meters traveled. Write a function that takes the distance traveled (in\n",
    "kilometers) as its only parameter and returns the total fare as its only result. Write a\n",
    "main program that demonstrates the function.\n",
    "\n",
    "<div class=\"alert alert-block alert-info\"><b>Hint: Taxi fares change over time. Use constants to represent the base fare and\n",
    "the variable portion of the fare so that the program can be updated easily when\n",
    "the rates increase. </b>"
   ]
  },
  {
   "cell_type": "code",
   "execution_count": null,
   "metadata": {},
   "outputs": [],
   "source": [
    "def main():\n",
    "\n",
    "    km = float(input(\"Enter distance travelled in KM: \"))\n",
    "    \n",
    "    taxi_fare(km)\n",
    "    \n",
    "def taxi_fare(km):\n",
    "    distance = 7.1428571428571 # 1km ÷ 140 m (7.14...... km)\n",
    "    set_fee = 4.00\n",
    "    fee = .25 # per 140 m\n",
    "\n",
    "    fare = ((distance * km) * fee) + set_fee\n",
    "    if fare % 5 == 0:\n",
    "        print(\"Total: $%.2f\" % fare)\n",
    "    elif fare % 5 != 0:\n",
    "        fare = round(fare, 1)\n",
    "        print(\"Total: $%.2f\" % fare)\n",
    "    print(\"\\nYou Travelled: %.2f KM\" % km)\n",
    "\n",
    "main()"
   ]
  },
  {
   "cell_type": "markdown",
   "metadata": {},
   "source": [
    "### Exercise 83: Shipping Calculator\n",
    "\n",
    "An online retailer provides express shipping for many of its items at a rate of \\$ 10.95\n",
    "for the first item, and \\\\$ 2.95 for each subsequent item. Write a function that takes the\n",
    "number of items in the order as its only parameter. Return the shipping charge for\n",
    "the order as the function’s result. Include a main program that reads the number of\n",
    "items purchased from the user and displays the shipping charge."
   ]
  },
  {
   "cell_type": "code",
   "execution_count": null,
   "metadata": {},
   "outputs": [],
   "source": [
    "def main():\n",
    "    quantity = int(input(\"Enter the number of items to be shipped: \"))\n",
    "    \n",
    "    ship_calc(quantity)\n",
    "\n",
    "def ship_calc(quantity):\n",
    "    item = 10.95\n",
    "    additional_item = 2.95\n",
    "    cost = 0\n",
    "  \n",
    "    if quantity == 1:\n",
    "        cost = 10.95\n",
    "        print(f\"\\nYour Total For Shipping {quantity} Item Is: $%.2f\" % cost)\n",
    "    elif quantity >=2:\n",
    "        cost = 10.95 + ((quantity - 1) * 2.95)\n",
    "        print(f\"\\nYour Total Shipping For {quantity} Items Is: $%.2f\" % cost)\n",
    "    else:\n",
    "        print(\"INVALID, Please Try Again\")  \n",
    "        \n",
    "main()"
   ]
  },
  {
   "cell_type": "markdown",
   "metadata": {},
   "source": [
    "### Exercise 84: Median of Three Values\n",
    "\n",
    "Write a function that takes three numbers as parameters, and returns the median value\n",
    "of those parameters as its result. Include a main program that reads three values from\n",
    "the user and displays their median.\n",
    "\n",
    "<div class=\"alert alert-block alert-info\"><b>Hint: The median value is the middle of the three values when they are sorted\n",
    "into ascending order. It can be found using if statements, or with a little bit of\n",
    "mathematical creativity.</b>"
   ]
  },
  {
   "cell_type": "code",
   "execution_count": null,
   "metadata": {},
   "outputs": [],
   "source": [
    "def median(a, b, c):\n",
    "    if a < b and b < c or a > b and b > c:\n",
    "        return b\n",
    "    if b < a and a < c or b > a and a > c:\n",
    "        return a\n",
    "    if c < a and b < c or c > a and b > c:\n",
    "        return c\n",
    "    \n",
    "def alternateMedian(a, b, c):\n",
    "    return a + b + c - min(a, b, c) - max(a, b, c)\n",
    "\n",
    "def main():\n",
    "    x = float(input(\"Enter the first value: \"))\n",
    "    y = float(input(\"Enter the first value: \"))\n",
    "    z = float(input(\"Enter the first value: \"))\n",
    "    \n",
    "    print(\"The median value is: \", median(x, y, z))\n",
    "    print(\"Using the alternative method, it is: \", alternateMedian(x, y, z))\n",
    "    \n",
    "main()"
   ]
  },
  {
   "cell_type": "markdown",
   "metadata": {},
   "source": [
    "### Exercise 85: Convert an Integer to its Ordinal Number\n",
    "\n",
    "Words like first, second and third are referred to as ordinal numbers. In this exercise,\n",
    "you will write a function that takes an integer as its only parameter and returns a\n",
    "string containing the appropriate English ordinal number as its only result. Your\n",
    "function must handle the integers between 1 and 12 (inclusive). It should return an\n",
    "empty string if a value outside of this range is provided as a parameter. Include a\n",
    "main program that demonstrates your function by displaying each integer from 1 to\n",
    "12 and its ordinal number. Your main program should only run when your file has\n",
    "not been imported into another program."
   ]
  },
  {
   "cell_type": "code",
   "execution_count": null,
   "metadata": {},
   "outputs": [],
   "source": []
  },
  {
   "cell_type": "markdown",
   "metadata": {},
   "source": [
    "### Exercise 86: The Twelve Days of Christmas\n",
    "\n",
    "The Twelve Days of Christmas is a repetitive song that describes an increasingly\n",
    "long list of gifts sent to one’s true love on each of 12 days. A single gift is sent on\n",
    "the first day. A new gift is added to the collection on each additional day, and then\n",
    "the complete collection is sent. The first three verses of the song are shown below.\n",
    "The complete lyrics are available on the internet.\n",
    "\n",
    "<img src=\"image/86.png\">\n",
    "\n",
    "Your task is to write a program that displays the complete lyrics for The Twelve\n",
    "Days of Christmas. Write a function that takes the verse number as its only parameter\n",
    "and displays the specified verse of the song. Then call that function 12 times with\n",
    "integers that increase from 1 to 12.\n",
    "Each item that is sent to the recipient in the song should only appear once in your\n",
    "program, with the possible exception of the partridge. It may appear twice if that\n",
    "helps you handle the difference between “A partridge in a pear tree” in the first verse\n",
    "and “And a partridge in a pear tree” in the subsequent verses. Import your solution\n",
    "to Exercise 85 to help you complete this exercise."
   ]
  },
  {
   "cell_type": "code",
   "execution_count": null,
   "metadata": {},
   "outputs": [],
   "source": []
  },
  {
   "cell_type": "markdown",
   "metadata": {},
   "source": [
    "### Exercise 87: Center a String in the Terminal\n",
    "\n",
    "Write a function that takes a string of characters as its first parameter, and the width of\n",
    "the terminal in characters as its second parameter. Your function should return a new\n",
    "string that consists of the original string and the correct number of leading spaces\n",
    "so that the original string will appear centered within the provided width when it is\n",
    "printed. Do not add any characters to the end of the string. Include a main program\n",
    "that demonstrates your function."
   ]
  },
  {
   "cell_type": "code",
   "execution_count": null,
   "metadata": {},
   "outputs": [],
   "source": []
  },
  {
   "cell_type": "markdown",
   "metadata": {},
   "source": [
    "### Exercise 88: Is it a Valid Triangle?\n",
    "\n",
    "If you have 3 straws, possibly of differing lengths, it may or may not be possible\n",
    "to lay them down so that they form a triangle when their ends are touching. For\n",
    "example, if all of the straws have a length of 6 inches. then one can easily construct\n",
    "an equilateral triangle using them. However, if one straw is 6 inches. long, while the\n",
    "other two are each only 2 inches. long, then a triangle cannot be formed. In general,\n",
    "if any one length is greater than or equal to the sum of the other two then the lengths\n",
    "cannot be used to form a triangle. Otherwise they can form a triangle.\n",
    "Write a function that determines whether or not three lengths can form a triangle.\n",
    "The function will take 3 parameters and return a Boolean result. In addition, write a\n",
    "program that reads 3 lengths from the user and demonstrates the behaviour of this\n",
    "function."
   ]
  },
  {
   "cell_type": "code",
   "execution_count": null,
   "metadata": {},
   "outputs": [],
   "source": []
  },
  {
   "cell_type": "markdown",
   "metadata": {},
   "source": [
    "### Exercise 89: Capitalize It\n",
    "\n",
    "Many people do not use capital letters correctly, especially when typing on small\n",
    "devices like smart phones. In this exercise, you will write a function that capitalizes\n",
    "the appropriate characters in a string. A lowercase “i” should be replaced with an\n",
    "uppercase “I” if it is both preceded and followed by a space. The first character in\n",
    "the string should also be capitalized, as well as the first non-space character after a\n",
    "“.”, “!” or “?”. For example, if the function is provided with the string “what time\n",
    "do i have to be there? what’s the address?” then it should return the string “What\n",
    "time do I have to be there? What’s the address?”. Include a main program that reads\n",
    "a string from the user, capitalizes it using your function, and displays the result."
   ]
  },
  {
   "cell_type": "code",
   "execution_count": null,
   "metadata": {},
   "outputs": [],
   "source": []
  },
  {
   "cell_type": "markdown",
   "metadata": {},
   "source": [
    "### Exercise 90: Does a String Represent an Integer?\n",
    "\n",
    "In this exercise you will write a function named isInteger that determines\n",
    "whether or not the characters in a string represent a valid integer. When determining\n",
    "if a string represents an integer you should ignore any leading or trailing white space.\n",
    "Once this white space is ignored, a string represents an integer if its length is at least\n",
    "1 and it only contains digits, or if its first character is either + or - and the first\n",
    "character is followed by one or more characters, all of which are digits.\n",
    "Write a main program that reads a string from the user and reports whether or\n",
    "not it represents an integer. Ensure that the main program will not run if the file\n",
    "containing your solution is imported into another program.\n",
    "\n",
    "<div class=\"alert alert-block alert-info\"><b>Hint: You may find the lstrip, rstrip and/or strip methods for strings\n",
    "helpful when completing this exercise. Documentation for these methods is\n",
    "available online.</b>\n"
   ]
  },
  {
   "cell_type": "code",
   "execution_count": null,
   "metadata": {},
   "outputs": [],
   "source": []
  },
  {
   "cell_type": "markdown",
   "metadata": {},
   "source": [
    "### Exercise 91: Operator Precedence\n",
    "\n",
    "Write a function named precedence that returns an integer representing the precedence of a mathematical operator. A string containing the operator will be passed to\n",
    "the function as its only parameter. Your function should return 1 for + and -, 2 for *\n",
    "and /, and 3 for ˆ. If the string passed to the function is not one of these operators\n",
    "then the function should return -1. Include a main program that reads an operator\n",
    "from the user and either displays the operator’s precedence or an error message indicating that the input was not an operator. Your main program should only run when\n",
    "the file containing your solution has not been imported into another program\n",
    "\n",
    "<div class=\"alert alert-block alert-info\"><b>In this exercise, along with others that appear later in the book, we will use ˆ to\n",
    "represent exponentiation. Using ˆ instead of Python’s choice of ** will make\n",
    "these exercises easier because an operator will always be a single character.</b>"
   ]
  },
  {
   "cell_type": "code",
   "execution_count": null,
   "metadata": {},
   "outputs": [],
   "source": []
  }
 ],
 "metadata": {
  "kernelspec": {
   "display_name": "Python 3",
   "language": "python",
   "name": "python3"
  },
  "language_info": {
   "codemirror_mode": {
    "name": "ipython",
    "version": 3
   },
   "file_extension": ".py",
   "mimetype": "text/x-python",
   "name": "python",
   "nbconvert_exporter": "python",
   "pygments_lexer": "ipython3",
   "version": "3.7.7"
  }
 },
 "nbformat": 4,
 "nbformat_minor": 4
}
