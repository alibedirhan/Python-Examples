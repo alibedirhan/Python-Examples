{
 "cells": [
  {
   "cell_type": "markdown",
   "metadata": {},
   "source": [
    "### Exercise 104: Sorted Order\n",
    "\n",
    "Write a program that reads integers from the user and stores them in a list. Your\n",
    "program should continue reading values until the user enters 0. Then it should display\n",
    "all of the values entered by the user (except for the 0) in order from smallest to largest,\n",
    "with one value appearing on each line. Use either the sort method or the sorted\n",
    "function to sort the list."
   ]
  },
  {
   "cell_type": "code",
   "execution_count": null,
   "metadata": {},
   "outputs": [],
   "source": [
    "# try block to handle the exception \n",
    "try: \n",
    "    my_list = [] \n",
    "      \n",
    "    while True: \n",
    "        my_list.append(int(input())) \n",
    "          \n",
    "# if the input is not-integer, just print the list \n",
    "except: \n",
    "    print(my_list)"
   ]
  },
  {
   "cell_type": "markdown",
   "metadata": {},
   "source": [
    "### Exercise 105: Reverse Order\n",
    "\n",
    "Write a program that reads integers from the user and stores them in a list. Use 0 as\n",
    "a sentinel value to mark the end of the input. Once all of the values have been read\n",
    "your program should display them (except for the 0) in reverse order, with one value\n",
    "appearing on each line."
   ]
  },
  {
   "cell_type": "code",
   "execution_count": null,
   "metadata": {},
   "outputs": [],
   "source": [
    "def main():\n",
    "    list_of_numbers = []\n",
    "    #We use this boolean to indicate that we are not done\n",
    "    done = False\n",
    "    while not done:\n",
    "        number = int(input(\"Enter a number. Exit with 0: \"))\n",
    "        if number != 0:\n",
    "            list_of_numbers.append(number)\n",
    "        else:\n",
    "            done = True\n",
    "     \n",
    "    sorted_list = sorted(list_of_numbers, key=int, reverse=True)\n",
    "    print(sorted_list) \n",
    " \n",
    "if __name__ == '__main__':\n",
    "    main()"
   ]
  },
  {
   "cell_type": "markdown",
   "metadata": {},
   "source": [
    "### Exercise 106: Remove Outliers\n",
    "\n",
    "When analysing data collected as part of a science experiment it may be desirable\n",
    "to remove the most extreme values before performing other calculations. Write a\n",
    "function that takes a list of values and an non-negative integer, n, as its parameters.\n",
    "The function should create a new copy of the list with the n largest elements and the\n",
    "n smallest elements removed. Then it should return the new copy of the list as the\n",
    "function’s only result. The order of the elements in the returned list does not have to\n",
    "match the order of the elements in the original list.\n",
    "Write a main program that demonstrates your function. Your function should read\n",
    "a list of numbers from the user and remove the two largest and two smallest values\n",
    "from it. Display the list with the outliers removed, followed by the original list. Your\n",
    "program should generate an appropriate error message if the user enters less than 4\n",
    "values."
   ]
  },
  {
   "cell_type": "code",
   "execution_count": null,
   "metadata": {},
   "outputs": [],
   "source": [
    "def removeOutliers(data, num_outliers):\n",
    "    retval = sorted(data)\n",
    "    \n",
    "    for i in range(num_outliers):\n",
    "        retval.pop()\n",
    "        \n",
    "    for i in range(num_outliers):\n",
    "        retval.pop(0)\n",
    "    \n",
    "    return retval\n",
    "\n",
    "def main():\n",
    "    values = []\n",
    "    s = input(\"Enter a value (blank line to quit): \")\n",
    "    while s != \"\":\n",
    "        num = float(s)\n",
    "        values.append(num)\n",
    "        s = input(\"Enter a value (blank line tı quit): \")\n",
    "    \n",
    "    if len(values) < 4:\n",
    "        print(\"You didn't enter enough values.\")\n",
    "    else:\n",
    "        print(\"With the outliers removed: \", removeOutliers(values, 2))\n",
    "        print(\"The original: \", values)\n",
    "        \n",
    "main()"
   ]
  },
  {
   "cell_type": "markdown",
   "metadata": {},
   "source": [
    "### Exercise 107: Avoiding Duplicates\n",
    "\n",
    "In this exercise, you will create a program that reads words from the user until the\n",
    "user enters a blank line. After the user enters a blank line your program should display each word entered by the user exactly once. The words should be displayed in\n",
    "the same order that they were entered. For example, if the user enters:\n",
    "<br>first</br>\n",
    "<br>second</br>\n",
    "<br>first</br>\n",
    "<br>third</br>\n",
    "<br>second</br>\n",
    "then your program should display:\n",
    "<br>first</br>\n",
    "<br>second</br>\n",
    "<br>third</br>"
   ]
  },
  {
   "cell_type": "code",
   "execution_count": null,
   "metadata": {},
   "outputs": [],
   "source": [
    "words = []\n",
    "word = input(\"Enter a word (blank line to quit): \")\n",
    "\n",
    "while word != \"\":\n",
    "    if word not in words:\n",
    "        words.append(word)\n",
    "        \n",
    "    word = input(\"Enter a word (blank line to quit): \")\n",
    "\n",
    "for word in words:\n",
    "    print(word)"
   ]
  },
  {
   "cell_type": "markdown",
   "metadata": {},
   "source": [
    "### Exercise 108: Negatives, Zeros and Positives\n",
    "\n",
    "Create a program that reads integers from the user until a blank line is entered. Once\n",
    "all of the integers have been read your program should display all of the negative\n",
    "numbers, followed by all of the zeros, followed by all of the positive numbers. Within\n",
    "each group the numbers should be displayed in the same order that they were entered by the user. For example, if the user enters the values 3, -4, 1, 0, -1, 0, and -2 then\n",
    "your program should output the values -4, -1, -2, 0, 0, 3, and 1. Your program\n",
    "should display each value on its own line."
   ]
  },
  {
   "cell_type": "code",
   "execution_count": null,
   "metadata": {},
   "outputs": [],
   "source": [
    "negatives = []\n",
    "zeros = []\n",
    "positives = []\n",
    "\n",
    "line = input(\"Enter an integer (blank to quit): \")\n",
    "while line != \"\":\n",
    "    num = int(line)\n",
    "    \n",
    "    if num < 0:\n",
    "        negatives.append(num)\n",
    "    elif num > 0:\n",
    "        positives.append(num)\n",
    "    else:\n",
    "        zeros.append(num)\n",
    "        \n",
    "    line = input(\"Enter an integer (blank to quit): \")\n",
    "    \n",
    "print(\"The numbers were: \")\n",
    "\n",
    "for n in negatives:\n",
    "    print(n)\n",
    "\n",
    "for n in zeros:\n",
    "    print(n)\n",
    "    \n",
    "for n in positives:\n",
    "    print(n)"
   ]
  },
  {
   "cell_type": "markdown",
   "metadata": {},
   "source": [
    "### Exercise 109: List of Proper Divisors\n",
    "\n",
    "A proper divisor of a positive integer, n, is a positive integer less than n which divides\n",
    "evenly into n. Write a function that computes all of the proper divisors of a positive\n",
    "integer. The integer will be passed to the function as its only parameter. The function\n",
    "will return a list containing all of the proper divisors as its only result. Complete\n",
    "this exercise by writing a main program that demonstrates the function by reading\n",
    "a value from the user and displaying the list of its proper divisors. Ensure that your\n",
    "main program only runs when your solution has not been imported into another file."
   ]
  },
  {
   "cell_type": "code",
   "execution_count": null,
   "metadata": {},
   "outputs": [],
   "source": [
    "import math \n",
    "\n",
    "def divSum(num) : \n",
    "    result = 0\n",
    "      \n",
    "    i = 2\n",
    "    while i<= (math.sqrt(num)) : \n",
    "        \n",
    "        \n",
    "        if (num % i == 0) : \n",
    "        \n",
    "           \n",
    "            if (i == (num / i)) : \n",
    "                result = result + i; \n",
    "            else : \n",
    "                result = result +  (i + num/i); \n",
    "        i = i + 1\n",
    "        \n",
    "    return (result + 1); \n",
    "\n",
    "num = input(\"Enter a num\")\n",
    "num = int(num)\n",
    "print (divSum(num)) "
   ]
  },
  {
   "cell_type": "markdown",
   "metadata": {},
   "source": [
    "### Exercise 110: Perfect Numbers\n",
    "\n",
    "An integer, n, is said to be perfect when the sum of all of the proper divisors of n is\n",
    "equal to n. For example, 28 is a perfect number because its proper divisors are 1, 2,\n",
    "4, 7 and 14, and 1 + 2 + 4 + 7 + 14 = 28.\n",
    "Write a function that determines whether or not a positive integer is perfect. Your\n",
    "function will take one parameter. If that parameter is a perfect number then your function will return true. Otherwise it will return false. In addition, write a main program\n",
    "that uses your function to identify and display all of the perfect numbers between 1\n",
    "and 10,000. Import your solution to Exercise 109 when completing this task."
   ]
  },
  {
   "cell_type": "code",
   "execution_count": null,
   "metadata": {},
   "outputs": [],
   "source": [
    "limit = int(input(\"enter upper limit for perfect number search: \"))\n",
    "\n",
    "sieve = [1] * (limit + 1)\n",
    "\n",
    "n = 2\n",
    "while n <= limit:\n",
    "    \n",
    "    if sieve[n] == n:\n",
    "        print(n, \"is a perfect number\")\n",
    "    kn = 2 * n\n",
    "    while kn <= limit:\n",
    "        sieve[kn] += n\n",
    "        kn += n\n",
    "    n += 1"
   ]
  },
  {
   "cell_type": "markdown",
   "metadata": {},
   "source": [
    "### Exercise 111: Only the Words\n",
    "\n",
    "In this exercise you will create a program that identifies all of the words in a string\n",
    "entered by the user. Begin by writing a function that takes a string of text as its only\n",
    "parameter. Your function should return a list of the words in the string with the punctuation marks at the edges of the words removed. The punctuation marks that you must\n",
    "remove include commas, periods, question marks, hyphens, apostrophes, exclamation points, colons, and semicolons. Do not remove punctuation marks that appear in\n",
    "the middle of a words, such as the apostrophes used to form a contraction. For example, if your function is provided with the string \"Examples of contractions\n",
    "include: don’t, isn’t, and wouldn’t.\" then your function should\n",
    "return the list [\"Examples\", \"of\", \"contractions\", \"include\",\n",
    "\"don’t\", \"isn’t\", \"and\", \"wouldn’t\"]. Write a main program that demonstrates your function. It should read a string\n",
    "from the user and display all of the words in the string with the punctuation marks\n",
    "removed. You will need to import your solution to this exercise when completing\n",
    "Exercise 158. As a result, you should ensure that your main program only runs when\n",
    "your file has not been imported into another program."
   ]
  },
  {
   "cell_type": "code",
   "execution_count": null,
   "metadata": {},
   "outputs": [],
   "source": []
  },
  {
   "cell_type": "markdown",
   "metadata": {},
   "source": [
    "### Exercise 112: Below and Above Average\n",
    "\n",
    "Write a program that reads numbers from the user until a blank line is entered. Your\n",
    "program should display the average of all of the values entered by the user. Then\n",
    "the program should display all of the below average values, followed by all of the\n",
    "average values (if any), followed by all of the above average values. An appropriate\n",
    "label should be displayed before each list of values."
   ]
  },
  {
   "cell_type": "code",
   "execution_count": null,
   "metadata": {},
   "outputs": [],
   "source": []
  },
  {
   "cell_type": "markdown",
   "metadata": {},
   "source": [
    "### Exercise 113: Formatting a List\n",
    "\n",
    "When writing out a list of items in English, one normally separates the items with\n",
    "commas. In addition, the word “and” is normally included before the last item, unless\n",
    "the list only contains one item. Consider the following four lists:\n",
    "apples\n",
    "apples and oranges\n",
    "apples, oranges and bananas\n",
    "apples, oranges, bananas and lemons\n",
    "Write a function that takes a list of strings as its only parameter. Your function\n",
    "should return a string that contains all of the items in the list formatted in the manner\n",
    "described previously as its only result. While the examples shown previously only\n",
    "include lists containing four elements or less, your function should behave correctly\n",
    "for lists of any length. Include a main program that reads several items from the user,\n",
    "formats them by calling your function, and then displays the result returned by the\n",
    "function."
   ]
  },
  {
   "cell_type": "code",
   "execution_count": null,
   "metadata": {},
   "outputs": [],
   "source": []
  },
  {
   "cell_type": "markdown",
   "metadata": {},
   "source": [
    "### Exercise 114: Random Lottery Numbers\n",
    "\n",
    "In order to win the top prize in a particular lottery, one must match all 6 numbers\n",
    "on his or her ticket to the 6 numbers between 1 and 49 that are drawn by the lottery\n",
    "organizer. Write a program that generates a random selection of 6 numbers for a lottery ticket. Ensure that the 6 numbers selected do not contain any duplicates.\n",
    "Display the numbers in ascending order."
   ]
  },
  {
   "cell_type": "code",
   "execution_count": null,
   "metadata": {},
   "outputs": [],
   "source": []
  },
  {
   "cell_type": "markdown",
   "metadata": {},
   "source": [
    "### Exercise 115: Pig Latin\n",
    "\n",
    "Pig Latin is a language constructed by transforming English words. While the origins of the language are unknown, it is mentioned in at least two documents from\n",
    "the nineteenth century, suggesting that it has existed for more than 100 years. The\n",
    "following rules are used to translate English into Pig Latin:\n",
    "<p> &#8226; If the word begins with a consonant (including y), then all letters at the beginning of\n",
    "the word, up to the first vowel (excluding y), are removed and then added to the end\n",
    "of the word, followed by ay. For example, computer becomes omputercay\n",
    "and think becomes inkthay.</p>\n",
    "<p> &#8226; If the word begins with a vowel (not including y), then way is added to the end\n",
    "of the word. For example, algorithm becomes algorithmway and office\n",
    "becomes officeway.</p>\n",
    "Write a program that reads a line of text from the user. Then your program should\n",
    "translate the line into Pig Latin and display the result. You may assume that the string\n",
    "entered by the user only contains lowercase letters and spaces."
   ]
  },
  {
   "cell_type": "markdown",
   "metadata": {},
   "source": []
  },
  {
   "cell_type": "markdown",
   "metadata": {},
   "source": [
    "### Exercise 116: Pig Latin Improved\n",
    "\n",
    "Extend your solution to Exercise 115 so that it correctly handles uppercase letters and\n",
    "punctuation marks such as commas, periods, question marks and exclamation marks.\n",
    "If an English word begins with an uppercase letter then its Pig Latin representation\n",
    "should also begin with an uppercase letter and the uppercase letter moved to the end of\n",
    "the word should be changed to lowercase. For example, Computer should become\n",
    "Omputercay. If a word ends in a punctuation mark then the punctuation mark\n",
    "should remain at the end of the word after the transformation has been performed.\n",
    "For example, Science! should become Iencescay!."
   ]
  },
  {
   "cell_type": "code",
   "execution_count": null,
   "metadata": {},
   "outputs": [],
   "source": []
  },
  {
   "cell_type": "markdown",
   "metadata": {},
   "source": [
    "### Exercise 117: Line of Best Fit\n",
    "\n",
    "A line of best fit is a straight line that best approximates a collection of n data points.\n",
    "In this exercise, we will assume that each point in the collection has an x coordinate\n",
    "and a y coordinate. The symbols x¯ and y¯ are used to represent the average x value in the collection and the average y value in the collection respectively. The line of best\n",
    "fit is represented by the equation y = mx + b where m and b are calculated using\n",
    "the following formulas:\n",
    "    \n",
    "   $$m=\\frac{\\sum xy - \\frac{(\\sum x) (\\sum y)}{n}}{\\sum x^{2}-\\frac{(\\sum x)^{2}}{n}}$$\n",
    "    $$ b = \\bar{y}-m\\bar{x} $$\n",
    "    \n",
    "Write a program that reads a collection of points from the user. The user will enter\n",
    "the x part of the first coordinate on its own line, followed by the y part of the first\n",
    "coordinate on its own line. Allow the user to continue entering coordinates, with the\n",
    "x and y parts each entered on their own line, until your program reads a blank line for\n",
    "the x coordinate. Display the formula for the line of best fit in the form y = mx + b\n",
    "by replacing m and b with the values you calculated using the preceding formulas.\n",
    "For example, if the user inputs the coordinates (1, 1), (2, 2.1) and (3, 2.9) then your\n",
    "program should display y = 0.95x + 0.1."
   ]
  },
  {
   "cell_type": "code",
   "execution_count": null,
   "metadata": {},
   "outputs": [],
   "source": []
  },
  {
   "cell_type": "code",
   "execution_count": null,
   "metadata": {},
   "outputs": [],
   "source": []
  }
 ],
 "metadata": {
  "kernelspec": {
   "display_name": "Python 3",
   "language": "python",
   "name": "python3"
  },
  "language_info": {
   "codemirror_mode": {
    "name": "ipython",
    "version": 3
   },
   "file_extension": ".py",
   "mimetype": "text/x-python",
   "name": "python",
   "nbconvert_exporter": "python",
   "pygments_lexer": "ipython3",
   "version": "3.7.7"
  }
 },
 "nbformat": 4,
 "nbformat_minor": 4
}
