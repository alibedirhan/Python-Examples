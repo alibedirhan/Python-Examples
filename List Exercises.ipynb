{
 "cells": [
  {
   "cell_type": "markdown",
   "metadata": {},
   "source": [
    "### Exercise 104: Sorted Order\n",
    "\n",
    "Write a program that reads integers from the user and stores them in a list. Your\n",
    "program should continue reading values until the user enters 0. Then it should display\n",
    "all of the values entered by the user (except for the 0) in order from smallest to largest,\n",
    "with one value appearing on each line. Use either the sort method or the sorted\n",
    "function to sort the list."
   ]
  },
  {
   "cell_type": "code",
   "execution_count": null,
   "metadata": {},
   "outputs": [],
   "source": [
    "# try block to handle the exception \n",
    "try: \n",
    "    my_list = [] \n",
    "      \n",
    "    while True: \n",
    "        my_list.append(int(input())) \n",
    "          \n",
    "# if the input is not-integer, just print the list \n",
    "except: \n",
    "    print(my_list)"
   ]
  },
  {
   "cell_type": "markdown",
   "metadata": {},
   "source": [
    "### Exercise 105: Reverse Order\n",
    "\n",
    "Write a program that reads integers from the user and stores them in a list. Use 0 as\n",
    "a sentinel value to mark the end of the input. Once all of the values have been read\n",
    "your program should display them (except for the 0) in reverse order, with one value\n",
    "appearing on each line."
   ]
  },
  {
   "cell_type": "code",
   "execution_count": null,
   "metadata": {},
   "outputs": [],
   "source": [
    "def main():\n",
    "    list_of_numbers = []\n",
    "    #We use this boolean to indicate that we are not done\n",
    "    done = False\n",
    "    while not done:\n",
    "        number = int(input(\"Enter a number. Exit with 0: \"))\n",
    "        if number != 0:\n",
    "            list_of_numbers.append(number)\n",
    "        else:\n",
    "            done = True\n",
    "     \n",
    "    sorted_list = sorted(list_of_numbers, key=int, reverse=True)\n",
    "    print(sorted_list) \n",
    " \n",
    "if __name__ == '__main__':\n",
    "    main()"
   ]
  },
  {
   "cell_type": "markdown",
   "metadata": {},
   "source": [
    "### Exercise 106: Remove Outliers\n",
    "\n",
    "When analysing data collected as part of a science experiment it may be desirable\n",
    "to remove the most extreme values before performing other calculations. Write a\n",
    "function that takes a list of values and an non-negative integer, n, as its parameters.\n",
    "The function should create a new copy of the list with the n largest elements and the\n",
    "n smallest elements removed. Then it should return the new copy of the list as the\n",
    "function’s only result. The order of the elements in the returned list does not have to\n",
    "match the order of the elements in the original list.\n",
    "Write a main program that demonstrates your function. Your function should read\n",
    "a list of numbers from the user and remove the two largest and two smallest values\n",
    "from it. Display the list with the outliers removed, followed by the original list. Your\n",
    "program should generate an appropriate error message if the user enters less than 4\n",
    "values."
   ]
  },
  {
   "cell_type": "code",
   "execution_count": null,
   "metadata": {},
   "outputs": [],
   "source": [
    "def removeOutliers(data, num_outliers):\n",
    "    retval = sorted(data)\n",
    "    \n",
    "    for i in range(num_outliers):\n",
    "        retval.pop()\n",
    "        \n",
    "    for i in range(num_outliers):\n",
    "        retval.pop(0)\n",
    "    \n",
    "    return retval\n",
    "\n",
    "def main():\n",
    "    values = []\n",
    "    s = input(\"Enter a value (blank line to quit): \")\n",
    "    while s != \"\":\n",
    "        num = float(s)\n",
    "        values.append(num)\n",
    "        s = input(\"Enter a value (blank line tı quit): \")\n",
    "    \n",
    "    if len(values) < 4:\n",
    "        print(\"You didn't enter enough values.\")\n",
    "    else:\n",
    "        print(\"With the outliers removed: \", removeOutliers(values, 2))\n",
    "        print(\"The original: \", values)\n",
    "        \n",
    "main()"
   ]
  },
  {
   "cell_type": "markdown",
   "metadata": {},
   "source": [
    "### Exercise 107: Avoiding Duplicates\n",
    "\n",
    "In this exercise, you will create a program that reads words from the user until the\n",
    "user enters a blank line. After the user enters a blank line your program should display each word entered by the user exactly once. The words should be displayed in\n",
    "the same order that they were entered. For example, if the user enters:\n",
    "<br>first</br>\n",
    "<br>second</br>\n",
    "<br>first</br>\n",
    "<br>third</br>\n",
    "<br>second</br>\n",
    "then your program should display:\n",
    "<br>first</br>\n",
    "<br>second</br>\n",
    "<br>third</br>"
   ]
  },
  {
   "cell_type": "code",
   "execution_count": null,
   "metadata": {},
   "outputs": [],
   "source": [
    "words = []\n",
    "word = input(\"Enter a word (blank line to quit): \")\n",
    "\n",
    "while word != \"\":\n",
    "    if word not in words:\n",
    "        words.append(word)\n",
    "        \n",
    "    word = input(\"Enter a word (blank line to quit): \")\n",
    "\n",
    "for word in words:\n",
    "    print(word)"
   ]
  },
  {
   "cell_type": "markdown",
   "metadata": {},
   "source": [
    "### Exercise 108: Negatives, Zeros and Positives\n",
    "\n",
    "Create a program that reads integers from the user until a blank line is entered. Once\n",
    "all of the integers have been read your program should display all of the negative\n",
    "numbers, followed by all of the zeros, followed by all of the positive numbers. Within\n",
    "each group the numbers should be displayed in the same order that they were entered by the user. For example, if the user enters the values 3, -4, 1, 0, -1, 0, and -2 then\n",
    "your program should output the values -4, -1, -2, 0, 0, 3, and 1. Your program\n",
    "should display each value on its own line."
   ]
  },
  {
   "cell_type": "code",
   "execution_count": null,
   "metadata": {},
   "outputs": [],
   "source": [
    "negatives = []\n",
    "zeros = []\n",
    "positives = []\n",
    "\n",
    "line = input(\"Enter an integer (blank to quit): \")\n",
    "while line != \"\":\n",
    "    num = int(line)\n",
    "    \n",
    "    if num < 0:\n",
    "        negatives.append(num)\n",
    "    elif num > 0:\n",
    "        positives.append(num)\n",
    "    else:\n",
    "        zeros.append(num)\n",
    "        \n",
    "    line = input(\"Enter an integer (blank to quit): \")\n",
    "    \n",
    "print(\"The numbers were: \")\n",
    "\n",
    "for n in negatives:\n",
    "    print(n)\n",
    "\n",
    "for n in zeros:\n",
    "    print(n)\n",
    "    \n",
    "for n in positives:\n",
    "    print(n)"
   ]
  },
  {
   "cell_type": "markdown",
   "metadata": {},
   "source": [
    "### Exercise 109: List of Proper Divisors\n",
    "\n",
    "A proper divisor of a positive integer, n, is a positive integer less than n which divides\n",
    "evenly into n. Write a function that computes all of the proper divisors of a positive\n",
    "integer. The integer will be passed to the function as its only parameter. The function\n",
    "will return a list containing all of the proper divisors as its only result. Complete\n",
    "this exercise by writing a main program that demonstrates the function by reading\n",
    "a value from the user and displaying the list of its proper divisors. Ensure that your\n",
    "main program only runs when your solution has not been imported into another file."
   ]
  },
  {
   "cell_type": "code",
   "execution_count": null,
   "metadata": {},
   "outputs": [],
   "source": [
    "import math \n",
    "\n",
    "def divSum(num) : \n",
    "    result = 0\n",
    "      \n",
    "    i = 2\n",
    "    while i<= (math.sqrt(num)) : \n",
    "        \n",
    "        \n",
    "        if (num % i == 0) : \n",
    "        \n",
    "           \n",
    "            if (i == (num / i)) : \n",
    "                result = result + i; \n",
    "            else : \n",
    "                result = result +  (i + num/i); \n",
    "        i = i + 1\n",
    "        \n",
    "    return (result + 1); \n",
    "\n",
    "num = input(\"Enter a num\")\n",
    "num = int(num)\n",
    "print (divSum(num)) "
   ]
  },
  {
   "cell_type": "markdown",
   "metadata": {},
   "source": [
    "### Exercise 110: Perfect Numbers\n",
    "\n",
    "An integer, n, is said to be perfect when the sum of all of the proper divisors of n is\n",
    "equal to n. For example, 28 is a perfect number because its proper divisors are 1, 2,\n",
    "4, 7 and 14, and 1 + 2 + 4 + 7 + 14 = 28.\n",
    "Write a function that determines whether or not a positive integer is perfect. Your\n",
    "function will take one parameter. If that parameter is a perfect number then your function will return true. Otherwise it will return false. In addition, write a main program\n",
    "that uses your function to identify and display all of the perfect numbers between 1\n",
    "and 10,000. Import your solution to Exercise 109 when completing this task."
   ]
  },
  {
   "cell_type": "code",
   "execution_count": null,
   "metadata": {},
   "outputs": [],
   "source": [
    "limit = int(input(\"enter upper limit for perfect number search: \"))\n",
    "\n",
    "sieve = [1] * (limit + 1)\n",
    "\n",
    "n = 2\n",
    "while n <= limit:\n",
    "    \n",
    "    if sieve[n] == n:\n",
    "        print(n, \"is a perfect number\")\n",
    "    kn = 2 * n\n",
    "    while kn <= limit:\n",
    "        sieve[kn] += n\n",
    "        kn += n\n",
    "    n += 1"
   ]
  },
  {
   "cell_type": "markdown",
   "metadata": {},
   "source": [
    "### Exercise 111: Only the Words\n",
    "\n",
    "In this exercise you will create a program that identifies all of the words in a string\n",
    "entered by the user. Begin by writing a function that takes a string of text as its only\n",
    "parameter. Your function should return a list of the words in the string with the punctuation marks at the edges of the words removed. The punctuation marks that you must\n",
    "remove include commas, periods, question marks, hyphens, apostrophes, exclamation points, colons, and semicolons. Do not remove punctuation marks that appear in\n",
    "the middle of a words, such as the apostrophes used to form a contraction. For example, if your function is provided with the string \"Examples of contractions\n",
    "include: don’t, isn’t, and wouldn’t.\" then your function should\n",
    "return the list [\"Examples\", \"of\", \"contractions\", \"include\",\n",
    "\"don’t\", \"isn’t\", \"and\", \"wouldn’t\"]. Write a main program that demonstrates your function. It should read a string\n",
    "from the user and display all of the words in the string with the punctuation marks\n",
    "removed. You will need to import your solution to this exercise when completing\n",
    "Exercise 158. As a result, you should ensure that your main program only runs when\n",
    "your file has not been imported into another program."
   ]
  },
  {
   "cell_type": "code",
   "execution_count": 1,
   "metadata": {},
   "outputs": [
    {
     "name": "stdout",
     "output_type": "stream",
     "text": [
      "Enter your sentence: örneğin bu nasıl çalıştı\n",
      "['örneğin', 'bu', 'nasıl', 'çalıştı']\n"
     ]
    }
   ],
   "source": [
    "def get_words(sentence):\n",
    "    punctuations = \",.?-\\'!:;\"\n",
    "    words = [word.strip(punctuations) for word in sentence.split()]\n",
    "    return words\n",
    "\n",
    "def main():\n",
    "    sentence = input(\"Enter your sentence: \")\n",
    "    word_list = get_words(sentence)\n",
    "    print(word_list)\n",
    "main()"
   ]
  },
  {
   "cell_type": "markdown",
   "metadata": {},
   "source": [
    "### Exercise 112: Below and Above Average\n",
    "\n",
    "Write a program that reads numbers from the user until a blank line is entered. Your\n",
    "program should display the average of all of the values entered by the user. Then\n",
    "the program should display all of the below average values, followed by all of the\n",
    "average values (if any), followed by all of the above average values. An appropriate\n",
    "label should be displayed before each list of values."
   ]
  },
  {
   "cell_type": "code",
   "execution_count": 8,
   "metadata": {},
   "outputs": [
    {
     "name": "stdout",
     "output_type": "stream",
     "text": [
      "Enter a number: 5\n",
      "Enter a number: 10\n",
      "Enter a number: 15\n",
      "Enter a number: stop\n",
      "You entered 3 numbers whose total is 30.0 and average is 10.0.\n"
     ]
    }
   ],
   "source": [
    "inp = 'Enter a number: '\n",
    "total = 0\n",
    "count = 0\n",
    "average = 0\n",
    "\n",
    "while True:\n",
    "        s = input(inp)\n",
    "        if s == 'stop':\n",
    "                break\n",
    "        try:\n",
    "                total += float(s)\n",
    "                count += 1\n",
    "                average = total / count\n",
    "        except ValueError:\n",
    "                print (\"Invalid Input. Try again: \")\n",
    "        continue\n",
    "print ('You entered %s numbers whose total is %s and average is %s.' % (str(count), str(total), str(average)))"
   ]
  },
  {
   "cell_type": "markdown",
   "metadata": {},
   "source": [
    "### Exercise 113: Formatting a List\n",
    "\n",
    "When writing out a list of items in English, one normally separates the items with\n",
    "commas. In addition, the word “and” is normally included before the last item, unless\n",
    "the list only contains one item. Consider the following four lists:\n",
    "apples\n",
    "apples and oranges\n",
    "apples, oranges and bananas\n",
    "apples, oranges, bananas and lemons\n",
    "Write a function that takes a list of strings as its only parameter. Your function\n",
    "should return a string that contains all of the items in the list formatted in the manner\n",
    "described previously as its only result. While the examples shown previously only\n",
    "include lists containing four elements or less, your function should behave correctly\n",
    "for lists of any length. Include a main program that reads several items from the user,\n",
    "formats them by calling your function, and then displays the result returned by the\n",
    "function."
   ]
  },
  {
   "cell_type": "code",
   "execution_count": 2,
   "metadata": {},
   "outputs": [
    {
     "name": "stdout",
     "output_type": "stream",
     "text": [
      "Enter an item (blank to quit): \n",
      "The items are <empty>.\n"
     ]
    }
   ],
   "source": [
    "def formatList(items):\n",
    "    if len(items) == 0:\n",
    "        return \"<empty>\"\n",
    "    if len(items) == 1:\n",
    "        return str(items[0])\n",
    "    \n",
    "    result = \"\"\n",
    "    \n",
    "    for i in range(0, len(items) -2):\n",
    "        result = result + str(items[i]) + \", \"\n",
    "        \n",
    "    result = result + str(items[len(items) - 2]) + \" and\"\n",
    "    result = result + str(items[len(items) - 1])\n",
    "    return result\n",
    "\n",
    "\n",
    "def main():\n",
    "    items = []\n",
    "    line = input(\"Enter an item (blank to quit): \")\n",
    "    while line != \"\":\n",
    "        items.append(line)\n",
    "        line = input(\"Enter an item (blank to quit): \")\n",
    "        \n",
    "    print(\"The items are %s.\" % formatList(items))\n",
    "main()"
   ]
  },
  {
   "cell_type": "markdown",
   "metadata": {},
   "source": [
    "### Exercise 114: Random Lottery Numbers\n",
    "\n",
    "In order to win the top prize in a particular lottery, one must match all 6 numbers\n",
    "on his or her ticket to the 6 numbers between 1 and 49 that are drawn by the lottery\n",
    "organizer. Write a program that generates a random selection of 6 numbers for a lottery ticket. Ensure that the 6 numbers selected do not contain any duplicates.\n",
    "Display the numbers in ascending order."
   ]
  },
  {
   "cell_type": "code",
   "execution_count": 19,
   "metadata": {},
   "outputs": [
    {
     "name": "stdout",
     "output_type": "stream",
     "text": [
      "Your numbers are: 81516303442\n"
     ]
    }
   ],
   "source": [
    "from random import randrange\n",
    "\n",
    "min_num = 1\n",
    "max_num = 49\n",
    "num_nums = 6\n",
    "\n",
    "ticket_nums =[]\n",
    "\n",
    "for i in range(num_nums):\n",
    "    rand = randrange(min_num, max_num + 1)\n",
    "    while rand in ticket_nums:\n",
    "        rand = randrange(min_num, max_num + 1)\n",
    "    \n",
    "    ticket_nums.append(rand)\n",
    "    \n",
    "ticket_nums.sort()\n",
    "print(\"Your numbers are: \", end=\"\")\n",
    "for n in ticket_nums:\n",
    "    print(n, end=\"\")\n",
    "print()\n",
    "    "
   ]
  },
  {
   "cell_type": "markdown",
   "metadata": {},
   "source": [
    "### Exercise 115: Pig Latin\n",
    "\n",
    "Pig Latin is a language constructed by transforming English words. While the origins of the language are unknown, it is mentioned in at least two documents from\n",
    "the nineteenth century, suggesting that it has existed for more than 100 years. The\n",
    "following rules are used to translate English into Pig Latin:\n",
    "<p> &#8226; If the word begins with a consonant (including y), then all letters at the beginning of\n",
    "the word, up to the first vowel (excluding y), are removed and then added to the end\n",
    "of the word, followed by ay. For example, computer becomes omputercay\n",
    "and think becomes inkthay.</p>\n",
    "<p> &#8226; If the word begins with a vowel (not including y), then way is added to the end\n",
    "of the word. For example, algorithm becomes algorithmway and office\n",
    "becomes officeway.</p>\n",
    "Write a program that reads a line of text from the user. Then your program should\n",
    "translate the line into Pig Latin and display the result. You may assume that the string\n",
    "entered by the user only contains lowercase letters and spaces."
   ]
  },
  {
   "cell_type": "code",
   "execution_count": 15,
   "metadata": {},
   "outputs": [
    {
     "name": "stdout",
     "output_type": "stream",
     "text": [
      "Enter a textcomputer\n",
      "omputercay\n"
     ]
    }
   ],
   "source": [
    "def isVowel(c): \n",
    "    return (c == 'A' or c == 'E' or c == 'I' or\n",
    "            c == 'O' or c == 'U' or c == 'a' or\n",
    "            c == 'e' or c == 'i' or c == 'o' or\n",
    "            c == 'u'); \n",
    "  \n",
    "  \n",
    "def pigLatin(s): \n",
    "   \n",
    "    length = len(s); \n",
    "    index = -1; \n",
    "    for i in range(length): \n",
    "        if (isVowel(s[i])): \n",
    "            index = i; \n",
    "            break; \n",
    "  \n",
    "    if (index == -1): \n",
    "        return \"-1\"; \n",
    "  \n",
    "    return s[index:] + s[0:index] + \"ay\"; \n",
    "  \n",
    "str = pigLatin(input(\"Enter a text: \")); \n",
    "if (str == \"-1\"): \n",
    "    print(\"No vowels found. Pig Latin not possible\"); \n",
    "else: \n",
    "    print(str); "
   ]
  },
  {
   "cell_type": "markdown",
   "metadata": {},
   "source": [
    "### Exercise 116: Pig Latin Improved\n",
    "\n",
    "Extend your solution to Exercise 115 so that it correctly handles uppercase letters and\n",
    "punctuation marks such as commas, periods, question marks and exclamation marks.\n",
    "If an English word begins with an uppercase letter then its Pig Latin representation\n",
    "should also begin with an uppercase letter and the uppercase letter moved to the end of\n",
    "the word should be changed to lowercase. For example, Computer should become\n",
    "Omputercay. If a word ends in a punctuation mark then the punctuation mark\n",
    "should remain at the end of the word after the transformation has been performed.\n",
    "For example, Science! should become Iencescay!."
   ]
  },
  {
   "cell_type": "code",
   "execution_count": 20,
   "metadata": {},
   "outputs": [
    {
     "name": "stdout",
     "output_type": "stream",
     "text": [
      "Enter word to be translated:\n",
      "computer\n",
      "omputercay\n"
     ]
    }
   ],
   "source": [
    "user_input = input(\"Enter word to be translated:\\n\")\n",
    "vowels = ['a','e','i','o','u']\n",
    "\n",
    "def translate(user_input): \n",
    "    first = user_input[0]\n",
    "\n",
    "    if first in vowels: \n",
    "         user_input = user_input.lower()\n",
    "         user_input += \"way\" \n",
    "         return user_input\n",
    "    else: \n",
    "        user_input = user_input.lower()\n",
    "\n",
    "        for letter in user_input:\n",
    "            if letter in vowels:\n",
    "                index_value = user_input.index(letter)\n",
    "                break\n",
    "\n",
    "        user_input = user_input[index_value:] +user_input[:index_value]+ \"ay\" \n",
    "        return user_input \n",
    "\n",
    "print(translate(user_input))"
   ]
  },
  {
   "cell_type": "markdown",
   "metadata": {},
   "source": [
    "### Exercise 117: Line of Best Fit\n",
    "\n",
    "A line of best fit is a straight line that best approximates a collection of n data points.\n",
    "In this exercise, we will assume that each point in the collection has an x coordinate\n",
    "and a y coordinate. The symbols x¯ and y¯ are used to represent the average x value in the collection and the average y value in the collection respectively. The line of best\n",
    "fit is represented by the equation y = mx + b where m and b are calculated using\n",
    "the following formulas:\n",
    "    \n",
    "   $$m=\\frac{\\sum xy - \\frac{(\\sum x) (\\sum y)}{n}}{\\sum x^{2}-\\frac{(\\sum x)^{2}}{n}}$$\n",
    "    $$ b = \\bar{y}-m\\bar{x} $$\n",
    "    \n",
    "Write a program that reads a collection of points from the user. The user will enter\n",
    "the x part of the first coordinate on its own line, followed by the y part of the first\n",
    "coordinate on its own line. Allow the user to continue entering coordinates, with the\n",
    "x and y parts each entered on their own line, until your program reads a blank line for\n",
    "the x coordinate. Display the formula for the line of best fit in the form y = mx + b\n",
    "by replacing m and b with the values you calculated using the preceding formulas.\n",
    "For example, if the user inputs the coordinates (1, 1), (2, 2.1) and (3, 2.9) then your\n",
    "program should display y = 0.95x + 0.1."
   ]
  },
  {
   "cell_type": "code",
   "execution_count": null,
   "metadata": {},
   "outputs": [],
   "source": []
  },
  {
   "cell_type": "markdown",
   "metadata": {},
   "source": [
    "### Exercise 118: Shuffling a Deck of Cards\n",
    "    \n",
    "A standard deck of playing cards contains 52 cards. Each card has one of four suits\n",
    "along with a value. The suits are normally spades, hearts, diamonds and clubs while\n",
    "the values are 2 through 10, Jack, Queen, King and Ace.\n",
    "Each playing card can be represented using two characters. The first character is\n",
    "the value of the card, with the values 2 through 9 being represented directly. The\n",
    "characters “T”, “J”, “Q”, “K” and “A” are used to represent the values 10, Jack,\n",
    "Queen, King and Ace respectively. The second character is used to represent the suit\n",
    "of the card. It is normally a lowercase letter: “s” for spades, “h” for hearts, “d” for\n",
    "diamonds and “c” for clubs. The following table provides several examples of cards\n",
    "and their two-character representations.\n",
    "\n",
    "<html>\n",
    "    <body>\n",
    "<table border=2>\n",
    "    <tr>\n",
    "        <td>Card</td>\n",
    "        <td>Abbreviation</td>\n",
    "    </tr>\n",
    "    <tr>\n",
    "        <td>Jack of spades</td>\n",
    "        <td>JS</td>\n",
    "    </tr>\n",
    "    <tr>\n",
    "        <td>Two of clubs</td>\n",
    "        <td>2c</td>\n",
    "    </tr>\n",
    "    <tr>\n",
    "        <td>Ten of diamonds</td>\n",
    "        <td>Td</td>\n",
    "    </tr>\n",
    "    <tr>\n",
    "        <td>Ace of hearts</td>\n",
    "        <td>Ah</td>\n",
    "    </tr>\n",
    "    <tr>\n",
    "        <td>Nine of spades</td>\n",
    "        <td>9s</td>\n",
    "    </tr>\n",
    "</table>\n",
    "    </body>\n",
    "</html>\n",
    "Begin by writing a function named createDeck. It will use loops to create a\n",
    "complete deck of cards by storing the two-character abbreviations for all 52 cards\n",
    "into a list. Return the list of cards as the function’s only result. Your function will\n",
    "not take any parameters. Write a second function named shuffle that randomizes the order of the cards\n",
    "in a list. One technique that can be used to shuffle the cards is to visit each element\n",
    "in the list and swap it with another random element in the list. You must write your\n",
    "own loop for shuffling the cards. You cannot make use of Python’s built-in shuffle\n",
    "function.\n",
    "Use both of the functions described in the previous paragraphs to create a main\n",
    "program that displays a deck of cards before and after it has been shuffled. Ensure\n",
    "that your main program only runs when your functions have not been imported into\n",
    "another file."
   ]
  },
  {
   "cell_type": "code",
   "execution_count": null,
   "metadata": {},
   "outputs": [],
   "source": []
  },
  {
   "cell_type": "markdown",
   "metadata": {},
   "source": [
    "### Exercise 119: Dealing Hands of Cards\n",
    "\n",
    "In many card games each player is dealt a specific number of cards after the deck\n",
    "has been shuffled. Write a function, deal, which takes the number of hands, the\n",
    "number of cards per hand, and a deck of cards as its three parameters. Your function\n",
    "should return a list containing all of the hands that were dealt. Each hand will be\n",
    "represented as a list of cards.\n",
    "When dealing the hands, your function should modify the deck of cards passed\n",
    "to it as a parameter, removing each card from the deck as it is added to a player’s\n",
    "hand. When cards are dealt, it is customary to give each player a card before any\n",
    "player receives an additional card. Your function should follow this custom when\n",
    "constructing the hands for the players.\n",
    "Use your solution to Exercise 118 to help you construct a main program that\n",
    "creates and shuffles a deck of cards, and then deals out four hands of five cards each.\n",
    "Display all of the hands of cards, along with the cards remaining in the deck after\n",
    "the hands have been dealt."
   ]
  },
  {
   "cell_type": "code",
   "execution_count": null,
   "metadata": {},
   "outputs": [],
   "source": []
  },
  {
   "cell_type": "markdown",
   "metadata": {},
   "source": [
    "### Exercise 120: Is a List already in Sorted Order?\n",
    "\n",
    "Write a function that determines whether or not a list of values is in sorted order\n",
    "(either ascending or descending). The function should return True if the list is\n",
    "already sorted. Otherwise it should return False. Write a main program that reads\n",
    "a list of numbers from the user and then uses your function to report whether or not\n",
    "the list is sorted.\n",
    "Make sure you consider these questions when completing this exercise: Is a\n",
    "list that is empty in sorted order? What about a list containing one element?"
   ]
  },
  {
   "cell_type": "code",
   "execution_count": null,
   "metadata": {},
   "outputs": [],
   "source": []
  },
  {
   "cell_type": "markdown",
   "metadata": {},
   "source": [
    "### Exercise 121: Count the Elements\n",
    "\n",
    "Python’s standard library includes a method named count that determines how\n",
    "many times a specific value occurs in a list. In this exercise, you will create a new\n",
    "function named countRange which determines and returns the number of elements\n",
    "within a list that are greater than or equal to some minimum value and less than some\n",
    "maximum value. Your function will take three parameters: the list, the minimum\n",
    "value and the maximum value. It will return an integer result greater than or equal to\n",
    "0. Include a main program that demonstrates your function for several different lists,\n",
    "minimum values and maximum values. Ensure that your program works correctly\n",
    "for both lists of integers and lists of floating point numbers."
   ]
  },
  {
   "cell_type": "code",
   "execution_count": null,
   "metadata": {},
   "outputs": [],
   "source": []
  },
  {
   "cell_type": "markdown",
   "metadata": {},
   "source": [
    "### Exercise 122: Tokenizing a String\n",
    "\n",
    "Tokenizing is the process of converting a string into a list of substrings, known as\n",
    "tokens. In many circumstances, a list of tokens is far easier to work with than the\n",
    "original string because the original string may have irregular spacing. In some cases\n",
    "substantial work is also required to determine where one token ends and the next one\n",
    "begins.\n",
    "In a mathematical expression, tokens are items such as operators, numbers and\n",
    "parentheses. Some tokens, such as *, /, ˆ, ( and ) are easy to identify because the\n",
    "token is a single character, and the character is never part of another token. The + and\n",
    "- symbols are a little bit more challenging to handle because they might represent\n",
    "the addition or subtraction operator, or they might be part of a number token.\n",
    "Hint: A + or - is an operator if the non-whitespace character immediately\n",
    "before it is part of a number, or if the non-whitespace character immediately\n",
    "before it is a close parenthesis. Otherwise it is part of a number.\n",
    "Write a function that takes a string containing a mathematical expression as its\n",
    "only parameter and breaks it into a list of tokens. Each token should be a parenthesis,\n",
    "an operator, or a number with an optional leading + or - (for simplicity we will\n",
    "only work with integers in this problem). Return the list of tokens as the function’s\n",
    "result.\n",
    "You may assume that the string passed to your function always contains a valid\n",
    "mathematical expression consisting of parentheses, operators and integers. However, your function must handle variable amounts of whitespace between these\n",
    "elements. Include a main program that demonstrates your tokenizing function by\n",
    "reading an expression from the user and printing the list of tokens. Ensure that the main program will not run when the file containing your solution is imported into\n",
    "another program."
   ]
  },
  {
   "cell_type": "code",
   "execution_count": null,
   "metadata": {},
   "outputs": [],
   "source": []
  },
  {
   "cell_type": "markdown",
   "metadata": {},
   "source": [
    "### Exercise 123: Infix to Postfix\n",
    "\n",
    "Mathematical expressions are often written in infix form, where operators appear\n",
    "between the operands on which they act. While this is a common form, it is also\n",
    "possible to express mathematical expressions in postfix form, where the operator\n",
    "appears after both operands. For example, the infix expression 3+4 is written as\n",
    "34+ in postfix form. One can convert an infix expression to postfix form using\n",
    "the following algorithm:\n",
    "    \n",
    "<img src=\"image/123.png\">\n",
    "Use your solution to Exercise 122 to tokenize a mathematical expression. Then\n",
    "use the algorithm above to transform the expression from infix form to postfix form.\n",
    "Your code that implements the preceding algorithm should reside in a function that\n",
    "takes a list of tokens representing an infix expression as its only parameter. It should\n",
    "return a list of tokens representing the equivalent postfix expression as its only result.\n",
    "Include a main program that demonstrates your infix to postfix function by reading\n",
    "an expression from the user in infix form and displaying it in postfix form. The purpose of converting from infix form to postfix form will become apparent\n",
    "when you read Exercise 124. You may find your solutions to Exercises 90 and 91\n",
    "helpful when completing this problem.\n",
    "The algorithms provided in Exercises 123 and 124 do not perform any error\n",
    "checking. As a result, you may crash your program or receive incorrect results\n",
    "if you provide them with invalid input. These algorithms can be extended to\n",
    "detect invalid input and respond to it in a reasonable manner. Doing so is left\n",
    "as an independent study exercise for the interested student."
   ]
  },
  {
   "cell_type": "code",
   "execution_count": null,
   "metadata": {},
   "outputs": [],
   "source": []
  },
  {
   "cell_type": "markdown",
   "metadata": {},
   "source": [
    "### Exercise 124: Evaluate Postfix\n",
    "\n",
    "Evaluating a postfix expression is easier than evaluating an infix expression because it\n",
    "does not contain any brackets and there are no operator precedence rules to consider.\n",
    "A postfix expression can be evaluated using the following algorithm:\n",
    "    \n",
    "<img src=\"image/124.png\">    \n",
    "    \n",
    "Write a program that reads a mathematical expression in infix form from the user,\n",
    "evaluates it, and displays its value. Uses your solutions to Exercises 122 and 123\n",
    "along with the algorithm shown above to solve this problem."
   ]
  },
  {
   "cell_type": "code",
   "execution_count": null,
   "metadata": {},
   "outputs": [],
   "source": []
  },
  {
   "cell_type": "markdown",
   "metadata": {},
   "source": [
    "### Exercise 125: Does a List contain a Sublist?\n",
    "\n",
    "A sublist is a list that makes up part of a larger list. A sublist may be a list containing\n",
    "a single element, multiple elements, or even no elements at all. For example, [1],\n",
    "[2], [3] and [4] are all sublists of [1, 2, 3, 4]. The list [2, 3] is also a sublist of [1, 2, 3, 4], but [2, 4] is not a sublist [1, 2, 3, 4] because\n",
    "the elements 2 and 4 are not adjacent in the longer list. The empty list is a sublist of\n",
    "any list. As a result, [] is a sublist of [1, 2, 3, 4]. A list is a sublist of itself,\n",
    "meaning that [1, 2, 3, 4] is also a sublist of [1, 2, 3, 4].\n",
    "In this exercise you will create a function, isSublist, that determines whether\n",
    "or not one list is a sublist of another. Your function should take two lists, larger\n",
    "and smaller, as its only parameters. It should return True if and only if smaller\n",
    "is a sublist of larger. Write a main program that demonstrates your function."
   ]
  },
  {
   "cell_type": "code",
   "execution_count": null,
   "metadata": {},
   "outputs": [],
   "source": []
  },
  {
   "cell_type": "markdown",
   "metadata": {},
   "source": [
    "### Exercise 126: Generate All Sublists of a List\n",
    "\n",
    "Using the definition of a sublist from Exercise 125, write a function that returns a list\n",
    "containing every possible sublist of a list. For example, the sublists of [1, 2, 3]\n",
    "are [], [1], [2], [3], [1, 2], [2, 3] and [1, 2, 3]. Note that your function will always return a list containing at least the empty list because the empty list\n",
    "is a sublist of every list. Include a main program that demonstrate your function by\n",
    "displaying all of the sublists of several different lists."
   ]
  },
  {
   "cell_type": "code",
   "execution_count": null,
   "metadata": {},
   "outputs": [],
   "source": []
  },
  {
   "cell_type": "markdown",
   "metadata": {},
   "source": [
    "### Exercise 127: The Sieve of Eratosthenes\n",
    "\n",
    "The Sieve of Eratosthenes is a technique that was developed more than 2,000 years\n",
    "ago to easily find all of the prime numbers between 2 and some limit, say 100. A\n",
    "description of the algorithm follows:\n",
    "     <img src=\"image/127.png\">    \n",
    "The key to this algorithm is that it is relatively easy to cross out every nth number\n",
    "on a piece of paper. This is also an easy task for a computer—a for loop can simulate\n",
    "this behavior when a third parameter is provided to the range function. When a\n",
    "number is crossed out, we know that it is no longer prime, but it still occupies space on\n",
    "the piece of paper, and must still be considered when computing later prime numbers."
   ]
  },
  {
   "cell_type": "code",
   "execution_count": null,
   "metadata": {},
   "outputs": [],
   "source": []
  }
 ],
 "metadata": {
  "kernelspec": {
   "display_name": "Python 3",
   "language": "python",
   "name": "python3"
  },
  "language_info": {
   "codemirror_mode": {
    "name": "ipython",
    "version": 3
   },
   "file_extension": ".py",
   "mimetype": "text/x-python",
   "name": "python",
   "nbconvert_exporter": "python",
   "pygments_lexer": "ipython3",
   "version": "3.7.7"
  }
 },
 "nbformat": 4,
 "nbformat_minor": 4
}
