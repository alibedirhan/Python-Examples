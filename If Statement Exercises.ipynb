{
 "cells": [
  {
   "cell_type": "markdown",
   "metadata": {},
   "source": [
    "#### Exercise 34: Even or Odd?\n",
    "\n",
    "Write a program that reads an integer from the user. Then your program should\n",
    "display a message indicating whether the integer is even or odd."
   ]
  },
  {
   "cell_type": "code",
   "execution_count": null,
   "metadata": {},
   "outputs": [],
   "source": [
    "num = int(input(\"Please enter a number: \"))\n",
    "\n",
    "if num % 2 == 0:\n",
    "    print(\"This number is even\")\n",
    "else:\n",
    "    print(\"This number is odd\")"
   ]
  },
  {
   "cell_type": "markdown",
   "metadata": {},
   "source": [
    "#### Exercise 35: Dog Years\n",
    "\n",
    "It is commonly said that one human year is equivalent to 7 dog years. However this\n",
    "simple conversion fails to recognize that dogs reach adulthood in approximately two\n",
    "years. As a result, some people believe that it is better to count each of the first two\n",
    "human years as 10.5 dog years, and then count each additional human year as 4 dog\n",
    "years. Write a program that implements the conversion from human years to dog years\n",
    "described in the previous paragraph. Ensure that your program works correctly for\n",
    "conversions of less than two human years and for conversions of two or more human\n",
    "years. Your program should display an appropriate error message if the user enters\n",
    "a negative number."
   ]
  },
  {
   "cell_type": "code",
   "execution_count": null,
   "metadata": {},
   "outputs": [],
   "source": [
    "while True:\n",
    "    humanYearsOld = int(input(\"Please enter the age of a dog in human years: \"))\n",
    "\n",
    "    if humanYearsOld < 0 :\n",
    "        print(\"Please enter positive number\")\n",
    "        exit()\n",
    "\n",
    "    elif humanYearsOld <= 2:\n",
    "        dogyears = humanYearsOld * 10.5\n",
    "        print(\"dog {} years old.\".format(dogyears))\n",
    "    elif humanYearsOld > 2:\n",
    "        dogyears = 21 + (4 * ( humanYearsOld - 2))\n",
    "        print(\"dog {} years old.\".format(dogyears))\n",
    "    else:\n",
    "        print(\"Please enter different number\")\n",
    "    "
   ]
  },
  {
   "cell_type": "markdown",
   "metadata": {},
   "source": [
    "#### Exercise 36: Vowel or Consonant\n",
    "\n",
    "In this exercise you will create a program that reads a letter of the alphabet from the\n",
    "user. If the user enters <b> a, e, ı, i, o, ö, u, ü </b> then your program should display a message\n",
    "indicating that the entered letter is a vowel. If the user enters y then your program\n",
    "should display a message indicating that sometimes y is a vowel, and sometimes y is\n",
    "a consonant. Otherwise your program should display a message indicating that the\n",
    "letter is a consonant."
   ]
  },
  {
   "cell_type": "code",
   "execution_count": null,
   "metadata": {},
   "outputs": [],
   "source": [
    "while True:  \n",
    "    letter = input(\"Please enter a letter: \").lower() #The string lower() method converts all uppercase characters in a string into lowercase characters and returns it\n",
    "                                                      #The syntax of lower() method is: string.lower()\n",
    "    if letter in \"aeıioöuü\":\n",
    "        print(\"vowel\")\n",
    "    else:\n",
    "        print(\"consonant\")"
   ]
  },
  {
   "cell_type": "markdown",
   "metadata": {},
   "source": [
    "#### Exercise 37: Name that Shape\n",
    "\n",
    "Write a program that determines the name of a shape from its number of sides. Read\n",
    "the number of sides from the user and then report the appropriate name as part of\n",
    "a meaningful message. Your program should support shapes with anywhere from 3\n",
    "up to (and including) 10 sides. If a number of sides outside of this range is entered\n",
    "then your program should display an appropriate error message."
   ]
  },
  {
   "cell_type": "code",
   "execution_count": null,
   "metadata": {},
   "outputs": [],
   "source": [
    "while True:  \n",
    "    side = int(input(\"Please enter the number of sides: \"))\n",
    "\n",
    "    if side == 3:\n",
    "        print(\"This is triangle\")\n",
    "    elif side == 4:\n",
    "        print(\"This is quadrilateral\")\n",
    "    elif side == 5:\n",
    "        print(\"This is pentagon\")\n",
    "    elif side == 6:\n",
    "        print(\"This is Hexagon\")\n",
    "    elif side == 7:\n",
    "        print(\"This is Heptagon\")\n",
    "    elif side == 8:\n",
    "        print(\"This is Octagon\")\n",
    "    elif side == 9:\n",
    "        print(\"This is Nonagon\")\n",
    "    elif side == 10:\n",
    "        print(\"This is Decagon\")\n",
    "    else:\n",
    "        print(\"Please enter a number between 3 and 10\")"
   ]
  },
  {
   "cell_type": "markdown",
   "metadata": {},
   "source": [
    "#### Exercise 38: Month Name to Number of Days\n",
    "\n",
    "The length of a month varies from 28 to 31 days. In this exercise you will create\n",
    "a program that reads the name of a month from the user as a string. Then your\n",
    "program should display the number of days in that month. Display “28 or 29 days”\n",
    "for February so that leap years are addressed."
   ]
  },
  {
   "cell_type": "code",
   "execution_count": null,
   "metadata": {},
   "outputs": [],
   "source": [
    "month = input(\"Please enter the name of a month: \").lower() #The string lower() method converts all uppercase characters in a string into lowercase characters and returns it\n",
    "                                                            #The syntax of lower() method is: string.lower()       \n",
    "if month == \"september\" or month == \"april\" or month == \"june\" or month == \"november\":\n",
    "\tprint(\"There are 30 days in this month.\")\n",
    "elif month == \"february\":\n",
    "\tprint(\"There are 28 or 29 days in this month.\")\n",
    "else:\n",
    "\tprint(\"There are 31 days in this month.\")"
   ]
  },
  {
   "cell_type": "markdown",
   "metadata": {},
   "source": [
    "#### Exercise 39: Sound Levels\n",
    "\n",
    "The following table lists the sound level in decibels for several common noises.\n",
    "<html>\n",
    "    <body>\n",
    "<table border=2>\n",
    "    <tr>\n",
    "        <td>Noise</td>\n",
    "        <td>Decibel level (dB) </td>\n",
    "    </tr>\n",
    "    <tr>\n",
    "        <td>Jackhammer</td>\n",
    "        <td>130</td>\n",
    "    </tr>\n",
    "    <tr>\n",
    "        <td>Gas lawnmower</td>\n",
    "        <td>106</td>\n",
    "    </tr>\n",
    "    <tr>\n",
    "        <td>Alarm clock</td>\n",
    "        <td>70</td>\n",
    "    </tr>\n",
    "    <tr>\n",
    "        <td>Quiet room</td>\n",
    "        <td>40</td>\n",
    "    </tr>\n",
    "</table>\n",
    "    </body>\n",
    "</html>\n",
    "\n",
    "Write a program that reads a sound level in decibels from the user. If the user\n",
    "enters a decibel level that matches one of the noises in the table then your program\n",
    "should display a message containing only that noise. If the user enters a number\n",
    "of decibels between the noises listed then your program should display a message\n",
    "indicating which noises the level is between. Ensure that your program also generates\n",
    "reasonable output for a value smaller than the quietest noise in the table, and for a\n",
    "value larger than the loudest noise in the table."
   ]
  },
  {
   "cell_type": "code",
   "execution_count": null,
   "metadata": {},
   "outputs": [],
   "source": [
    "while True:    \n",
    "    decibellevel = int(input(\"Please enter the sound level from 130 to 40.: \"))\n",
    "\n",
    "    if decibellevel > 106 and decibellevel <= 130:\n",
    "        print(\"Jackhammer\")\n",
    "    elif decibellevel > 70 and decibellevel <=106:\n",
    "        print(\"Gas Lawnmower\")\n",
    "    elif decibellevel > 40 and decibellevel <=70:\n",
    "        print(\"Alarm clock\")\n",
    "    elif decibellevel > 0 and decibellevel <=40:\n",
    "        print(\"Quiet room\")\n",
    "    else:\n",
    "        print(\"please enter a defined range\")"
   ]
  },
  {
   "cell_type": "markdown",
   "metadata": {},
   "source": [
    "#### Exercise 40: Name that Triangle\n",
    "\n",
    "A triangle can be classified based on the lengths of its sides as equilateral, isosceles\n",
    "or scalene. All 3 sides of an equilateral triangle have the same length. An isosceles\n",
    "triangle has two sides that are the same length, and a third side that is a different\n",
    "length. If all of the sides have different lengths then the triangle is scalene.\n",
    "Write a program that reads the lengths of 3 sides of a triangle from the user.\n",
    "Display a message indicating the type of the triangle."
   ]
  },
  {
   "cell_type": "code",
   "execution_count": null,
   "metadata": {},
   "outputs": [],
   "source": [
    "a = s"
   ]
  }
 ],
 "metadata": {
  "kernelspec": {
   "display_name": "Python 3",
   "language": "python",
   "name": "python3"
  },
  "language_info": {
   "codemirror_mode": {
    "name": "ipython",
    "version": 3
   },
   "file_extension": ".py",
   "mimetype": "text/x-python",
   "name": "python",
   "nbconvert_exporter": "python",
   "pygments_lexer": "ipython3",
   "version": "3.7.7"
  }
 },
 "nbformat": 4,
 "nbformat_minor": 4
}
