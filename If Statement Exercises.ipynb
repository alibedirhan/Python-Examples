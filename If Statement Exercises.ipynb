{
 "cells": [
  {
   "cell_type": "markdown",
   "metadata": {},
   "source": [
    "#### Exercise 34: Even or Odd?\n",
    "\n",
    "Write a program that reads an integer from the user. Then your program should\n",
    "display a message indicating whether the integer is even or odd."
   ]
  },
  {
   "cell_type": "code",
   "execution_count": null,
   "metadata": {},
   "outputs": [],
   "source": [
    "while True:\n",
    "    num = int(input(\"Please enter a number: \"))\n",
    "\n",
    "    if num % 2 == 0:\n",
    "        print(\"This number is even\")\n",
    "    else:\n",
    "        print(\"This number is odd\")"
   ]
  },
  {
   "cell_type": "markdown",
   "metadata": {},
   "source": [
    "#### Exercise 35: Dog Years\n",
    "\n",
    "It is commonly said that one human year is equivalent to 7 dog years. However this\n",
    "simple conversion fails to recognize that dogs reach adulthood in approximately two\n",
    "years. As a result, some people believe that it is better to count each of the first two\n",
    "human years as 10.5 dog years, and then count each additional human year as 4 dog\n",
    "years. Write a program that implements the conversion from human years to dog years\n",
    "described in the previous paragraph. Ensure that your program works correctly for\n",
    "conversions of less than two human years and for conversions of two or more human\n",
    "years. Your program should display an appropriate error message if the user enters\n",
    "a negative number."
   ]
  },
  {
   "cell_type": "code",
   "execution_count": null,
   "metadata": {},
   "outputs": [],
   "source": [
    "while True:\n",
    "    humanYearsOld = int(input(\"Please enter the age of a dog in human years: \"))\n",
    "\n",
    "    if humanYearsOld < 0 :\n",
    "        print(\"Please enter positive number\")\n",
    "        exit()\n",
    "\n",
    "    elif humanYearsOld <= 2:\n",
    "        dogyears = humanYearsOld * 10.5\n",
    "        print(\"dog {} years old.\".format(dogyears))\n",
    "    elif humanYearsOld > 2:\n",
    "        dogyears = 21 + (4 * ( humanYearsOld - 2))\n",
    "        print(\"dog {} years old.\".format(dogyears))\n",
    "    else:\n",
    "        print(\"Please enter different number\")\n",
    "    "
   ]
  },
  {
   "cell_type": "markdown",
   "metadata": {},
   "source": [
    "#### Exercise 36: Vowel or Consonant\n",
    "\n",
    "In this exercise you will create a program that reads a letter of the alphabet from the\n",
    "user. If the user enters a, e, i, o or u then your program should display a message\n",
    "indicating that the entered letter is a vowel. If the user enters y then your program\n",
    "should display a message indicating that sometimes y is a vowel, and sometimes y is\n",
    "a consonant. Otherwise your program should display a message indicating that the\n",
    "letter is a consonant."
   ]
  },
  {
   "cell_type": "code",
   "execution_count": null,
   "metadata": {},
   "outputs": [],
   "source": [
    "while True:  \n",
    "    letter = str(input(\"Please enter a letter: \"))\n",
    "\n",
    "    if letter in \"aeıioöuü\":\n",
    "        print(\"vowel\")\n",
    "    else:\n",
    "        print(\"consonant\")\n"
   ]
  },
  {
   "cell_type": "markdown",
   "metadata": {},
   "source": [
    "#### Exercise 37: Name that Shape\n",
    "\n",
    "Write a program that determines the name of a shape from its number of sides. Read\n",
    "the number of sides from the user and then report the appropriate name as part of\n",
    "a meaningful message. Your program should support shapes with anywhere from 3\n",
    "up to (and including) 10 sides. If a number of sides outside of this range is entered\n",
    "then your program should display an appropriate error message."
   ]
  },
  {
   "cell_type": "code",
   "execution_count": null,
   "metadata": {},
   "outputs": [],
   "source": [
    "while True:  \n",
    "    side = int(input(\"Please enter the number of sides: \"))\n",
    "\n",
    "    if side == 3:\n",
    "        print(\"This is triangle\")\n",
    "    elif side == 4:\n",
    "        print(\"This is quadrilateral\")\n",
    "    elif side == 5:\n",
    "        print(\"This is pentagon\")\n",
    "    elif side == 6:\n",
    "        print(\"This is Hexagon\")\n",
    "    elif side == 7:\n",
    "        print(\"This is Heptagon\")\n",
    "    elif side == 8:\n",
    "        print(\"This is Octagon\")\n",
    "    elif side == 9:\n",
    "        print(\"This is Nonagon\")\n",
    "    elif side == 10:\n",
    "        print(\"This is Decagon\")\n",
    "    else:\n",
    "        print(\"Please enter a number between 3 and 10\")"
   ]
  },
  {
   "cell_type": "code",
   "execution_count": null,
   "metadata": {},
   "outputs": [],
   "source": []
  }
 ],
 "metadata": {
  "kernelspec": {
   "display_name": "Python 3",
   "language": "python",
   "name": "python3"
  },
  "language_info": {
   "codemirror_mode": {
    "name": "ipython",
    "version": 3
   },
   "file_extension": ".py",
   "mimetype": "text/x-python",
   "name": "python",
   "nbconvert_exporter": "python",
   "pygments_lexer": "ipython3",
   "version": "3.7.7"
  }
 },
 "nbformat": 4,
 "nbformat_minor": 4
}
