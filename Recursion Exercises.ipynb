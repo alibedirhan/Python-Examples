{
 "cells": [
  {
   "cell_type": "markdown",
   "metadata": {},
   "source": [
    "### Exercise 164: Total the Values\n",
    "\n",
    "Write a program that reads values from the user until a blank line is entered. Display\n",
    "the total of all of the values entered by the user (or 0.0 if the first value entered is\n",
    "a blank line). Complete this task using recursion. Your program may not use any\n",
    "loops.\n",
    "Hint: The body of your recursive function will need to read one value from\n",
    "the user, and then determine whether or not to make a recursive call. Your\n",
    "function does not need to take any parameters, but it will need to return a\n",
    "numeric result."
   ]
  },
  {
   "cell_type": "code",
   "execution_count": null,
   "metadata": {},
   "outputs": [],
   "source": []
  },
  {
   "cell_type": "markdown",
   "metadata": {},
   "source": [
    "### Exercise 165: Greatest Common Divisor\n",
    "\n",
    "Euclid was a Greek mathematician who lived approximately 2,300 years ago. His\n",
    "algorithm for computing the greatest common divisor of two positive integers, a and\n",
    "b, is both efficient and recursive. It is outlined below:\n",
    "    \n",
    "<img src=\"image/165.png\" />\n",
    "    \n",
    "Write a program that implements Euclid’s algorithm and uses it to determine the\n",
    "greatest common divisor of two integers entered by the user."
   ]
  },
  {
   "cell_type": "code",
   "execution_count": null,
   "metadata": {},
   "outputs": [],
   "source": [
    "if(a == 0):\n",
    "    return a;\n",
    "\n",
    "while b != 0:\n",
    "    if(a > b):\n",
    "        a -= b;\n",
    "    else:\n",
    "        b -= a;\n",
    "return a;\n",
    "\n",
    "def main():\n",
    "    GCD = int(input(\"Enter two values: \"))\n",
    "    print(\"GCD\", a, \",\", b, \"is : \", GCD)\n",
    "    return 0"
   ]
  },
  {
   "cell_type": "markdown",
   "metadata": {},
   "source": [
    "### Exercise 166: Recursive Decimal to Binary\n",
    "\n",
    "In Exercise 78 you wrote a program that used a loop to convert a decimal number\n",
    "to its binary representation. In this exercise you will perform the same task using\n",
    "recursion.\n",
    "Write a recursive function that converts a non-negative decimal number to binary.\n",
    "Treat 0 and 1 as base cases which return a string containing the appropriate digit. For\n",
    "all other positive integers, n, you should compute the next digit using the remainder\n",
    "operator and then make a recursive call to compute the digits of n // 2. Finally, you\n",
    "should concatenate the result of the recursive call (which will be a string) and the\n",
    "next digit (which you will need to convert to a string) and return this string as the\n",
    "result of the function.\n",
    "Write a main program that uses your recursive function to convert a non-negative\n",
    "integer entered by the user from decimal to binary. Your program should display an\n",
    "appropriate error message if the user enters a negative value."
   ]
  },
  {
   "cell_type": "code",
   "execution_count": null,
   "metadata": {},
   "outputs": [],
   "source": []
  },
  {
   "cell_type": "markdown",
   "metadata": {},
   "source": [
    "### Exercise 167: Recursive Palindrome\n",
    "\n",
    "The notion of a palindrome was introduced previously in Exercise 72. In this exercise you will write a recursive function that determines whether or not a string is\n",
    "a palindrome. The empty string is a palindrome, as is any string containing only one character. Any longer string is a palindrome if its first and last characters\n",
    "match, and if the string formed by removing the first and last characters is also\n",
    "a palindrome.\n",
    "Write a main program that reads a string from the user. Use your recursive function\n",
    "to determine whether or not the string is a palindrome. Then display an appropriate\n",
    "message for the user."
   ]
  },
  {
   "cell_type": "code",
   "execution_count": null,
   "metadata": {},
   "outputs": [],
   "source": []
  },
  {
   "cell_type": "markdown",
   "metadata": {},
   "source": [
    "### Exercise 168: Recursive Square Root\n",
    "\n",
    "Exercise 71 explored how iteration can be used to compute the square root of a\n",
    "number. In that exercise a better approximation of the square root was generated with\n",
    "each additional iteration of a loop. In this exercise you will use the same approximation strategy, but you will use recursion instead of iteration.\n",
    "Create a square root function that takes two parameters. The first parameter, n, will\n",
    "be the number for which the square root is being computed. The second parameter,\n",
    "guess, will be the current guess for the square root. The guess parameter should have\n",
    "a default value of 1.0. Do not provide a default value for the first parameter.\n",
    "Your square root function will be recursive. The base case occurs when guess2 is\n",
    "within 10^12 of n. In this case your function should return guess because it is close\n",
    "enough to the square root of n. Otherwise your function should return the result of\n",
    "calling itself recursively with n as the first parameter and guess+ n\n",
    "guess\n",
    "2 as the second\n",
    "parameter.\n",
    "Write a main program that demonstrate your square root function by computing\n",
    "the square root of several different values. When you call your square root function\n",
    "from the main program you should only pass one parameter to it so that the default\n",
    "value for guess is used."
   ]
  },
  {
   "cell_type": "code",
   "execution_count": null,
   "metadata": {},
   "outputs": [],
   "source": [
    "latex kullan"
   ]
  },
  {
   "cell_type": "markdown",
   "metadata": {},
   "source": [
    "### Exercise 169: String Edit Distance\n",
    "\n",
    "The edit distance between two strings is a measure of their similarity—the smaller the\n",
    "edit distance, the more similar the strings are with regard to the minimum number of\n",
    "insert, delete and substitute operations needed to transform one string into the other.\n",
    "Consider the strings kitten and sitting. The first string can be transformed\n",
    "into the second string with the following operations: Substitute the k with an s,\n",
    "substitute the e with an i, and insert a g at the end of the string. This is the smallest\n",
    "number of operations that can be performed to transform kitten into sitting.\n",
    "As a result, the edit distance is 3.\n",
    "Write a recursive function that computes the edit distance between two strings.\n",
    "Use the following algorithm:\n",
    "    \n",
    "<img src=\"image/169.png\" />  \n",
    "    \n",
    "Use your recursive function to write a program that reads two strings from the\n",
    "user and displays the edit distance between them."
   ]
  },
  {
   "cell_type": "code",
   "execution_count": null,
   "metadata": {},
   "outputs": [],
   "source": []
  },
  {
   "cell_type": "markdown",
   "metadata": {},
   "source": [
    "### Exercise 170: Possible Change\n",
    "\n",
    "Create a program that determines whether or not it is possible to construct a particular\n",
    "total using a specific number of coins. For example, it is possible to have a total of\n",
    "\\\\$1.00 using four coins if they are all quarters. However, there is no way to have a\n",
    "total of \\\\$1.00 using 5 coins. Yet it is possible to have \\\\$1.00 using 6 coins by using\n",
    "3 quarters, 2 dimes and a nickel. Similarly, a total of \\\\$1.25 can be formed using 5\n",
    "coins or 8 coins, but a total of \\\\$1.25 can not be formed using 4, 6 or 7 coins.\n",
    "Your program should read both the dollar amount and the number of coins from\n",
    "the user. It should display a clear message indicating whether or not the entered dollar\n",
    "amount can be formed using the number of coins indicated. Assume the existence of\n",
    "quarters, dimes, nickels and pennies when completing this problem. Your solution\n",
    "must use recursion. It can not contain any loops."
   ]
  },
  {
   "cell_type": "code",
   "execution_count": null,
   "metadata": {},
   "outputs": [],
   "source": []
  },
  {
   "cell_type": "markdown",
   "metadata": {},
   "source": [
    "### Exercise 170: Possible Change\n",
    "\n",
    "Create a program that determines whether or not it is possible to construct a particular\n",
    "total using a specific number of coins. For example, it is possible to have a total of\n",
    "\\\\$1.00 using four coins if they are all quarters. However, there is no way to have a\n",
    "total of \\\\$1.00 using 5 coins. Yet it is possible to have \\\\$1.00 using 6 coins by using\n",
    "3 quarters, 2 dimes and a nickel. Similarly, a total of $1.25 can be formed using 5\n",
    "coins or 8 coins, but a total of \\\\$1.25 can not be formed using 4, 6 or 7 coins.\n",
    "Your program should read both the dollar amount and the number of coins from\n",
    "the user. It should display a clear message indicating whether or not the entered dollar\n",
    "amount can be formed using the number of coins indicated. Assume the existence of\n",
    "quarters, dimes, nickels and pennies when completing this problem. Your solution\n",
    "must use recursion. It can not contain any loops. the symbols Si, Li, C, O and N. However, hydrogen can not be spelled with any\n",
    "combination of element symbols.\n",
    "Write a recursive function that determines whether or not a word can be spelled\n",
    "using only element symbols. Your function will take two parameters: the word that\n",
    "you are trying to spell and a list of the symbols that can be used. Your function will\n",
    "return two results: a Boolean value indicating whether or not a spelling was found,\n",
    "and the string of symbols used to achieve the spelling (or an empty string if no spelling\n",
    "exists). Your function should ignore capitalization when searching for a spelling.\n",
    "Create a program that uses your function to find and display all of the element\n",
    "names that can be spelled using only element symbols. Display the names of the elements along with the sequences of symbols. For example, one line of your output\n",
    "will be:\n",
    "Silver can be spelled as SiLvEr\n",
    "Your program will use the elements data set, which can be downloaded from the\n",
    "author’s website. This data set includes the names and symbols of all 118 chemical\n",
    "elements."
   ]
  },
  {
   "cell_type": "code",
   "execution_count": null,
   "metadata": {},
   "outputs": [],
   "source": []
  },
  {
   "cell_type": "markdown",
   "metadata": {},
   "source": [
    "### Exercise 172: Element Sequences\n",
    "\n",
    "Another game that some people play with the names of chemical elements involves\n",
    "constructing a sequence of elements where each element in the sequence begins with\n",
    "the last letter of its predecessor. For example, if a sequence begins with Hydrogen,\n",
    "then the next element must be an element that begins with N, such as Nickel. The\n",
    "element following Nickel must begin with L, such as Lithium. The element sequence\n",
    "that is constructed can not contain any duplicates.\n",
    "Write a program that reads the name of an element from the user. Your program\n",
    "should use a recursive function to find the longest sequence of elements that begins\n",
    "with the entered element. Then it should display the sequence. Ensure that your\n",
    "program responds in a reasonable way if the user does not enter a valid element name.\n",
    "Hint: It may take your program up to two minutes to find the longest sequence\n",
    "for some elements. As a result, you might want to use elements like Molybdenum and Magnesium as your first test cases. Each has a longest sequence\n",
    "that is only 8 elements long which your program should find in a fraction of a\n",
    "second."
   ]
  },
  {
   "cell_type": "code",
   "execution_count": null,
   "metadata": {},
   "outputs": [],
   "source": []
  },
  {
   "cell_type": "markdown",
   "metadata": {},
   "source": [
    "### Exercise 173: Run-Length Decoding\n",
    "\n",
    "Run-length encoding is a simple data compression technique that can be effective when repeated values occur at adjacent positions within a list. Compression is achieved by replacing groups of repeated values with one copy of the value, followed\n",
    "by the number of times that the value should be repeated. For example, the list [\"A\",\n",
    "\"A\", \"A\", \"A\", \"A\", \"A\", \"A\", \"A\", \"A\", \"A\", \"A\", \"A\", \"B\", \"B\",\n",
    "\"B\", \"B\", \"A\", \"A\", \"A\", \"A\", \"A\", \"A\", \"B\"] would be compressed\n",
    "as [\"A\", 12, \"B\", 4, \"A\", 6, \"B\", 1]. Decompression is performed by\n",
    "replicating each value in the list the number of times indicated.\n",
    "Write a recursive function that decompresses a run-length encoded list. Your\n",
    "recursive function will take a run-length compressed list as its only parameter. It will\n",
    "return the decompressed list as its only result. Create a main program that displays\n",
    "a run-length encoded list and the result of decoding it."
   ]
  },
  {
   "cell_type": "code",
   "execution_count": null,
   "metadata": {},
   "outputs": [],
   "source": []
  },
  {
   "cell_type": "markdown",
   "metadata": {},
   "source": [
    "### Exercise 174: Run-Length Encoding\n",
    "\n",
    "Write a recursive function that implements the run-length compression technique\n",
    "described in Exercise 173. Your function will take a list or a string as its only parameter. It should return the run-length compressed list as its only result. Include a main\n",
    "program that reads a string from the user, compresses it, and displays the run-length\n",
    "encoded result.\n",
    "Hint: You may want to include a loop inside the body of your recursive function."
   ]
  },
  {
   "cell_type": "code",
   "execution_count": null,
   "metadata": {},
   "outputs": [],
   "source": []
  }
 ],
 "metadata": {
  "kernelspec": {
   "display_name": "Python 3",
   "language": "python",
   "name": "python3"
  },
  "language_info": {
   "codemirror_mode": {
    "name": "ipython",
    "version": 3
   },
   "file_extension": ".py",
   "mimetype": "text/x-python",
   "name": "python",
   "nbconvert_exporter": "python",
   "pygments_lexer": "ipython3",
   "version": "3.7.7"
  }
 },
 "nbformat": 4,
 "nbformat_minor": 4
}
