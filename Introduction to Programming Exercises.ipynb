{
 "cells": [
  {
   "cell_type": "markdown",
   "metadata": {},
   "source": [
    "### The Python Workbook"
   ]
  },
  {
   "cell_type": "markdown",
   "metadata": {},
   "source": [
    "#### Exercise 1 : Mailing adress\n",
    "\n",
    "Create a program that display your name and complate mailing address formatted in the manner that you would usually seet it on the outside of an envelope. Your program does not need to read any input"
   ]
  },
  {
   "cell_type": "code",
   "execution_count": 1,
   "metadata": {},
   "outputs": [
    {
     "name": "stdout",
     "output_type": "stream",
     "text": [
      "Name:  Ali Bedirhan \n",
      "Surname:  DURSUN \n",
      "Phone Number: 05555555555 \t\tE-Mail: alibedirhan.d@gmail.com\n"
     ]
    }
   ],
   "source": [
    "name = \"Ali Bedirhan\"\n",
    "surname = \"DURSUN\"\n",
    "phone_number = \"05555555555\"\n",
    "email = \"alibedirhan.d@gmail.com\"\n",
    "\n",
    "print(\"Name: \", name,\"\\nSurname: \", surname,\"\\nPhone Number:\" ,phone_number, \"\\t\\tE-Mail:\" ,email)"
   ]
  },
  {
   "cell_type": "markdown",
   "metadata": {},
   "source": [
    "#### Exercise 2 : Hello\n",
    "\n",
    "Write a program that asks the user to enter his or her name. The program should\n",
    "respond with a message that says hello to the user, using his or her name."
   ]
  },
  {
   "cell_type": "code",
   "execution_count": null,
   "metadata": {},
   "outputs": [],
   "source": [
    "name = input(\"Please type in your name: \")\n",
    "print(\"Hello, {}.\".format(name))"
   ]
  },
  {
   "cell_type": "markdown",
   "metadata": {},
   "source": [
    "#### Exercise 3: Area of a Room\n",
    "\n",
    "Write a program that asks the user to enter the width and length of a room. Once\n",
    "the values have been read, your program should compute and display the area of the\n",
    "room. The length and the width will be entered as floating point numbers. Include\n",
    "units in your prompt and output message; either feet or meters, depending on which\n",
    "unit you are more comfortable working with."
   ]
  },
  {
   "cell_type": "code",
   "execution_count": null,
   "metadata": {},
   "outputs": [],
   "source": [
    "width = \"Enter your room width\"\n",
    "length = \"Enter your room length\"\n",
    "\n",
    "a = float(input(width))\n",
    "b = float(input(length))\n",
    "\n",
    "print(\"Width:\", a, \"Length\", b )\n",
    "\n",
    "area = a * b\n",
    "print(\"Your room area is : \" , area , \"meter square\")"
   ]
  },
  {
   "cell_type": "markdown",
   "metadata": {},
   "source": [
    "#### Exercise 4: Area of a Field\n",
    "\n",
    "Create a program that reads the length and width of a farmer’s field from the user in\n",
    "feet. Display the area of the field in acres."
   ]
  },
  {
   "cell_type": "code",
   "execution_count": null,
   "metadata": {},
   "outputs": [],
   "source": [
    "width = \"Enter the width of a farmer's: \"\n",
    "length = \"Enter the length of a farmer's: \"\n",
    "\n",
    "a = float(input(width))\n",
    "b = float(input(length))\n",
    "\n",
    "sqft_per_acres = 43560\n",
    "\n",
    "acres = (a * b) / sqft_per_acres\n",
    "\n",
    "print (\"Width :\", a, \"Length : \", b , \"\\nacres: \",acres, \"feet\")"
   ]
  },
  {
   "cell_type": "markdown",
   "metadata": {},
   "source": [
    "### Exercise 5: Bottle Deposits\n",
    "\n",
    "In many jurisdictions a small deposit is added to drink containers to encourage people\n",
    "to recycle them. In one particular jurisdiction, drink containers holding one liter or\n",
    "less have a 0.10 dollar deposit, and drink containers holding more than one liter have a\n",
    "0.25 dollar deposit.\n",
    "Write a program that reads the number of containers of each size from the user.\n",
    "Your program should continue by computing and displaying the refund that will be\n",
    "received for returning those containers. Format the output so that it includes a dollar\n",
    "sign and always displays exactly two decimal places."
   ]
  },
  {
   "cell_type": "code",
   "execution_count": null,
   "metadata": {},
   "outputs": [],
   "source": [
    "small_deposite = 0.10\n",
    "more_deposite = 0.25\n",
    "\n",
    "small = int(input(\"How many containers 1 litre or less do you have?: \"))\n",
    "more = int(input(\"How many containers more than 1 litre do you have?: \"))\n",
    "\n",
    "refund = float((small * small_deposite) + (more * more_deposite))\n",
    "\n",
    "print(\"Total refund will be $\", refund)"
   ]
  },
  {
   "cell_type": "markdown",
   "metadata": {},
   "source": [
    "#### Exercise 6: Tax and Tip\n",
    "\n",
    "The program that you create for this exercise will begin by reading the cost of a meal\n",
    "ordered at a restaurant from the user. Then your program will compute the tax and\n",
    "tip for the meal. Use your local tax rate when computing the amount of tax owing.\n",
    "Compute the tip as 18 percent of the meal amount (without the tax). The output from\n",
    "your program should include the tax amount, the tip amount, and the grand total for\n",
    "the meal including both the tax and the tip. Format the output so that all of the values\n",
    "are displayed using two decimal places."
   ]
  },
  {
   "cell_type": "code",
   "execution_count": null,
   "metadata": {},
   "outputs": [],
   "source": [
    "meal = \"pasta\"\n",
    "price_whithout_tax = 15.5\n",
    "tax = 5/100\n",
    "tip = price_whithout_tax * 18/100\n",
    "\n",
    "price = price_whithout_tax+tax + tip\n",
    "print (\"Your order:\\t\", meal , \"\\nTax:\" , tax, \"\\tTip: \", tip , \"\\nYour price: \\t\" , price)"
   ]
  },
  {
   "cell_type": "markdown",
   "metadata": {},
   "source": [
    "#### Exercise 7: Sum of the First n Positive Integers\n",
    "\n",
    "Write a program that reads a positive integer, n, from the user and then displays the\n",
    "sum of all of the integers from 1 to n. The sum of the first n positive integers can be\n",
    "computed using the formula:\n",
    "sum =\n",
    "(n)(n + 1)/\n",
    "2"
   ]
  },
  {
   "cell_type": "code",
   "execution_count": null,
   "metadata": {},
   "outputs": [],
   "source": [
    "a = int(input(\"Enter a positive integer: \"))\n",
    "\n",
    "s = (a*(a+1))/2\n",
    "\n",
    "print(\"Sum : \", s)"
   ]
  },
  {
   "cell_type": "markdown",
   "metadata": {},
   "source": [
    "#### Exercise 8: Widgets and Gizmos\n",
    "\n",
    "An online retailer sells two products: widgets and gizmos. Each widget weighs 75\n",
    "grams. Each gizmo weighs 112 grams. Write a program that reads the number of\n",
    "widgets and the number of gizmos in an order from the user. Then your program\n",
    "should compute and display the total weight of the order."
   ]
  },
  {
   "cell_type": "code",
   "execution_count": null,
   "metadata": {},
   "outputs": [],
   "source": [
    "widget_weight = 75\n",
    "gizmo_weight = 112\n",
    "\n",
    "widget = int(input(\"Enter your widget: \"))\n",
    "gizmo = int(input(\"Enter your gizmo: \"))\n",
    "\n",
    "widget_compute = widget * widget_weight\n",
    "gizmo_compute = gizmo * gizmo_weight\n",
    "\n",
    "print(\"widget: \" , widget_compute, \"gizmo\", gizmo_compute)\n",
    "total_weight = widget_compute + gizmo_compute\n",
    "print(\"Total weight: \", total_weight)"
   ]
  },
  {
   "cell_type": "markdown",
   "metadata": {},
   "source": [
    "#### Exercise 9: Compound Interest\n",
    "\n",
    "Pretend that you have just opened a new savings account that earns 4 percent interest\n",
    "per year. The interest that you earn is paid at the end of the year, and is added\n",
    "to the balance of the savings account. Write a program that begins by reading the\n",
    "amount of money deposited into the account from the user. Then your program should\n",
    "compute and display the amount in the savings account after 1, 2, and 3 years. Display\n",
    "each amount so that it is rounded to 2 decimal places."
   ]
  },
  {
   "cell_type": "code",
   "execution_count": null,
   "metadata": {},
   "outputs": [],
   "source": [
    "interest_per_year = 4/100\n",
    "\n",
    "start_year = 2020\n",
    "account_balance = int(input(\"Your balance do you have: \"))\n",
    "\n",
    "first_year = round(float(account_balance * interest_per_year))\n",
    "total_first_year = round(account_balance + first_year)\n",
    "print (\"Fist year balance: \", first_year, \"Total balance: \", total_first_year)\n",
    "\n",
    "second_year = round(float(total_first_year * interest_per_year))\n",
    "total_second_year = round(total_first_year + second_year)\n",
    "print(\"Second year balance: \", second_year,\"Total balance: \", total_second_year)\n",
    "\n",
    "third_year = round(float(total_second_year * interest_per_year))\n",
    "total_third_year = round(total_second_year + third_year)\n",
    "print(\"Third year balance\", third_year,\"Total balance: \", total_third_year)"
   ]
  },
  {
   "cell_type": "markdown",
   "metadata": {},
   "source": [
    "#### Exercise 10: Arithmetic\n",
    "\n",
    "Create a program that reads two integers, a and b, from the user. Your program should\n",
    "compute and display:\n",
    "• The sum of a and b\n",
    "• The difference when b is subtracted from a\n",
    "• The product of a and b\n",
    "• The quotient when a is divided by b\n",
    "• The remainder when a is divided by b\n",
    "• The result of log 10 a\n",
    "• The result of a b\n",
    "\n",
    "Hint: You will probably find the log10 function in the math module helpful\n",
    "for computing the second last item in the list."
   ]
  },
  {
   "cell_type": "code",
   "execution_count": null,
   "metadata": {},
   "outputs": [],
   "source": [
    "from math import log10\n",
    "\n",
    "a = int(input(\"Enter the fist number: \"))\n",
    "b = int(input(\"Enter the second number: \"))\n",
    "\n",
    "print(a, \"+\" , b, \"= \", a + b)\n",
    "print(a, \"-\", b, \"=\", a - b)\n",
    "print(a, \"*\", b , \"=\", a * b)\n",
    "print(a, \"/\", b, \"=\", a / b)\n",
    "print(a, \"%\", b, \"=\", a % b)\n",
    "print(a , \"=\", log10(a))\n",
    "print(a, \"^\", b, \"=\"  , a ** b)"
   ]
  },
  {
   "cell_type": "markdown",
   "metadata": {},
   "source": [
    "#### Exercise 11: Fuel Efficiency\n",
    "\n",
    "In the United States, fuel efficiency for vehicles is normally expressed in miles-per-\n",
    "gallon (MPG). In Canada, fuel efficiency is normally expressed in liters-per-hundred\n",
    "kilometers (L/100 km). Use your research skills to determine how to convert from\n",
    "MPG to L/100 km. Then create a program that reads a value from the user in American\n",
    "units and displays the equivalent fuel efficiency in Canadian units."
   ]
  },
  {
   "cell_type": "code",
   "execution_count": null,
   "metadata": {},
   "outputs": [],
   "source": [
    "gallon =  4.54609\n",
    "one_gallon = 65\n",
    "one_litre = 100\n",
    "one_mile = 1,609344\n",
    "\n",
    "MPG = float(input(\"How many Miles Per Gallon (MPG): \"))\n",
    "\n",
    "litresPer100 = 235.215 / MPG\n",
    "print(\"The L/100km is {}L\".format(litresPer100))"
   ]
  },
  {
   "cell_type": "markdown",
   "metadata": {},
   "source": [
    "#### Exercise 12: Distance Between Two Points on Earth\n",
    "\n",
    "The surface of the Earth is curved, and the distance between degrees of longitude\n",
    "varies with latitude. As a result, finding the distance between two points on the surface\n",
    "of the Earth is more complicated than simply using the Pythagorean theorem.\n",
    "Let (t 1 , g 1 ) and (t 2 , g 2 ) be the latitude and longitude of two points on the Earth’s\n",
    "surface. The distance between these points, following the surface of the Earth, in\n",
    "kilometers is: distance = 6371.01 × arccos(sin(t 1 ) × sin(t 2 ) + cos(t 1 ) × cos(t 2 ) × cos(g 1 − g 2 ))\n",
    "The value 6371.01 in the previous equation wasn’t selected at random. It is\n",
    "the average radius of the Earth in kilometers. Create a program that allows the user to enter the latitude and longitude of two\n",
    "points on the Earth in degrees. Your program should display the distance between\n",
    "the points, following the surface of the earth, in kilometers.\n",
    "\n",
    "Hint: Python’s trigonometric functions operate in radians. As a result, you will\n",
    "need to convert the user’s input from degrees to radians before computing the\n",
    "distance with the formula discussed previously. The math module contains a\n",
    "function named radians which converts from degrees to radians."
   ]
  },
  {
   "cell_type": "code",
   "execution_count": null,
   "metadata": {},
   "outputs": [],
   "source": [
    "import math\n",
    "\n",
    "t1 = float(input(\"Please enter the x value of a point on Earth in degrees: \"))\n",
    "t2 = float(input(\"Please enter the y value for that point on Earth in degrees: \"))\n",
    "\n",
    "g1 = float(input(\"Please enter the x value of a 2nd point on Earth in degrees: \"))\n",
    "g2 = float(input(\"Please enter the y value for that point on Earth in degrees: \"))\n",
    "\n",
    "distance = 6371.01 * math.acos(math.sin(math.radians(t1)) * math.sin(math.radians(g1)) + \\\n",
    "math.cos(math.radians(t1)) * math.cos(math.radians(g1)) * math.cos(math.radians(t2-g2)))\n",
    "\n",
    "print(\"The distance between these two points on Earth is {}km\".format(distance))"
   ]
  },
  {
   "cell_type": "markdown",
   "metadata": {},
   "source": [
    "#### Exercise 13: Making Change\n",
    "\n",
    "Consider the software that runs on a self-checkout machine. One task that it must be\n",
    "able to perform is to determine how much change to provide when the shopper pays\n",
    "for a purchase with cash.\n",
    "Write a program that begins by reading a number of cents from the user as an\n",
    "integer. Then your program should compute and display the denominations of the\n",
    "coins that should be used to give that amount of change to the shopper. The change\n",
    "should be given using as few coins as possible. Assume that the machine is loaded\n",
    "with pennies, nickels, dimes, quarters, loonies and toonies.\n",
    "A one dollar coin was introduced in Canada in 1987. It is referred to as a\n",
    "loonie because one side of the coin has a loon (a type of bird) on it. The two\n",
    "dollar coin, referred to as a toonie, was introduced 9 years later. It’s name is\n",
    "derived from the combination of the number two and the name of the loonie."
   ]
  },
  {
   "cell_type": "code",
   "execution_count": null,
   "metadata": {},
   "outputs": [],
   "source": [
    "cents = int(input(\"Please enter a number of cents: \"))\n",
    "\n",
    "toonies = int(cents / 200) \n",
    "cents -= toonies * 200\n",
    "\n",
    "loonies = int(cents / 100) \n",
    "cents -= loonies * 100\n",
    "\n",
    "quarters = int(cents/25) \n",
    "cents -= quarters * 25\n",
    "\n",
    "dimes = int(cents/10) \n",
    "cents -= dimes * 10\n",
    "\n",
    "nickels = int(cents/5)\n",
    "\n",
    "pennies = cents\n",
    "\n",
    "print(\"The change using the smallest amount of change is...\")\n",
    "print(\"{} toonies, {} loonies, {} quarters, {} dimes, {} nickels, {} pennies\".format(toonies, loonies, quarters, dimes, nickels, pennies))"
   ]
  },
  {
   "cell_type": "markdown",
   "metadata": {},
   "source": [
    "#### Exercise 14: Height Units\n",
    "\n",
    "Many people think about their height in feet and inches, even in some countries that\n",
    "primarily use the metric system. Write a program that reads a number of feet from\n",
    "the user, followed by a number of inches. Once these values are read, your program\n",
    "should compute and display the equivalent number of centimeters.\n",
    "Hint: One foot is 12 inches. One inch is 2.54 centimeters."
   ]
  },
  {
   "cell_type": "code",
   "execution_count": null,
   "metadata": {},
   "outputs": [],
   "source": [
    "feet = int(input(\"How many feet: \"))\n",
    "inches = int(input(\"How many inches: \"))\n",
    "\n",
    "inches += feet * 12\n",
    "\n",
    "metres = inches * 2.54\n",
    "\n",
    "print(\"This height is {}m.\".format(metres))"
   ]
  },
  {
   "cell_type": "markdown",
   "metadata": {},
   "source": [
    "#### Exercise 15: Distance Units\n",
    "\n",
    "In this exercise, you will create a program that begins by reading a measurement\n",
    "in feet from the user. Then your program should display the equivalent distance in\n",
    "inches, yards and miles. Use the Internet to look up the necessary conversion factors\n",
    "if you don’t have them memorized."
   ]
  },
  {
   "cell_type": "code",
   "execution_count": null,
   "metadata": {},
   "outputs": [],
   "source": [
    "feet = int(input(\"Please enter a distance in feet: \"))\n",
    "\n",
    "miles = feet * 0.000189394\n",
    "yards = feet * 0.333333333\n",
    "inches = feet * 12\n",
    "\n",
    "print(\"In miles: {}\".format(miles))\n",
    "print(\"In yards: {}\".format(yards))\n",
    "print(\"In inches: {}\".format(inches))"
   ]
  },
  {
   "cell_type": "markdown",
   "metadata": {},
   "source": [
    "#### Exercise 16: Area and Volume\n",
    "\n",
    "Write a program that begins by reading a radius, r , from the user. The program will\n",
    "continue by computing and displaying the area of a circle with radius r and the\n",
    "volume of a sphere with radius r . Use the pi constant in the math module in your\n",
    "calculations."
   ]
  },
  {
   "cell_type": "code",
   "execution_count": null,
   "metadata": {},
   "outputs": [],
   "source": [
    "import math\n",
    "radius = float(input(\"Please enter the radius: \"))\n",
    "\n",
    "area = 4 * math.pi * radius * radius\n",
    "volume = 4 / 3 * math.pi * radius * radius * radius\n",
    "print(\"Area : {}\".format(area))\n",
    "print(\"Volume : {}\".format(volume))"
   ]
  },
  {
   "cell_type": "markdown",
   "metadata": {},
   "source": [
    "#### Exercise 17: Heat Capacity\n",
    "\n",
    "The amount of energy required to increase the temperature of one gram of a material\n",
    "by one degree Celsius is the material’s specific heat capacity, C. The total amount\n",
    "of energy required to raise m grams of a material by ΔT degrees Celsius can be\n",
    "computed using the formula:\n",
    "q = mCΔT.\n",
    "Write a program that reads the mass of some water and the temperature change\n",
    "from the user. Your program should display the total amount of energy that must be\n",
    "added or removed to achieve the desired temperature change.\n",
    "Hint: The specific heat capacity of water is 4.186 g ◦ J C . Because water has a den-\n",
    "sity of 1.0 gram per millilitre, you can use grams and millilitres interchangeably\n",
    "in this exercise.\n",
    "Extend your program so that it also computes the cost of heating the water. Elec-\n",
    "tricity is normally billed using units of kilowatt hours rather than Joules. In this\n",
    "exercise, you should assume that electricity costs 8.9 cents per kilowatt-hour. Use\n",
    "your program to compute the cost of boiling water for a cup of coffee."
   ]
  },
  {
   "cell_type": "code",
   "execution_count": null,
   "metadata": {},
   "outputs": [],
   "source": [
    "massofwater = float(input(\"Please enter mass of water: \"))\n",
    "temperatureChange = float(input(\"Please enter temperature: \"))\n",
    "\n",
    "C = 4.186\n",
    "\n",
    "joule = massofwater * C * temperatureChange\n",
    "\n",
    "print(\"Total amount of energy used in Joules is: {}\".format(joule))\n",
    "\n",
    "costperkilowatthour = 8.9\n",
    "kilowatthour = joule *  2.7778e-7 # https://en.wikipedia.org/wiki/Kilowatt-hour\n",
    "\n",
    "cost = costperkilowatthour * kilowatthour\n",
    "\n",
    "print(\"The Total cost is : {}\".format(cost))\n"
   ]
  },
  {
   "cell_type": "markdown",
   "metadata": {},
   "source": [
    "#### Exercise 18: Volume of a Cylinder\n",
    "\n",
    "The volume of a cylinder can be computed by multiplying the area of its circular\n",
    "base by its height. Write a program that reads the radius of the cylinder, along with\n",
    "its height, from the user and computes its volume. Display the result rounded to one\n",
    "decimal place."
   ]
  },
  {
   "cell_type": "code",
   "execution_count": null,
   "metadata": {},
   "outputs": [],
   "source": [
    "import math\n",
    "\n",
    "radius = float(input(\"Please enter the radius of Cylinder: \"))\n",
    "height = float(input(\"Please enter the height of Clinder: \"))\n",
    "\n",
    "Volume = height * math.pi * radius * radius\n",
    "\n",
    "print (\"Volume of Clinder: {}\".format(Volume))"
   ]
  },
  {
   "cell_type": "markdown",
   "metadata": {},
   "source": [
    "#### Exercise 19: Free Fall\n",
    "\n",
    "Create a program that determines how quickly an object is traveling when it hits the\n",
    "ground. The user will enter the height from which the object is dropped in meters (m).\n",
    "Because the object is dropped its initial speed is 0 m/s. Assume\n",
    "that the acceleration\n",
    "\u0002\n",
    "due to gravity is 9.8 m/s 2 . You can use the formula v f = v i 2 + 2ad to compute the\n",
    "final speed, v f , when the initial speed, v i , acceleration, a, and distance, d, are known."
   ]
  },
  {
   "cell_type": "code",
   "execution_count": null,
   "metadata": {},
   "outputs": [],
   "source": [
    "import math\n",
    "\n",
    "height = float(input(\"Please enter a height from which an object is dropped from in meters: \"))\n",
    "\n",
    "acceleration = 9.8\n",
    "finalVelocity = math.sqrt(2 * acceleration * height)\n",
    "\n",
    "print(\"The final velocity when the object hits the ground is {}m/s^2.\".format(finalVelocity))"
   ]
  },
  {
   "cell_type": "markdown",
   "metadata": {},
   "source": [
    "#### Exercise 20: Ideal Gas Law\n",
    "\n",
    "The ideal gas law is a mathematical approximation of the behavior of gasses as\n",
    "pressure, volume and temperature change. It is usually stated as:\n",
    "PV = nRT\n",
    "where P is the pressure in Pascals, V is the volume in liters, n is the amount of\n",
    "substance in moles, R is the ideal gas constant, equal to 8.314 mol J K , and T is the\n",
    "temperature in degrees Kelvin.\n",
    "Write a program that computes the amount of gas in moles when the user supplies\n",
    "the pressure, volume and temperature. Test your program by determining the number\n",
    "of moles of gas in a SCUBA tank. A typical SCUBA tank holds 12 liters of gas at\n",
    "a pressure of 20,000,000 Pascals (approximately 3,000 PSI). Room temperature is\n",
    "approximately 20 degrees Celsius or 68 degrees Fahrenheit. \n",
    "Hint: A temperature is converted from Celsius to Kelvin by adding 273.15\n",
    "to it. To convert a temperature from Fahrenheit to Kelvin, deduct 32 from it,\n",
    "multiply it by 59 and then add 273.15 to it."
   ]
  },
  {
   "cell_type": "code",
   "execution_count": null,
   "metadata": {},
   "outputs": [],
   "source": [
    "Pressure = float(input(\"Please enter pressure in pascal: \"))\n",
    "Volume = float(input(\"Please enter volume in litre: \"))\n",
    "Temperature = float(input(\"Please enter tempeture in kelvin: \"))\n",
    "\n",
    "R = 8.314\n",
    "\n",
    "n = (Pressure * Volume) / (R * Temperature)\n",
    "\n",
    "print(\"The amount of gas in moles for these conditions is {}.\".format(n))"
   ]
  },
  {
   "cell_type": "markdown",
   "metadata": {},
   "source": [
    "#### Exercise 21: Area of a Triangle\n",
    "\n",
    "The area of a triangle can be computed using the following formula, where b is the\n",
    "length of the base of the triangle, and h is its height:\n",
    "b × h\n",
    "2\n",
    "Write a program that allows the user to enter values for b and h. The program\n",
    "should then compute and display the area of a triangle with base length b and height h."
   ]
  },
  {
   "cell_type": "code",
   "execution_count": null,
   "metadata": {},
   "outputs": [],
   "source": [
    "base = float(input(\"Please enter base of triangle: \"))\n",
    "height = float(input(\"Please enter height of triangle: \"))\n",
    "\n",
    "area = (base * height) / 2\n",
    "\n",
    "print(\"The area of this triangle is {} units squared.\".format(area))"
   ]
  },
  {
   "cell_type": "markdown",
   "metadata": {},
   "source": [
    "#### Exercise 22: Area of a Triangle (Again)\n",
    "\n",
    "In the previous exercise you created a program that computed the area of a triangle\n",
    "when the length of its base and its height were known. It is also possible to compute\n",
    "the area of a triangle when the lengths of all three sides are known. Let s 1 , s 2 and s 3\n",
    "be the lengths of the sides. Let s = (s 1 + s 2 + s 3 )/2. Then the area of the triangle\n",
    "can be calculated using the following formula:\n",
    "\u0003\n",
    "area = s × (s − s 1 ) × (s − s 2 ) × (s − s 3 )\n",
    "Develop a program that reads the lengths of the sides of a triangle from the user and\n",
    "displays its area."
   ]
  },
  {
   "cell_type": "code",
   "execution_count": null,
   "metadata": {},
   "outputs": [],
   "source": [
    "import math\n",
    "\n",
    "s1 = float(input(\"Please enter side a of a triangle: \"))\n",
    "s2 = float(input(\"Please enter side b of a triangle: \"))\n",
    "s3= float(input(\"Please enter side c of a triangle: \"))\n",
    "\n",
    "s = (s1+s2+s3) / 2\n",
    "\n",
    "area = math.sqrt(s * (s-s1) * (s-s2) * (s-s3))\n",
    "\n",
    "print(\"The area of the triangle is {} units squared.\".format(area))"
   ]
  },
  {
   "cell_type": "markdown",
   "metadata": {},
   "source": [
    "#### Exercise 23: Area of a Regular Polygon\n",
    "\n",
    "A polygon is regular if its sides are all the same length and the angles between all of\n",
    "the adjacent sides are equal. The area of a regular polygon can be computed using\n",
    "the following formula, where s is the length of a side and n is the number of sides:11\n",
    "n × s 2\n",
    "\u0004 π \u0005\n",
    "4 × tan\n",
    "n\n",
    "Write a program that reads s and n from the user and then displays the area of a\n",
    "regular polygon constructed from these values."
   ]
  },
  {
   "cell_type": "code",
   "execution_count": null,
   "metadata": {},
   "outputs": [],
   "source": [
    "import math\n",
    "\n",
    "s = float(input(\"Please enter the size of a side of a regular polygon: \"))\n",
    "n = float(input(\"Please enter the number of these sides in the regular polygon: \"))\n",
    "\n",
    "area = (n * (s * s)) / (4 * math.tan(math.pi / n))\n",
    "\n",
    "print(\"The area of this polygon is {} units squared.\".format(area))"
   ]
  },
  {
   "cell_type": "markdown",
   "metadata": {},
   "source": [
    "#### Exercise 24: Units of Time\n",
    "\n",
    "Create a program that reads a duration from the user as a number of days, hours,\n",
    "minutes, and seconds. Compute and display the total number of seconds represented\n",
    "by this duration."
   ]
  },
  {
   "cell_type": "code",
   "execution_count": null,
   "metadata": {},
   "outputs": [],
   "source": [
    "days = int(input(\"Please enter a number of days: \"))\n",
    "hours = int(input(\"Please enter a number of hours: \"))\n",
    "minutes = int(input(\"Please enter a number of minutes: \"))\n",
    "seconds = int(input(\"Please enter a number of seconds: \"))\n",
    "\n",
    "totalSeconds = seconds\n",
    "totalSeconds = (seconds + minutes) * 60\n",
    "totalSeconds = (seconds + hours) * 60 * 60\n",
    "totalSeconds = (seconds + days) * 60 * 60 * 24\n",
    "\n",
    "print(\"The total number of seconds is {}.\".format(totalSeconds))"
   ]
  },
  {
   "cell_type": "markdown",
   "metadata": {},
   "source": [
    "#### Exercise 25: Units of Time (Again)\n",
    "\n",
    "In this exercise you will reverse the process described in the previous exercise.\n",
    "Develop a program that begins by reading a number of seconds from the user.\n",
    "Then your program should display the equivalent amount of time in the form\n",
    "D:HH:MM:SS, where D, HH, MM, and SS represent days, hours, minutes and seconds respectively. The hours, minutes and seconds should all be formatted so that they occupy exactly two digits, with a leading 0 displayed if necessary."
   ]
  },
  {
   "cell_type": "code",
   "execution_count": null,
   "metadata": {},
   "outputs": [],
   "source": [
    "totalseconds = int(input(\"Please enter a number of seconds: \"))\n",
    "\n",
    "days = int(totalseconds / 60 / 60 / 24)\n",
    "\n",
    "totalseconds = seconds\n",
    "totalseconds = (seconds - days) * 60 * 60 * 24\n",
    "\n",
    "hours = int(totalseconds / 60 / 60)\n",
    "totalseconds = (seconds - hours) * 60 * 60\n",
    "\n",
    "minutes = int(totalseconds / 60)\n",
    "totalseconds = (seconds - minutes) * 60\n",
    "\n",
    "print(\"The form D:H:M:S : {}:{}:{}:{}\".format(days,hours,minutes,seconds))"
   ]
  },
  {
   "cell_type": "markdown",
   "metadata": {},
   "source": [
    "#### Exercise 26: Current Time\n",
    "\n",
    "Python includes a library of functions for working with time, including a function\n",
    "called asctime in the time module. It reads the current time from the com-\n",
    "puter’s internal clock and returns it in a human-readable format. Write a program\n",
    "that displays the current time and date. Your program will not require any input from\n",
    "the user."
   ]
  },
  {
   "cell_type": "code",
   "execution_count": null,
   "metadata": {},
   "outputs": [],
   "source": [
    "import time\n",
    "\n",
    "print(time.asctime())"
   ]
  },
  {
   "cell_type": "markdown",
   "metadata": {},
   "source": [
    "#### Exercise 27: Body Mass Index\n",
    "\n",
    "Write a program that computes the body mass index (BMI) of an individual. Your\n",
    "program should begin by reading a height and weight from the user. Then it should\n",
    "use one of the following two formulas to compute the BMI before displaying it. If\n",
    "you read the height in inches and the weight in pounds then body mass index is\n",
    "computed using the following formula:\n",
    "BMI =\n",
    "weight\n",
    "× 703.\n",
    "height × height\n",
    "If you read the height in meters and the weight in kilograms then body mass index\n",
    "is computed using this slightly simpler formula:\n",
    "BMI =\n",
    "weight\n",
    ".\n",
    "height × height"
   ]
  },
  {
   "cell_type": "code",
   "execution_count": null,
   "metadata": {},
   "outputs": [],
   "source": [
    "height = int(input(\"Please enter your height in meters: \"))\n",
    "weight = int(input(\"Please enter your weight in kilograms: \"))\n",
    "\n",
    "BMI = weight / (height * height)\n",
    "\n",
    "print(\"The BMI of this person' height and weight is {}.\".format(BMI))"
   ]
  },
  {
   "cell_type": "markdown",
   "metadata": {},
   "source": [
    "#### Exercise 28: Wind Chill\n",
    "\n",
    "When the wind blows in cold weather, the air feels even colder than it actually is\n",
    "because the movement of the air increases the rate of cooling for warm objects, like\n",
    "people. This effect is known as wind chill.\n",
    "In 2001, Canada, the United Kingdom and the United States adopted the fol-\n",
    "lowing formula for computing the wind chill index. Within the formula T a is the\n",
    "air temperature in degrees Celsius and V is the wind speed in kilometers per hour.\n",
    "A similar formula with different constant values can be used with temperatures in\n",
    "degrees Fahrenheit and wind speeds in miles per hour.\n",
    "WCI = 13.12 + 0.6215T a − 11.37V 0.16 + 0.3965T a V 0.16\n",
    "Write a program that begins by reading the air temperature and wind speed from the\n",
    "user. Once these values have been read your program should display the wind chill\n",
    "index rounded to the closest integer.\n",
    "The wind chill index is only considered valid for temperatures less than or\n",
    "equal to 10 degrees Celsius and wind speeds exceeding 4.8 kilometers per\n",
    "hour."
   ]
  },
  {
   "cell_type": "code",
   "execution_count": null,
   "metadata": {},
   "outputs": [],
   "source": [
    "airtemperature = float(input(\"Please enter an air temperature: \"))\n",
    "windspeed = float(input(\"Please enter the wind speed: \"))\n",
    "\n",
    "WCI = 13.12 + (0.6215 * airtemperature) - (11.37 * (windspeed ** 0.16)) + (0.3965 * airtemperature * (windspeed ** 0.16))\n",
    "\n",
    "print(\"WCI (Wind Chill Index) is {}\".fomat(WCI))"
   ]
  },
  {
   "cell_type": "markdown",
   "metadata": {},
   "source": [
    "#### Exercise 29: Celsius to Fahrenheit and Kelvin\n",
    "\n",
    "Write a program that begins by reading a temperature from the user in degrees\n",
    "Celsius. Then your program should display the equivalent temperature in degrees\n",
    "Fahrenheit and degrees Kelvin. The calculations needed to convert between different\n",
    "units of temperature can be found on the internet."
   ]
  },
  {
   "cell_type": "code",
   "execution_count": null,
   "metadata": {},
   "outputs": [],
   "source": [
    "celsius = float(input(\"Please enter a temperature in Celsius: \"))\n",
    "\n",
    "Fahrenheit = ((9 / 5) * celsius ) + 32\n",
    "Kelvin = celsius + 273.15\n",
    "\n",
    "print(\"In Fahrenheit is : {}\".format(Fahrenheit))\n",
    "print(\"In Kelvin is : {}\".format(Kelvin))"
   ]
  },
  {
   "cell_type": "markdown",
   "metadata": {},
   "source": [
    "#### Exercise 30: Units of Pressure\n",
    "\n",
    "In this exercise you will create a program that reads a pressure from the user in kilo-\n",
    "pascals. Once the pressure has been read your program should report the equivalent\n",
    "pressure in pounds per square inch, millimeters of mercury and atmospheres. Use\n",
    "your research skills to determine the conversion factors between these units."
   ]
  },
  {
   "cell_type": "code",
   "execution_count": null,
   "metadata": {},
   "outputs": [],
   "source": [
    "kilopascals = float(input(\"Please enter a pressure in kilo-pascal: \"))\n",
    "\n",
    "PSI = kiloPascals * 0.145037738\n",
    "mmOfMercury = kiloPascals * 7.50062\n",
    "atmospheres = kiloPascals / 101.3\n",
    "\n",
    "print(\"In Pounds Per Square Inch (PSI): {}\".format(PSI))\n",
    "print(\"In Millimetres Of Mercury (mmHg): {}\".format(mmOfMercury))\n",
    "print(\"In Atmospheres (atm): {}\".format(atmospheres))"
   ]
  },
  {
   "cell_type": "markdown",
   "metadata": {},
   "source": [
    "#### Exercise 31: Sum of the Digits in an Integer\n",
    "\n",
    "Develop a program that reads a four-digit integer from the user and displays the sum\n",
    "of the digits in the number. For example, if the user enters 3141 then your program\n",
    "should display 3 + 1 + 4 + 1 = 9."
   ]
  },
  {
   "cell_type": "code",
   "execution_count": null,
   "metadata": {},
   "outputs": [],
   "source": [
    "num = int(input(\"Input a four digit numbers: \"))\n",
    "\n",
    "x  = num // 1000\n",
    "x1 = (num - x * 1000) // 100\n",
    "x2 = (num - x * 1000 - x1 * 100) // 10\n",
    "x3 = num - x * 1000 - x1 * 100 - x2 * 10\n",
    "\n",
    "print(\"The sum of digits in the number is {} + {} + {} + {} \".format(x, x1, x2, x3) )"
   ]
  },
  {
   "cell_type": "markdown",
   "metadata": {},
   "source": [
    "#### Exercise 32: Sort 3 Integers\n",
    "\n",
    "Create a program that reads three integers from the user and displays them in sorted\n",
    "order (from smallest to largest). Use the <b>min</b> and <b>max</b> functions to find the smallest\n",
    "and largest values. The middle value can be found by computing the sum of all three\n",
    "values, and then subtracting the minimum value and the maximum value."
   ]
  },
  {
   "cell_type": "code",
   "execution_count": null,
   "metadata": {},
   "outputs": [],
   "source": [
    "firstNumber = int(input(\"Please enter the first number: \"))\n",
    "secondNumber = int(input(\"Plase enter the second number: \"))\n",
    "thirdNumber = int(input(\"Please enter the third number: \"))\n",
    "\n",
    "smallest = min(firstNumber, secondNumber, thirdNumber)\n",
    "largest = max(firstNumber, secondNumber, thirdNumber)\n",
    "middle = (firstNumber+secondNumber+thirdNumber) - smallest - largest\n",
    "\n",
    "print(\"The values ordered smallest to largest is: {}, {}, {}.\".format(smallest, middle, largest))"
   ]
  },
  {
   "cell_type": "markdown",
   "metadata": {},
   "source": [
    "#### Exercise 33: Day Old Bread\n",
    "\n",
    "A bakery sells loaves of bread for $3.49 each. Day old bread is discounted by 60\n",
    "percent. Write a program that begins by reading the number of loaves of day old\n",
    "bread being purchased from the user. Then your program should display the regular\n",
    "price for the bread, the discount because it is a day old, and the total price. All of the\n",
    "values should be displayed using two decimal places, and the decimal points in all\n",
    "of the numbers should be aligned when reasonable values are entered by the user."
   ]
  },
  {
   "cell_type": "code",
   "execution_count": null,
   "metadata": {},
   "outputs": [],
   "source": [
    "loavesofbread = 3.49\n",
    "discountpercent = 0.60\n",
    "\n",
    "loavesofday = int(input(\"Please enter the number of day old loves of bread being purchased: \"))\n",
    "\n",
    "regularprice = loavesofday * loavesofbread\n",
    "discountedprice = loavesofday * (loavesofbread * discountpercent)\n",
    "\n",
    "print(\"Regular price is $ :\".format(regularprice))\n",
    "print(\"Discount price is $ :\".format(discountedprice))"
   ]
  }
 ],
 "metadata": {
  "kernelspec": {
   "display_name": "Python 3",
   "language": "python",
   "name": "python3"
  },
  "language_info": {
   "codemirror_mode": {
    "name": "ipython",
    "version": 3
   },
   "file_extension": ".py",
   "mimetype": "text/x-python",
   "name": "python",
   "nbconvert_exporter": "python",
   "pygments_lexer": "ipython3",
   "version": "3.7.7"
  }
 },
 "nbformat": 4,
 "nbformat_minor": 4
}
